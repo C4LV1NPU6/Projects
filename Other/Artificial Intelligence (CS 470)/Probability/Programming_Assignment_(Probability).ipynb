{
  "nbformat": 4,
  "nbformat_minor": 0,
  "metadata": {
    "colab": {
      "provenance": []
    },
    "kernelspec": {
      "name": "python3",
      "display_name": "Python 3"
    },
    "language_info": {
      "name": "python"
    }
  },
  "cells": [
    {
      "cell_type": "code",
      "execution_count": null,
      "metadata": {
        "id": "-VJPH2AFgTxU"
      },
      "outputs": [],
      "source": [
        "import random\n",
        "\n",
        "def run (times):\n",
        "  totalmoney = 0\n",
        "  maxmoney = 0\n",
        "  for i in range(times):\n",
        "    tails = False\n",
        "    count = 0\n",
        "    while tails == False:\n",
        "      count += 1\n",
        "      result = random.randint(0, 1)\n",
        "      if result == 1:\n",
        "        tails = True\n",
        "        money = 2**count\n",
        "        totalmoney += money\n",
        "        if money > maxmoney:\n",
        "          maxmoney = money\n",
        "  averagemoney = totalmoney/times\n",
        "\n",
        "  return averagemoney, maxmoney"
      ]
    },
    {
      "cell_type": "code",
      "source": [
        "averagemoney1main = 0\n",
        "maxmoney1main = 0\n",
        "averagemoney2main = 0\n",
        "maxmoney2main = 0\n",
        "averagemoney3main = 0\n",
        "maxmoney3main = 0\n",
        "\n",
        "for i in range(3):\n",
        "  averagemoney1, maxmoney1 = run(100)\n",
        "  averagemoney1main += averagemoney1\n",
        "  maxmoney1main += maxmoney1\n",
        "  averagemoney2, maxmoney2 = run(10000)\n",
        "  averagemoney2main += averagemoney2\n",
        "  maxmoney2main += maxmoney2\n",
        "  averagemoney3, maxmoney3 = run(1000000)\n",
        "  averagemoney3main += averagemoney3\n",
        "  maxmoney3main += maxmoney3\n",
        "\n",
        "print(averagemoney1main/3)\n",
        "print(maxmoney1main/3)\n",
        "print(averagemoney2main/3)\n",
        "print(maxmoney2main/3)\n",
        "print(averagemoney3main/3)\n",
        "print(maxmoney3main/3)\n",
        "\n",
        "print('$20.')"
      ],
      "metadata": {
        "colab": {
          "base_uri": "https://localhost:8080/"
        },
        "id": "k7XpMiP9i8Wp",
        "outputId": "feb0c647-9202-4976-e3ff-cf28b286f2ce"
      },
      "execution_count": null,
      "outputs": [
        {
          "output_type": "stream",
          "name": "stdout",
          "text": [
            "7.06\n",
            "85.33333333333333\n",
            "16.76193333333333\n",
            "30037.333333333332\n",
            "20.251705333333334\n",
            "873813.3333333334\n",
            "$20.\n"
          ]
        }
      ]
    },
    {
      "cell_type": "code",
      "source": [
        "import random\n",
        "\n",
        "def play (times, switch):\n",
        "  wins = 0\n",
        "  for i in range(times):\n",
        "    doors = [0, 1, 2]\n",
        "    car = random.randint(0, 2)\n",
        "    choose = random.randint(0, 2)\n",
        "    doors.remove(car)\n",
        "    if car != choose:\n",
        "      doors.remove(choose)\n",
        "    reveal = random.choice(doors)\n",
        "    doors.remove(reveal)\n",
        "    doors.append(car)\n",
        "    if car != choose:\n",
        "      doors.append(choose)\n",
        "    if switch:\n",
        "      doors.remove(choose)\n",
        "      choose = doors[0]\n",
        "    if car == choose:\n",
        "      wins += 1\n",
        "  return wins/times"
      ],
      "metadata": {
        "id": "6YcBY20algzo"
      },
      "execution_count": null,
      "outputs": []
    },
    {
      "cell_type": "code",
      "source": [
        "switchyes = play(1000, True)\n",
        "switchno = play(1000, False)\n",
        "\n",
        "print(switchyes)\n",
        "print(switchno)\n",
        "print('10+ simulations.')\n",
        "print('Switch: wins 66.67% of the time. No switch: wins 33.33% of the time. When you initially make your choice, you have a 1/3 chance of picking the car, and a 2/3 chance of picking a goat. When the host reveals a goat behind one of the other doors, the probability distribution changes, favoring the strategy of switching doors.')"
      ],
      "metadata": {
        "colab": {
          "base_uri": "https://localhost:8080/"
        },
        "id": "BUm55ph8pggB",
        "outputId": "f9e8d41b-02db-47a8-cd12-beffc7148588"
      },
      "execution_count": null,
      "outputs": [
        {
          "output_type": "stream",
          "name": "stdout",
          "text": [
            "0.673\n",
            "0.323\n",
            "10+ simulations.\n",
            "Switch: wins 66.67% of the time. No switch: wins 33.33% of the time. When you initially make your choice, you have a 1/3 chance of picking the car, and a 2/3 chance of picking a goat. When the host reveals a goat behind one of the other doors, the probability distribution changes, favoring the strategy of switching doors.\n"
          ]
        }
      ]
    },
    {
      "cell_type": "code",
      "source": [
        "import random\n",
        "import bisect\n",
        "\n",
        "\n",
        "def round(attackArmies, defendArmies, attackDice, defendDice):\n",
        "  attackRolls = []\n",
        "  defendRolls = []\n",
        "\n",
        "  for j in range(attackDice):\n",
        "    roll = random.randint(1, 6)\n",
        "    index = bisect.bisect_left(attackRolls, roll)\n",
        "    attackRolls.insert(index, roll)\n",
        "  for j in range(defendDice):\n",
        "    roll = random.randint(1, 6)\n",
        "    index = bisect.bisect_left(defendRolls, roll)\n",
        "    defendRolls.insert(index, roll)\n",
        "\n",
        "  attackRolls = attackRolls[::-1]\n",
        "  defendRolls = defendRolls[::-1]\n",
        "\n",
        "  for i in range(min(attackDice, defendDice)):\n",
        "    if attackRolls[i] > defendRolls[i]:\n",
        "      defendArmies -= 1\n",
        "    else:\n",
        "      attackArmies -= 1\n",
        "\n",
        "  return attackArmies, defendArmies\n",
        "\n",
        "\n",
        "def battle(attackArmies, defendArmies):\n",
        "  while attackArmies > 1 and defendArmies > 0:\n",
        "    attackDice = min(3, attackArmies-1)\n",
        "    defendDice = min(2, defendArmies)\n",
        "    attackArmies, defendArmies = round(attackArmies, defendArmies, attackDice, defendDice)\n",
        "\n",
        "  return attackArmies, defendArmies\n",
        "\n",
        "\n",
        "def game1 (attackDice, defendDice, runs):\n",
        "  totalAttackLosses = 0\n",
        "  totalDefendLosses = 0\n",
        "  for i in range(runs):\n",
        "    attackArmies, defendArmies = round(0, 0, attackDice, defendDice)\n",
        "    totalAttackLosses -= attackArmies\n",
        "    totalDefendLosses -= defendArmies\n",
        "  return attackDice, defendDice, totalAttackLosses/runs, totalDefendLosses/runs\n",
        "\n",
        "\n",
        "def game2 (attackArmies0, defendArmies0, runs):\n",
        "  attackWins = 0\n",
        "  defendWins = 0\n",
        "\n",
        "  for i in range(runs):\n",
        "    attackArmies, defendArmies = battle(attackArmies0, defendArmies0)\n",
        "\n",
        "    if (attackArmies == 1 and defendArmies > 0):\n",
        "      defendWins += 1\n",
        "    elif (defendArmies == 0 and attackArmies > 1):\n",
        "      attackWins += 1\n",
        "\n",
        "  return attackArmies0, defendArmies0, attackWins/runs, defendWins/runs\n",
        "\n",
        "\n",
        "def game3 (attackArmies0, defendArmies0, runs):\n",
        "  outcomes = []\n",
        "  for i in range(2, attackArmies0+1):\n",
        "    outcomes.append([i, 0, 0])\n",
        "  for i in range(1, defendArmies0+1):\n",
        "    outcomes.append([1, i, 0])\n",
        "\n",
        "  for i in range(runs):\n",
        "    attackArmies, defendArmies = battle(attackArmies0, defendArmies0)\n",
        "\n",
        "    for j in range(len(outcomes)):\n",
        "      if attackArmies == outcomes[j][0]:\n",
        "        if defendArmies == outcomes[j][1]:\n",
        "          outcomes[j][2] += 1\n",
        "\n",
        "  for i in range(len(outcomes)):\n",
        "    outcomes[i][2] = outcomes[i][2]/runs\n",
        "\n",
        "  return outcomes"
      ],
      "metadata": {
        "id": "-0uPCEHK4DVl"
      },
      "execution_count": null,
      "outputs": []
    },
    {
      "cell_type": "code",
      "source": [
        "for i in range(1,4):\n",
        "  for j in range(1,3):\n",
        "    print(game1(i, j, 10000))\n",
        "print('No.')"
      ],
      "metadata": {
        "colab": {
          "base_uri": "https://localhost:8080/"
        },
        "id": "7YaKH_AFAc4K",
        "outputId": "ad8dc2f4-828b-4ad9-904c-3170042ebcdb"
      },
      "execution_count": null,
      "outputs": [
        {
          "output_type": "stream",
          "name": "stdout",
          "text": [
            "(1, 1, 0.586, 0.414)\n",
            "(1, 2, 0.7421, 0.2579)\n",
            "(2, 1, 0.4136, 0.5864)\n",
            "(2, 2, 1.215, 0.785)\n",
            "(3, 1, 0.3385, 0.6615)\n",
            "(3, 2, 0.9275, 1.0725)\n",
            "No.\n"
          ]
        }
      ]
    },
    {
      "cell_type": "code",
      "source": [
        "for i in range(2,21):\n",
        "  print(game2(i, 5, 10000))\n",
        "print('7.')\n",
        "print('10.')"
      ],
      "metadata": {
        "colab": {
          "base_uri": "https://localhost:8080/"
        },
        "id": "--vgRrIoFjQ2",
        "outputId": "035eb2be-aab5-4912-9a0e-2260c6a47a42"
      },
      "execution_count": null,
      "outputs": [
        {
          "output_type": "stream",
          "name": "stdout",
          "text": [
            "(2, 5, 0.0016, 0.9984)\n",
            "(3, 5, 0.0463, 0.9537)\n",
            "(4, 5, 0.1986, 0.8014)\n",
            "(5, 5, 0.3559, 0.6441)\n",
            "(6, 5, 0.5009, 0.4991)\n",
            "(7, 5, 0.6448, 0.3552)\n",
            "(8, 5, 0.7421, 0.2579)\n",
            "(9, 5, 0.8181, 0.1819)\n",
            "(10, 5, 0.8707, 0.1293)\n",
            "(11, 5, 0.9211, 0.0789)\n",
            "(12, 5, 0.9421, 0.0579)\n",
            "(13, 5, 0.9608, 0.0392)\n",
            "(14, 5, 0.9759, 0.0241)\n",
            "(15, 5, 0.9817, 0.0183)\n",
            "(16, 5, 0.99, 0.01)\n",
            "(17, 5, 0.9938, 0.0062)\n",
            "(18, 5, 0.9963, 0.0037)\n",
            "(19, 5, 0.9981, 0.0019)\n",
            "(20, 5, 0.9983, 0.0017)\n",
            "7.\n",
            "10.\n"
          ]
        }
      ]
    },
    {
      "cell_type": "code",
      "source": [
        "for element in game3(10, 10, 10000):\n",
        "  print(element)"
      ],
      "metadata": {
        "colab": {
          "base_uri": "https://localhost:8080/"
        },
        "id": "4mtTXOWgN-Wg",
        "outputId": "dc23c52d-41b8-478b-ebc2-5340383859f1"
      },
      "execution_count": null,
      "outputs": [
        {
          "output_type": "stream",
          "name": "stdout",
          "text": [
            "[2, 0, 0.0295]\n",
            "[3, 0, 0.0624]\n",
            "[4, 0, 0.0985]\n",
            "[5, 0, 0.0917]\n",
            "[6, 0, 0.0796]\n",
            "[7, 0, 0.0573]\n",
            "[8, 0, 0.0379]\n",
            "[9, 0, 0.0193]\n",
            "[10, 0, 0.0057]\n",
            "[1, 1, 0.0416]\n",
            "[1, 2, 0.079]\n",
            "[1, 3, 0.0871]\n",
            "[1, 4, 0.0755]\n",
            "[1, 5, 0.0716]\n",
            "[1, 6, 0.0617]\n",
            "[1, 7, 0.0477]\n",
            "[1, 8, 0.0298]\n",
            "[1, 9, 0.0173]\n",
            "[1, 10, 0.0068]\n"
          ]
        }
      ]
    }
  ]
}