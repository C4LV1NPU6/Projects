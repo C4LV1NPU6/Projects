{
  "cells": [
    {
      "cell_type": "markdown",
      "metadata": {
        "id": "DVL7_bgmIAPR"
      },
      "source": [
        "# K-Nearest Neighbor Lab\n",
        "Read over the sklearn info on [nearest neighbor learners](https://scikit-learn.org/stable/modules/neighbors.html#nearest-neighbors-classification)\n",
        "\n",
        "\n"
      ]
    },
    {
      "cell_type": "code",
      "execution_count": 1,
      "metadata": {
        "id": "6ZbYjZZZ_yLV"
      },
      "outputs": [],
      "source": [
        "from sklearn.neighbors import KNeighborsClassifier, KNeighborsRegressor\n",
        "import numpy as np\n",
        "import pandas as pd\n",
        "from scipy.io import arff\n",
        "import matplotlib.pyplot as plt\n",
        "from sklearn.model_selection import train_test_split"
      ]
    },
    {
      "cell_type": "markdown",
      "metadata": {
        "id": "5fx382NwFImH"
      },
      "source": [
        "## 1 K-Nearest Neighbor (KNN) algorithm\n",
        "\n",
        "### 1.1 (15%) Basic KNN Classification\n",
        "\n",
        "Learn the [Glass data set](https://archive.ics.uci.edu/dataset/42/glass+identification) using [KNeighborsClassifier](https://scikit-learn.org/stable/modules/generated/sklearn.neighbors.KNeighborsClassifier.html#sklearn.neighbors.KNeighborsClassifier) with default parameters.\n",
        "- Randomly split your data into train/test.  Anytime we don't tell you specifics (such as what percentage is train vs test) choose your own reasonable values\n",
        "- Give typical train and test set accuracies after running with different random splits\n",
        "- Print the output probabilities for a test set (predict_proba)\n",
        "- Try it with different p values (Minkowskian exponent) and discuss any differences"
      ]
    },
    {
      "cell_type": "code",
      "execution_count": 2,
      "metadata": {
        "id": "Ny2E2Yd-FImI"
      },
      "outputs": [],
      "source": [
        "# Learn the glass data\n",
        "from sklearn.metrics import accuracy_score\n",
        "from sklearn.preprocessing import LabelEncoder\n",
        "\n",
        "def get_glass_xy ():\n",
        "  ds = arff.loadarff('glass.arff')\n",
        "  df = pd.DataFrame(ds[0])\n",
        "\n",
        "  le = LabelEncoder()\n",
        "  df['Type'] = le.fit_transform(df['Type'])\n",
        "\n",
        "  X = df.drop('Type', axis=1)\n",
        "  y = df['Type']\n",
        "\n",
        "  return X, y\n",
        "\n",
        "def glass_knn_classifier(X, y, p=2):\n",
        "  X_train, X_test, y_train, y_test = train_test_split(X, y, test_size=0.2, shuffle=True)\n",
        "\n",
        "  clf = KNeighborsClassifier(p=p)\n",
        "  clf.fit(X_train, y_train)\n",
        "\n",
        "  y_pred_train = clf.predict(X_train)\n",
        "  accuracy_train = accuracy_score(y_train, y_pred_train)\n",
        "  y_pred_test = clf.predict(X_test)\n",
        "  accuracy_test = accuracy_score(y_test, y_pred_test)\n",
        "\n",
        "  return clf, X_test, accuracy_train, accuracy_test"
      ]
    },
    {
      "cell_type": "code",
      "source": [
        "X, y = get_glass_xy()\n",
        "\n",
        "print(\"Typical train+test set accuracies:\")\n",
        "it = 20\n",
        "avg_acc_train = 0\n",
        "avg_acc_test = 0\n",
        "for i in range(it):\n",
        "  clf, X_test, acc_train, acc_test = glass_knn_classifier(X, y)\n",
        "  avg_acc_train += acc_train\n",
        "  avg_acc_test += acc_test\n",
        "avg_acc_train /= it\n",
        "avg_acc_test /= it\n",
        "print(avg_acc_train, avg_acc_test)\n",
        "print()\n",
        "\n",
        "print(\"Output probabilities for a test set:\")\n",
        "clf, X_test, acc_train, acc_test = glass_knn_classifier(X, y)\n",
        "print(clf.predict_proba(X_test))\n",
        "print()\n",
        "\n",
        "print(\"Accuracies for different p values:\")\n",
        "for i in range(1,6):\n",
        "  clf, X_test, acc_train, acc_test = glass_knn_classifier(X, y, i)\n",
        "  print(i, acc_train, acc_test)"
      ],
      "metadata": {
        "colab": {
          "base_uri": "https://localhost:8080/"
        },
        "id": "lVQt6qJLHYni",
        "outputId": "f1237ae2-6829-430d-f03a-2ddad849a946"
      },
      "execution_count": 3,
      "outputs": [
        {
          "output_type": "stream",
          "name": "stdout",
          "text": [
            "Typical train+test set accuracies:\n",
            "0.7649122807017544 0.647674418604651\n",
            "\n",
            "Output probabilities for a test set:\n",
            "[[0.  0.  0.  1.  0.  0. ]\n",
            " [1.  0.  0.  0.  0.  0. ]\n",
            " [0.6 0.4 0.  0.  0.  0. ]\n",
            " [0.6 0.  0.  0.  0.  0.4]\n",
            " [0.  0.6 0.4 0.  0.  0. ]\n",
            " [0.4 0.6 0.  0.  0.  0. ]\n",
            " [0.4 0.  0.  0.  0.  0.6]\n",
            " [0.  0.2 0.  0.  0.8 0. ]\n",
            " [0.  1.  0.  0.  0.  0. ]\n",
            " [0.8 0.  0.  0.  0.  0.2]\n",
            " [0.4 0.  0.  0.  0.  0.6]\n",
            " [0.  0.  0.  1.  0.  0. ]\n",
            " [0.8 0.2 0.  0.  0.  0. ]\n",
            " [0.  0.8 0.2 0.  0.  0. ]\n",
            " [0.  1.  0.  0.  0.  0. ]\n",
            " [0.8 0.  0.  0.  0.  0.2]\n",
            " [0.  0.  0.2 0.  0.8 0. ]\n",
            " [0.2 0.4 0.  0.  0.  0.4]\n",
            " [0.  0.6 0.4 0.  0.  0. ]\n",
            " [0.  0.4 0.4 0.  0.2 0. ]\n",
            " [0.  1.  0.  0.  0.  0. ]\n",
            " [0.4 0.  0.  0.  0.  0.6]\n",
            " [0.4 0.6 0.  0.  0.  0. ]\n",
            " [0.  0.  1.  0.  0.  0. ]\n",
            " [0.  1.  0.  0.  0.  0. ]\n",
            " [0.  0.  0.  1.  0.  0. ]\n",
            " [1.  0.  0.  0.  0.  0. ]\n",
            " [0.  1.  0.  0.  0.  0. ]\n",
            " [0.  0.6 0.4 0.  0.  0. ]\n",
            " [0.2 0.8 0.  0.  0.  0. ]\n",
            " [0.4 0.6 0.  0.  0.  0. ]\n",
            " [0.  0.  0.  1.  0.  0. ]\n",
            " [1.  0.  0.  0.  0.  0. ]\n",
            " [1.  0.  0.  0.  0.  0. ]\n",
            " [0.4 0.2 0.  0.  0.  0.4]\n",
            " [0.4 0.  0.  0.  0.  0.6]\n",
            " [0.6 0.4 0.  0.  0.  0. ]\n",
            " [0.  0.  0.  1.  0.  0. ]\n",
            " [0.2 0.6 0.  0.  0.  0.2]\n",
            " [0.2 0.8 0.  0.  0.  0. ]\n",
            " [1.  0.  0.  0.  0.  0. ]\n",
            " [1.  0.  0.  0.  0.  0. ]\n",
            " [0.6 0.4 0.  0.  0.  0. ]]\n",
            "\n",
            "Accuracies for different p values:\n",
            "1 0.783625730994152 0.5813953488372093\n",
            "2 0.7426900584795322 0.6744186046511628\n",
            "3 0.7602339181286549 0.627906976744186\n",
            "4 0.7777777777777778 0.6046511627906976\n",
            "5 0.7485380116959064 0.5581395348837209\n"
          ]
        }
      ]
    },
    {
      "cell_type": "markdown",
      "metadata": {
        "id": "2e9KM_B4FImI"
      },
      "source": [
        "Discussion\n",
        "\n",
        "In this task I started using the KNNClassifier. I initialized the glass dataset, initialized the KNNClassifier, and trained the KNNClassifier on the glass dataset. I did this because I wanted to learn how to use the KNNClassifier. The accuracies are lower than in previous labs. This may be because of the glass dataset, or it might be an inherent weakness of the KNNClassifier. Note that the output probabilities for the test set are based on fifths. I was surprised to observe that using lower-than-default p values gives better accuracies than the default p value. I am not sure why this is, but my hypothesis is that using the manhattan distance is better than using the other distances."
      ]
    },
    {
      "cell_type": "markdown",
      "metadata": {
        "id": "9vWiTdlbR2Xh"
      },
      "source": [
        "## 2 KNN Classification with normalization and distance weighting\n",
        "\n",
        "Use the [magic telescope](https://axon.cs.byu.edu/data/uci_class/MagicTelescope.arff) dataset\n",
        "\n",
        "### 2.1 (5%) - Without Normalization or Distance Weighting\n",
        "- Do random 80/20 train/test splits each time\n",
        "- Run with k=3 and *without* distance weighting and *without* normalization\n",
        "- Show train and test set accuracy"
      ]
    },
    {
      "cell_type": "code",
      "execution_count": 4,
      "metadata": {
        "id": "4SSoasDQSKXb"
      },
      "outputs": [],
      "source": [
        "from sklearn.preprocessing import MinMaxScaler\n",
        "\n",
        "def get_telescope_xy ():\n",
        "  ds = arff.loadarff('MagicTelescope.arff')\n",
        "  df = pd.DataFrame(ds[0])\n",
        "\n",
        "  le = LabelEncoder()\n",
        "  df['class:'] = le.fit_transform(df['class:'])\n",
        "\n",
        "  X = df.drop('class:', axis=1)\n",
        "  y = df['class:']\n",
        "\n",
        "  return X, y\n",
        "\n",
        "def telescope_knn_classifier(X, y, n_n, w, normalization, shfl):\n",
        "  if normalization:\n",
        "    scaler = MinMaxScaler(feature_range=(0, 1))\n",
        "    scaler.fit(X)\n",
        "    X = scaler.transform(X)\n",
        "\n",
        "  X_train, X_test, y_train, y_test = train_test_split(X, y, test_size=0.2, shuffle=shfl)\n",
        "\n",
        "  clf = KNeighborsClassifier(n_neighbors=n_n, weights=w)\n",
        "  clf.fit(X_train, y_train)\n",
        "\n",
        "  y_pred_train = clf.predict(X_train)\n",
        "  accuracy_train = accuracy_score(y_train, y_pred_train)\n",
        "  y_pred_test = clf.predict(X_test)\n",
        "  accuracy_test = accuracy_score(y_test, y_pred_test)\n",
        "\n",
        "  return accuracy_train, accuracy_test"
      ]
    },
    {
      "cell_type": "code",
      "source": [
        "# Learn magic telescope data\n",
        "\n",
        "X, y = get_telescope_xy()\n",
        "\n",
        "print(telescope_knn_classifier(X, y, 3, \"uniform\", False, True))"
      ],
      "metadata": {
        "colab": {
          "base_uri": "https://localhost:8080/"
        },
        "id": "kGGFC6FoY_nG",
        "outputId": "bfcc32ef-3869-4d18-a510-78a4424b00a0"
      },
      "execution_count": 5,
      "outputs": [
        {
          "output_type": "stream",
          "name": "stdout",
          "text": [
            "(0.8876182965299685, 0.7983701366982124)\n"
          ]
        }
      ]
    },
    {
      "cell_type": "markdown",
      "metadata": {
        "id": "on9mz3nXFImJ"
      },
      "source": [
        "*Discussion*\n",
        "\n",
        "In this task I used the KNNClassifier with k=3. I initialized the telescope dataset, initialized the KNNClassifier function, and ran it on the dataset with k=3. I did this because I wanted to see how it performed with k=3. The accuracy is a lot higher than k=5. This is because the model can fit the data more closely. Note that this improvement applies to both the training and testing sets."
      ]
    },
    {
      "cell_type": "markdown",
      "metadata": {
        "id": "Vx0L0GJ-FImJ"
      },
      "source": [
        "### 2.2 (10%) With Normalization\n",
        "- Try it with k=3 without distance weighting but *with* normalization of input features.  You may use any reasonable normalization approach (e.g. standard min-max normalization between 0-1, z-transform, etc.)"
      ]
    },
    {
      "cell_type": "code",
      "execution_count": 6,
      "metadata": {
        "colab": {
          "base_uri": "https://localhost:8080/"
        },
        "id": "FWCIemw6FImJ",
        "outputId": "397fb7db-891f-4771-fe73-83c29172943a"
      },
      "outputs": [
        {
          "output_type": "stream",
          "name": "stdout",
          "text": [
            "(0.9018796004206099, 0.8301787592008412)\n"
          ]
        }
      ],
      "source": [
        "# Train/Predict with normalization\n",
        "\n",
        "X, y = get_telescope_xy()\n",
        "\n",
        "print(telescope_knn_classifier(X, y, 3, \"uniform\", True, True))"
      ]
    },
    {
      "cell_type": "markdown",
      "metadata": {
        "id": "btfsza5YFImJ"
      },
      "source": [
        "*Discuss the results of using normalized data vs. unnormalized data*\n",
        "\n",
        "In this task I used the KNNClassifier with normalized data. I changed the KNNClassifier function to use normalization and ran it on the dataset with normalization enabled. I did this because I wanted to see how it compared with the non-normalized version. The accuracy is a bit higher than without normalization. This is because normalization stops the larger values from dominating the model. Note that this improvement improves the testing set more than the training set. I was surprised to observe that the accuracies didn't improve significantly. I am not sure why the improvement is smaller, but my hypothesis is that this dataset doesn't have big enough numbers to make normalization make a significant difference."
      ]
    },
    {
      "cell_type": "markdown",
      "metadata": {
        "id": "m9xb3M5pFImJ"
      },
      "source": [
        "### 2.3 (10%) With Distance Weighting\n",
        "- Try it with k=3 and with distance weighting *and* normalization"
      ]
    },
    {
      "cell_type": "code",
      "execution_count": 7,
      "metadata": {
        "colab": {
          "base_uri": "https://localhost:8080/"
        },
        "id": "Cbn9Q4vIFImK",
        "outputId": "1db1a601-b874-416c-d6ad-eb4b30b960be"
      },
      "outputs": [
        {
          "output_type": "stream",
          "name": "stdout",
          "text": [
            "(1.0, 0.8427970557308097)\n"
          ]
        }
      ],
      "source": [
        "#Train/Precdict with normalization and distance weighting\n",
        "\n",
        "X, y = get_telescope_xy()\n",
        "\n",
        "print(telescope_knn_classifier(X, y, 3, \"distance\", True, True))"
      ]
    },
    {
      "cell_type": "markdown",
      "metadata": {
        "id": "JAuugeQgFImK"
      },
      "source": [
        "Comparison and Discussion\n",
        "\n",
        "In this task I used the KNNClassifier with distance weighting. I changed the KNNClassifier function to use distance weighting and ran it on the dataset with distance weighting enabled. I did this because I wanted to see how it compared with the uniform-weighted version. The accuracy is a lot higher than with uniform weighting. This is because distance weighting leverages the spatial relationship between data points. I was surprised to observe that the accuracies only improved for the training set. I am not sure why there is no test set improvement, but my hypothesis is that distance weighting on this dataset makes the model overfit the data, at least with k=3 and normalization."
      ]
    },
    {
      "cell_type": "markdown",
      "metadata": {
        "id": "VzUtuB1qFImK"
      },
      "source": [
        "### 2.4 (10%) Different k Values\n",
        "- Using your normalized data with distance weighting, create one graph with classification accuracy on the test set on the y-axis and k values on the x-axis.\n",
        "- Use values of k from 1 to 15.  Use the same train/test split for each."
      ]
    },
    {
      "cell_type": "code",
      "execution_count": 8,
      "metadata": {
        "id": "GS-BKRP-FImK",
        "colab": {
          "base_uri": "https://localhost:8080/",
          "height": 449
        },
        "outputId": "cbd57784-d088-4e53-ee3d-9796dbedd5ff"
      },
      "outputs": [
        {
          "output_type": "display_data",
          "data": {
            "text/plain": [
              "<Figure size 640x480 with 1 Axes>"
            ],
            "image/png": "[encoded data removed]"
          },
          "metadata": {}
        }
      ],
      "source": [
        "# Calculate and Graph classification accuracy vs k values\n",
        "\n",
        "k_vals = []\n",
        "test_accs = []\n",
        "\n",
        "for i in range(1, 16):\n",
        "  k_vals.append(i)\n",
        "  tr_a, te_a = telescope_knn_classifier(X, y, i, \"distance\", True, False)\n",
        "  test_accs.append(te_a)\n",
        "\n",
        "plt.plot(k_vals, test_accs)\n",
        "plt.xlabel(\"k values\")\n",
        "plt.ylabel(\"test set accuracy\")\n",
        "plt.show()"
      ]
    },
    {
      "cell_type": "markdown",
      "metadata": {
        "id": "tkeyocWPFImL"
      },
      "source": [
        "*Discussion*\n",
        "\n",
        "In this task I trained the KNNClassifier with different k values. I created a loop to test the KNNClassifier on k values 1-15, ran the KNNClassifier with each k value, and graphed the accuracy with respect to k value. I did this because I wanted to see which k values performed the best. As you can see, larger k values lead to lower accuracy. This is because sorting into larger groups results in underfitting. Note that a k value of 2 seems to perform the best. I was surprised to observe that the highest accuracy was around 60%. I am not sure why it's so low this time, but my hypothesis is that the overfitting brought about by distance weighting, combined with the lack of shuffling when splitting the data, results in a significant drop in test accuracy."
      ]
    },
    {
      "cell_type": "markdown",
      "metadata": {
        "id": "SIRG42TgSR4x"
      },
      "source": [
        "## 3 KNN Regression with normalization and distance weighting\n",
        "\n",
        "Use the [sklean KNeighborsRegressor](https://scikit-learn.org/stable/modules/generated/sklearn.neighbors.KNeighborsRegressor.html#sklearn.neighbors.KNeighborsRegressor) on the [housing price prediction](https://axon.cs.byu.edu/data/uci_regression/housing.arff) problem.  \n",
        "### 3.1 (5%) Ethical Data\n",
        "Note this data set has an example of an inappropriate input feature which we discussed.  State which feature is inappropriate and discuss why."
      ]
    },
    {
      "cell_type": "markdown",
      "metadata": {
        "id": "CmJ8xQ7NFImL"
      },
      "source": [
        "*Discuss the innapropriate feature*\n",
        "\n",
        "The inappropriate feature in the dataset is \"B\" (1000(Bk - 0.63)^2 where Bk is the proportion of blacks by town). This feature is inappropriate for several reasons. It explicitly uses the proportion of a specific racial group (Blacks) in the dataset. This can lead to biased models that perpetuate discrimination or unfairness based on race. Utilizing data based on someone's race raises significant privacy concerns. It can lead to profiling and discrimination against individuals based on their race, which is a violation of their fundamental rights. The target variable in this dataset is \"MEDV\" (Median value of owner-occupied homes). While it's tempting to consider factors influencing housing prices, using racial demographics is unlikely to be a relevant or ethical predictor, and its inclusion can lead to false correlations and inaccurate models."
      ]
    },
    {
      "cell_type": "markdown",
      "metadata": {
        "id": "iiybyVafFImL"
      },
      "source": [
        "### 3.2 (15%) - KNN Regression\n",
        "- Do random 80/20 train/test splits each time\n",
        "- Run with k=3\n",
        "- Print the score (coefficient of determination) and Mean Absolute Error (MAE) for the train and test set for the cases of\n",
        "  - No input normalization and no distance weighting\n",
        "  - Normalization and no distance weighting\n",
        "  - Normalization and distance weighting\n",
        "- Normalize inputs features where needed but do not normalize the output"
      ]
    },
    {
      "cell_type": "code",
      "execution_count": 9,
      "metadata": {
        "id": "KBGUn43ASiXW"
      },
      "outputs": [],
      "source": [
        "# Learn and experiment with housing price prediction data\n",
        "from sklearn.metrics import mean_absolute_error\n",
        "from sklearn.metrics import r2_score\n",
        "\n",
        "def get_housing_xy ():\n",
        "  ds = arff.loadarff('housing.arff')\n",
        "  df = pd.DataFrame(ds[0])\n",
        "\n",
        "  dnp = df.to_numpy()\n",
        "  X = dnp[:, :-1]\n",
        "  y = dnp[:, -1]\n",
        "\n",
        "  return X, y\n",
        "\n",
        "def housing_knn_regressor(X, y, n_n, w, norm, shfl):\n",
        "  if norm:\n",
        "    scaler = MinMaxScaler(feature_range=(0, 1))\n",
        "    scaler.fit(X)\n",
        "    X = scaler.transform(X)\n",
        "\n",
        "  X_train, X_test, y_train, y_test = train_test_split(X, y, test_size=0.2, shuffle=shfl)\n",
        "\n",
        "  clf = KNeighborsRegressor(n_neighbors=n_n, weights=w)\n",
        "  clf.fit(X_train, y_train)\n",
        "\n",
        "  y_pred_train = clf.predict(X_train)\n",
        "  MAE_train = mean_absolute_error(y_pred_train, y_train)\n",
        "  r2_train = r2_score(y_train, y_pred_train)\n",
        "\n",
        "  y_pred_test = clf.predict(X_test)\n",
        "  MAE_test = mean_absolute_error(y_pred_test, y_test)\n",
        "  r2_test = r2_score(y_test, y_pred_test)\n",
        "\n",
        "  return r2_train, MAE_train, r2_test, MAE_test"
      ]
    },
    {
      "cell_type": "code",
      "source": [
        "X, y = get_housing_xy()\n",
        "\n",
        "r2_train, MAE_train, r2_test, MAE_test = housing_knn_regressor(X, y, 3, \"uniform\", False, True)\n",
        "\n",
        "print(\"Train score:\", r2_train)\n",
        "print(\"Train MAE:\", MAE_train)\n",
        "print(\"Test score:\", r2_test)\n",
        "print(\"Test MAE:\", MAE_test)"
      ],
      "metadata": {
        "colab": {
          "base_uri": "https://localhost:8080/"
        },
        "id": "776jRicYAfRE",
        "outputId": "efcedb32-3909-4eab-ddcc-7f1b10de27a1"
      },
      "execution_count": 10,
      "outputs": [
        {
          "output_type": "stream",
          "name": "stdout",
          "text": [
            "Train score: 0.7797912787596496\n",
            "Train MAE: 2.928135313531353\n",
            "Test score: 0.48846155346469877\n",
            "Test MAE: 4.111111111111111\n"
          ]
        }
      ]
    },
    {
      "cell_type": "code",
      "source": [
        "X, y = get_housing_xy()\n",
        "\n",
        "r2_train, MAE_train, r2_test, MAE_test = housing_knn_regressor(X, y, 3, \"uniform\", True, True)\n",
        "\n",
        "print(\"Train score:\", r2_train)\n",
        "print(\"Train MAE:\", MAE_train)\n",
        "print(\"Test score:\", r2_test)\n",
        "print(\"Test MAE:\", MAE_test)"
      ],
      "metadata": {
        "colab": {
          "base_uri": "https://localhost:8080/"
        },
        "id": "aiXF9eeGJ4Hc",
        "outputId": "c9ea056b-43e6-46c4-88c9-0de26d2240e8"
      },
      "execution_count": 11,
      "outputs": [
        {
          "output_type": "stream",
          "name": "stdout",
          "text": [
            "Train score: 0.8919821243412528\n",
            "Train MAE: 1.927062706270627\n",
            "Test score: 0.8135809540524622\n",
            "Test MAE: 2.920915032679738\n"
          ]
        }
      ]
    },
    {
      "cell_type": "code",
      "source": [
        "X, y = get_housing_xy()\n",
        "\n",
        "r2_train, MAE_train, r2_test, MAE_test = housing_knn_regressor(X, y, 3, \"distance\", True, True)\n",
        "\n",
        "print(\"Train score:\", r2_train)\n",
        "print(\"Train MAE:\", MAE_train)\n",
        "print(\"Test score:\", r2_test)\n",
        "print(\"Test MAE:\", MAE_test)"
      ],
      "metadata": {
        "colab": {
          "base_uri": "https://localhost:8080/"
        },
        "id": "HEJoJRZBJ5fR",
        "outputId": "181e5fb9-f74c-4aec-b3f5-b298a85cc83b"
      },
      "execution_count": 12,
      "outputs": [
        {
          "output_type": "stream",
          "name": "stdout",
          "text": [
            "Train score: 1.0\n",
            "Train MAE: 0.0\n",
            "Test score: 0.8030696976328193\n",
            "Test MAE: 2.1738420350886623\n"
          ]
        }
      ]
    },
    {
      "cell_type": "markdown",
      "metadata": {
        "id": "BqpBMeTcFImL"
      },
      "source": [
        "*Discuss your results*\n",
        "\n",
        "In this task I used the KNNRegressor with distance weighting and/or normalization. I changed the KNNClassifier function to use a KNNRegressor and ran it on the housing dataset with distance weighting and/or normalization enabled. I did this because I wanted to see how KNNRegressor performs with these different hyperparameters. The accuracy improves as more of these hyperparameters are enabled. This is because using them grants the same benefits as they do for the KNNClassifier. Note that the training accuracy improves much more than the testing accuracy. I was surprised to observe that the algorithm has perfect accuracy when both hyperparameters are enabled. I am not sure why this is, but my hypothesis is that the KNNRegressor memorized the training dataset."
      ]
    },
    {
      "cell_type": "markdown",
      "metadata": {
        "id": "8fJ73ttCFImL"
      },
      "source": [
        "### 3.3 (10%)  Different k Values\n",
        "- Using housing with normalized data and distance weighting, create one graph with MAE on the test set on the y-axis and k values on the x-axis\n",
        "- Use values of k from 1 to 15.  Use the same train/test split for each."
      ]
    },
    {
      "cell_type": "code",
      "execution_count": 13,
      "metadata": {
        "id": "Lq4gv-olFImM",
        "colab": {
          "base_uri": "https://localhost:8080/",
          "height": 449
        },
        "outputId": "9479a703-f31f-440e-f480-ebdfdd256361"
      },
      "outputs": [
        {
          "output_type": "display_data",
          "data": {
            "text/plain": [
              "<Figure size 640x480 with 1 Axes>"
            ],
            "image/png": "[encoded data removed]"
          },
          "metadata": {}
        }
      ],
      "source": [
        "# Learn and graph for different k values\n",
        "\n",
        "k_vals = []\n",
        "test_MAEs = []\n",
        "\n",
        "for i in range(1, 16):\n",
        "  k_vals.append(i)\n",
        "  tr_r2, tr_mae, te_r2, te_mae = housing_knn_regressor(X, y, i, \"distance\", True, False)\n",
        "  test_MAEs.append(te_mae)\n",
        "\n",
        "plt.plot(k_vals, test_MAEs)\n",
        "plt.xlabel(\"k values\")\n",
        "plt.ylabel(\"test set MAE\")\n",
        "plt.show()"
      ]
    },
    {
      "cell_type": "markdown",
      "metadata": {
        "id": "1ov_6BO1FImM"
      },
      "source": [
        "Discussion\n",
        "\n",
        "In this task I trained the KNNRegressor with different k values. I created a loop to test the KNNRegressor on k values 1-15, ran the KNNRegressor with each k value, and graphed the MAE with respect to k value. I did this because I wanted to see which k values performed the best. As you can see, a k value of 4 is the best for this dataset. This is because sorting into smaller/larger groups results in overfitting/underfitting. Note that too-small k values performs much worse than too-large k values. I was surprised to observe that the best k value didn't match the best k value from the KNNClassifier. I am not sure why they are different, but my hypothesis is that it has something to do with the inherent differences between the two algorithms."
      ]
    },
    {
      "cell_type": "markdown",
      "metadata": {
        "id": "q34toFxVFImM"
      },
      "source": [
        "## 4. (20%) KNN with nominal and real data\n",
        "\n",
        "- Use the [lymph dataset](https://axon.cs.byu.edu/data/uci_class/lymph.arff)\n",
        "- Use a 80/20 split of the data for the training/test set\n",
        "- This dataset has both continuous and nominal attributes\n",
        "- Implement a distance metric which uses Euclidean distance for continuous features and 0/1 distance for nominal. Hints:\n",
        "    - Write your own distance function (e.g. mydist) and use clf = KNeighborsClassifier(metric=mydist)\n",
        "    - Change the nominal features in the data set to integer values since KNeighborsClassifier expects numeric features. I used Label_Encoder on the nominal features.\n",
        "    - Keep a list of which features are nominal which mydist can use to decide which distance measure to use\n",
        "    - There was an occasional bug in SK version 1.3.0 (\"Flags object has no attribute 'c_contiguous'\") that went away when I upgraded to the lastest SK version 1.3.1\n",
        "- Use your own choice for k and other parameters"
      ]
    },
    {
      "cell_type": "code",
      "execution_count": 26,
      "metadata": {
        "id": "2qRAS9dAFImM"
      },
      "outputs": [],
      "source": [
        "# Train/Predict lymph with your own distance metric\n",
        "\n",
        "nominal_features = [\n",
        "    'lymphatics',\n",
        "    'block_of_affere',\n",
        "    'bl_of_lymph_c',\n",
        "    'bl_of_lymph_s',\n",
        "    'by_pass',\n",
        "    'extravasates',\n",
        "    'regeneration_of',\n",
        "    'early_uptake_in',\n",
        "    'changes_in_lym',\n",
        "    'defect_in_node',\n",
        "    'changes_in_node',\n",
        "    'changes_in_stru',\n",
        "    'special_forms',\n",
        "    'dislocation_of',\n",
        "    'exclusion_of_no',\n",
        "    'class'\n",
        "]\n",
        "\n",
        "def get_lymph_xy ():\n",
        "  ds = arff.loadarff('lymph.arff')\n",
        "  df = pd.DataFrame(ds[0])\n",
        "\n",
        "  le = LabelEncoder()\n",
        "  for feature in nominal_features:\n",
        "    df[feature] = le.fit_transform(df[feature])\n",
        "\n",
        "  X = df.drop('class', axis=1)\n",
        "  y = df['class']\n",
        "\n",
        "  return X, y\n",
        "\n",
        "def mydist (x, y):\n",
        "  col_list = [1,1,1,1,1,1,1,1,0,0,1,1,1,1,1,1,1,0]\n",
        "  total_dist = 0\n",
        "  for i,col in enumerate(col_list):\n",
        "    if col==1 and x[i] != y[i]:\n",
        "      total_dist += 1\n",
        "    elif col==0:\n",
        "      total_dist += (x[i] - y[i])**2\n",
        "  return np.sqrt(total_dist)\n",
        "\n",
        "def lymph_knn_classifier(X, y):\n",
        "  X_train, X_test, y_train, y_test = train_test_split(X, y, test_size=0.2, shuffle=True)\n",
        "\n",
        "  clf = KNeighborsClassifier(metric=mydist)\n",
        "  clf.fit(X_train, y_train)\n",
        "\n",
        "  y_pred_train = clf.predict(X_train)\n",
        "  accuracy_train = accuracy_score(y_train, y_pred_train)\n",
        "  y_pred_test = clf.predict(X_test)\n",
        "  accuracy_test = accuracy_score(y_test, y_pred_test)\n",
        "\n",
        "  return accuracy_train, accuracy_test"
      ]
    },
    {
      "cell_type": "code",
      "source": [
        "X, y = get_lymph_xy()\n",
        "\n",
        "print(lymph_knn_classifier(X, y))"
      ],
      "metadata": {
        "colab": {
          "base_uri": "https://localhost:8080/"
        },
        "id": "u4rD3zuL-3QD",
        "outputId": "0e399cbb-fcba-40a2-af0a-f576f5d4a01f"
      },
      "execution_count": 37,
      "outputs": [
        {
          "output_type": "stream",
          "name": "stdout",
          "text": [
            "(0.8813559322033898, 0.8333333333333334)\n"
          ]
        }
      ]
    },
    {
      "cell_type": "markdown",
      "metadata": {
        "id": "ytdgwANuFImM"
      },
      "source": [
        "*Explain your distance metric and discuss your results*\n",
        "\n",
        "In this task I trained the KNNClassifier with a custom distance function. I set up the lymph dataset, made my own distance function as per the above instructions, and ran the KNNClassifier on the lymph dataset using the custom distance function. I did this because I wanted to see how the KNNClassifier performed with the custom distance function. The distance function uses 0/1 for identical/different nominal values and the euclidean distance for continuous values. This is because it is hard to quanitfy the distance between nominal values. Note that the train and test accuracies are both consistently above 75%. I was surprised to observe this accuracy given the nominal distance problem stated earlier. I am not sure why it performs so well using this 0/1 distance function, but my hypothesis is that the dataset has enough data to negate the dip in accuracy from the 0/1 distance function."
      ]
    }
  ],
  "metadata": {
    "colab": {
      "provenance": []
    },
    "kernelspec": {
      "display_name": "Python 3.10.7 64-bit",
      "language": "python",
      "name": "python3"
    },
    "language_info": {
      "codemirror_mode": {
        "name": "ipython",
        "version": 3
      },
      "file_extension": ".py",
      "mimetype": "text/x-python",
      "name": "python",
      "nbconvert_exporter": "python",
      "pygments_lexer": "ipython3",
      "version": "3.10.7"
    },
    "vscode": {
      "interpreter": {
        "hash": "aee8b7b246df8f9039afb4144a1f6fd8d2ca17a180786b69acc140d282b71a49"
      }
    }
  },
  "nbformat": 4,
  "nbformat_minor": 0
}