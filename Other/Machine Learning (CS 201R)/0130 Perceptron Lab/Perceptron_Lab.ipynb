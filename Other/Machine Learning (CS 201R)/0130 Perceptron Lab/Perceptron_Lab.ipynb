{
  "cells": [
    {
      "cell_type": "markdown",
      "metadata": {
        "id": "DVL7_bgmIAPR"
      },
      "source": [
        "# Perceptron Lab"
      ]
    },
    {
      "cell_type": "markdown",
      "metadata": {
        "id": "rBIfzcfn3QPO"
      },
      "source": [
        "This is the scaffold notebook for the perceptron lab and each lab will have a similar scaffold.  Make your own copy of this notebook and then you can fill in the tasks.  **You will fill in code boxes and test boxes with discussion for most tasks** and particularly discussion of results, graphs, etc. Good writing, grammar, punctuation, etc. are important and points will be taken off if these things are lacking.\n",
        "\n",
        "In most cases just reporting results without discussion will not receive full credit. Thus, your discussion should also include sentences like the following: This is because…  Note that the …  I was surprised to observe… I am not sure why …, but my hypothesis is that …\n",
        "\n",
        "Start by looking over the scikit-learn [user guide](https://scikit-learn.org/stable/user_guide.html) and carefully reading over the [perceptron documentation](https://scikit-learn.org/stable/modules/generated/sklearn.linear_model.Perceptron.html)."
      ]
    },
    {
      "cell_type": "code",
      "execution_count": null,
      "metadata": {
        "id": "6ZbYjZZZ_yLV"
      },
      "outputs": [],
      "source": [
        "# imports\n",
        "import numpy as np\n",
        "from scipy.io import arff\n",
        "import pandas as pd"
      ]
    },
    {
      "cell_type": "markdown",
      "metadata": {
        "id": "KibCIXIThpbE"
      },
      "source": [
        "## 1. Debug and Evaluation\n",
        "\n",
        "For most labs we will give you some data and expected results so that you can verify that you are doing things right and getting appropriate results.  We will then have you run on some other data with the exact same hyperparameters so we can see if your results are correct.\n",
        "\n",
        "### 1.1 Debug (5%)\n",
        "Download this [data set](https://raw.githubusercontent.com/cs472ta/CS472/master/datasets/linsep2nonorigin.arff) into your local directory and name it debug.arff.  To download rather than view, right-click the link and save as.  To allow consistent results run the Perceptron using the following hyperparameters:\n",
        "- Learning rate = .1\n",
        "- Do NOT shuffle the data after every epoch like you would normally do\n",
        "- Learn for a maximum of 10 epochs\n",
        "- Start all weights at 0 (which is the default for this scikit-learn implementation)  \n",
        "\n",
        "Your results should be:\n",
        "Accuracy = [.875]\\\n",
        "Final Weights = [[-0.23  0.18]]\\\n",
        "[-0.1] - This last weight is the bias weight, which they call the intercept.\n",
        "\n",
        "To help you with this first task, following is one detailed variation that would do this for you. You may use your own variation.  Note that commonly used variable names in the community are clf (classifier), X (array of input features), y (vector of output labels)."
      ]
    },
    {
      "cell_type": "code",
      "execution_count": null,
      "metadata": {
        "id": "KgAyy82gixIF",
        "colab": {
          "base_uri": "https://localhost:8080/"
        },
        "outputId": "72feeca0-28f3-4d79-c73a-680db6a4cd6a"
      },
      "outputs": [
        {
          "output_type": "stream",
          "name": "stdout",
          "text": [
            "-- Epoch 1\n",
            "Norm: 0.04, NNZs: 2, Bias: -0.100000, T: 8, Avg. loss: 0.013500\n",
            "Total training time: 0.00 seconds.\n",
            "-- Epoch 2\n",
            "Norm: 0.07, NNZs: 2, Bias: -0.100000, T: 16, Avg. loss: 0.011875\n",
            "Total training time: 0.00 seconds.\n",
            "-- Epoch 3\n",
            "Norm: 0.11, NNZs: 2, Bias: -0.100000, T: 24, Avg. loss: 0.010250\n",
            "Total training time: 0.01 seconds.\n",
            "-- Epoch 4\n",
            "Norm: 0.14, NNZs: 2, Bias: -0.100000, T: 32, Avg. loss: 0.008625\n",
            "Total training time: 0.01 seconds.\n",
            "-- Epoch 5\n",
            "Norm: 0.18, NNZs: 2, Bias: -0.100000, T: 40, Avg. loss: 0.007000\n",
            "Total training time: 0.01 seconds.\n",
            "-- Epoch 6\n",
            "Norm: 0.21, NNZs: 2, Bias: -0.100000, T: 48, Avg. loss: 0.005375\n",
            "Total training time: 0.01 seconds.\n",
            "-- Epoch 7\n",
            "Norm: 0.23, NNZs: 2, Bias: -0.100000, T: 56, Avg. loss: 0.008250\n",
            "Total training time: 0.01 seconds.\n",
            "-- Epoch 8\n",
            "Norm: 0.25, NNZs: 2, Bias: -0.100000, T: 64, Avg. loss: 0.007625\n",
            "Total training time: 0.01 seconds.\n",
            "-- Epoch 9\n",
            "Norm: 0.27, NNZs: 2, Bias: -0.100000, T: 72, Avg. loss: 0.007000\n",
            "Total training time: 0.01 seconds.\n",
            "-- Epoch 10\n",
            "Norm: 0.29, NNZs: 2, Bias: -0.100000, T: 80, Avg. loss: 0.006375\n",
            "Total training time: 0.01 seconds.\n",
            "(array([[-0.23,  0.18]]), array([-0.1]), 0.875)\n"
          ]
        },
        {
          "output_type": "stream",
          "name": "stderr",
          "text": [
            "/usr/local/lib/python3.10/dist-packages/sklearn/linear_model/_stochastic_gradient.py:702: ConvergenceWarning: Maximum number of iteration reached before convergence. Consider increasing max_iter to improve the fit.\n",
            "  warnings.warn(\n"
          ]
        }
      ],
      "source": [
        "from sklearn.linear_model import Perceptron\n",
        "\n",
        "def getXY (file_name):\n",
        "  Data_Set = arff.loadarff(file_name)\n",
        "  Data_Set_df = pd.DataFrame(Data_Set[0])\n",
        "  Data_Set_np = Data_Set_df.to_numpy()\n",
        "  Data_Set_np = Data_Set_np.astype(float)\n",
        "  X = Data_Set_np[:, :-1]\n",
        "  y = Data_Set_np[:, -1]\n",
        "  return X, y\n",
        "\n",
        "def perceptron (file_name, iter=None):\n",
        "  if iter==None:\n",
        "    clf = Perceptron(shuffle=False, verbose=1, eta0=.1)\n",
        "  else:\n",
        "    clf = Perceptron(shuffle=False, verbose=1, eta0=.1, max_iter=iter)\n",
        "  X, y = getXY(file_name)\n",
        "  clf.fit(X, y)\n",
        "  return clf.coef_, clf.intercept_, clf.score(X, y)\n",
        "\n",
        "print(perceptron('debug.arff', 10))"
      ]
    },
    {
      "cell_type": "markdown",
      "metadata": {
        "id": "FuQJwIzlFOrD"
      },
      "source": [
        "Notes:\n",
        "* If you increase (or just remove) max_iter your perceptron will converge to 100% in one more epoch.  Try it!\n",
        "* verbose (integer) specifies how much info you get after each epoch.  It does not change results.  Try it with 0.\n",
        "    * Norm is a measure of the total weight magnitudes in the current model.\n",
        "    * NNZs is the number of non-zero weights there currently are (not including the bias).\n",
        "    * clf.intercept_ is the value of the bias weight, NOT the actual y-intercept of the decision surface, though it will affect that.\n",
        "    * T is the total number of weight updates so far.  In this case all the weights were updated each epoch.\n",
        "    * Avg. loss is another measure of error.  More on that later.\n",
        "    * The activation function outputs 1 if net > 0, else 0."
      ]
    },
    {
      "cell_type": "markdown",
      "metadata": {
        "id": "kY3VNB1ui03N"
      },
      "source": [
        "### 1.2 (5%) Evaluation\n",
        "\n",
        "Now run your model  on the [evaluation dataset](https://raw.githubusercontent.com/cs472ta/CS472/master/datasets/data_banknote_authentication.arff) and report the final accuracy, weights, and bias. Use the exact same hyperparameters as the debug dataset. The most common reason for results not matching ours is not exactly using the same hyperparameters (e.g. initial weights, training exactly 10 epochs, no shuffling, etc.) Hint: Throughout these labs for the numerous cases where you are doing the same task, but with different data (e.g. debug, eval), you could create a function where you just pass the data set name, so as not to recreate the code multiple times."
      ]
    },
    {
      "cell_type": "code",
      "execution_count": null,
      "metadata": {
        "id": "2yAxA78QjDh2",
        "colab": {
          "base_uri": "https://localhost:8080/"
        },
        "outputId": "def21def-f556-449e-8de0-d9770dfd1436"
      },
      "outputs": [
        {
          "output_type": "stream",
          "name": "stdout",
          "text": [
            "-- Epoch 1\n",
            "Norm: 1.42, NNZs: 4, Bias: 2.100000, T: 1372, Avg. loss: 0.023615\n",
            "Total training time: 0.00 seconds.\n",
            "-- Epoch 2\n",
            "Norm: 2.90, NNZs: 4, Bias: 2.600000, T: 2744, Avg. loss: 0.022359\n",
            "Total training time: 0.00 seconds.\n",
            "-- Epoch 3\n",
            "Norm: 3.62, NNZs: 4, Bias: 3.500000, T: 4116, Avg. loss: 0.028435\n",
            "Total training time: 0.00 seconds.\n",
            "-- Epoch 4\n",
            "Norm: 4.36, NNZs: 4, Bias: 3.700000, T: 5488, Avg. loss: 0.013195\n",
            "Total training time: 0.01 seconds.\n",
            "-- Epoch 5\n",
            "Norm: 4.51, NNZs: 4, Bias: 4.300000, T: 6860, Avg. loss: 0.015216\n",
            "Total training time: 0.01 seconds.\n",
            "-- Epoch 6\n",
            "Norm: 4.70, NNZs: 4, Bias: 4.700000, T: 8232, Avg. loss: 0.026061\n",
            "Total training time: 0.01 seconds.\n",
            "-- Epoch 7\n",
            "Norm: 5.40, NNZs: 4, Bias: 4.600000, T: 9604, Avg. loss: 0.018060\n",
            "Total training time: 0.01 seconds.\n",
            "-- Epoch 8\n",
            "Norm: 5.83, NNZs: 4, Bias: 4.800000, T: 10976, Avg. loss: 0.018378\n",
            "Total training time: 0.01 seconds.\n",
            "-- Epoch 9\n",
            "Norm: 5.88, NNZs: 4, Bias: 5.200000, T: 12348, Avg. loss: 0.015085\n",
            "Total training time: 0.01 seconds.\n",
            "Convergence after 9 epochs took 0.01 seconds\n",
            "(array([[-4.28857497, -2.390381  , -3.0160324 , -1.1686672 ]]), array([5.2]), 0.9766763848396501)\n"
          ]
        }
      ],
      "source": [
        "# Load evaluation data\n",
        "# Train on the evaluation data\n",
        "# print your accuracy and weights. Do not enter these values by hand.\n",
        "\n",
        "print(perceptron('evaluation.arff', 10))"
      ]
    },
    {
      "cell_type": "markdown",
      "metadata": {
        "id": "U-4J5VcS9umq"
      },
      "source": [
        "*Discussion - Open this box and type in your discussion.*  Note that after each exercise you will have a chance to discuss your effort and results.\n",
        "\n",
        "Results:\n",
        "\n",
        "-Final Weights = [[-4.28857497 -2.390381 -3.0160324 -1.1686672]]\n",
        "\n",
        "-Bias/Intercept = [5.2]\n",
        "\n",
        "-Accuracy = [.977]\n",
        "\n",
        "Discussion:\n",
        "\n",
        "In this task I ran my model on the evaluation dataset and reported the final accuracy, weights, and bias. I used the exact same hyperparameters as the debug dataset, subbed in the evaluation dataset, and recorded the results of running on said dataset. I did this because you told me to. My output should match the grading output. This is because I used the exact same parameters. Note that I used the exact same code via function calling. I was surprised to observe that the accuracy was higher than for the debug dataset. I am not sure why this is the case, but my hypothesis is that there was more data to train on."
      ]
    },
    {
      "cell_type": "markdown",
      "metadata": {
        "id": "9vWiTdlbR2Xh"
      },
      "source": [
        "## 2. Classifying on linearly separable and non-linearly separable data\n",
        "\n",
        "### 2.1 (5%) Create 2 datasets\n",
        "\n",
        "- Both with 8 instances using 2 real valued inputs with 4 instances from each class.\n",
        "- One data set should be linearly separable and the other not.\n",
        "- Show or print your datasets"
      ]
    },
    {
      "cell_type": "code",
      "execution_count": null,
      "metadata": {
        "id": "4SSoasDQSKXb",
        "colab": {
          "base_uri": "https://localhost:8080/",
          "height": 843
        },
        "outputId": "2d824f4d-698b-445f-94ee-d7c600dd93cd"
      },
      "outputs": [
        {
          "output_type": "display_data",
          "data": {
            "text/plain": [
              "<Figure size 640x480 with 1 Axes>"
            ],
            "image/png": "[encoded data removed]"
          },
          "metadata": {}
        },
        {
          "output_type": "display_data",
          "data": {
            "text/plain": [
              "<Figure size 640x480 with 1 Axes>"
            ],
            "image/png": "[encoded data removed]"
          },
          "metadata": {}
        }
      ],
      "source": [
        "# Create and show the 2 datasets.\n",
        "# You could do it here in Python or create arff files in your local folder with a text editor.  Either way show your dataset.\n",
        "import matplotlib.pyplot as plt\n",
        "\n",
        "def show_dataset(file_name, line_x=None, line_y=None):\n",
        "  X, y = getXY(file_name)\n",
        "  plt.figure()\n",
        "  for i in range(len(np.unique(y))):\n",
        "    plt.scatter(X[y == i, 0], X[y == i, 1], label=str(i))\n",
        "  if line_x is not None and line_y is not None:\n",
        "    plt.plot(line_x, line_y)\n",
        "  plt.legend()\n",
        "  plt.show()\n",
        "\n",
        "show_dataset('data1.arff')\n",
        "show_dataset('data2.arff')"
      ]
    },
    {
      "cell_type": "markdown",
      "metadata": {
        "id": "SIRG42TgSR4x"
      },
      "source": [
        "### 2.2 (5%) Train on both sets using the scikit-learn perceptron model\n",
        "- Train on each and print the results. Train until convergence (i.e. use the default max_iter by simply not specifying it).\n",
        "- You may choose your other hyperparameters."
      ]
    },
    {
      "cell_type": "code",
      "execution_count": null,
      "metadata": {
        "id": "KBGUn43ASiXW",
        "colab": {
          "base_uri": "https://localhost:8080/"
        },
        "outputId": "c1ce56bc-901a-463d-c649-f6546178c48f"
      },
      "outputs": [
        {
          "output_type": "stream",
          "name": "stdout",
          "text": [
            "-- Epoch 1\n",
            "Norm: 0.20, NNZs: 1, Bias: 0.000000, T: 8, Avg. loss: 0.012500\n",
            "Total training time: 0.00 seconds.\n",
            "-- Epoch 2\n",
            "Norm: 0.20, NNZs: 1, Bias: 0.000000, T: 16, Avg. loss: 0.000000\n",
            "Total training time: 0.00 seconds.\n",
            "-- Epoch 3\n",
            "Norm: 0.20, NNZs: 1, Bias: 0.000000, T: 24, Avg. loss: 0.000000\n",
            "Total training time: 0.00 seconds.\n",
            "-- Epoch 4\n",
            "Norm: 0.20, NNZs: 1, Bias: 0.000000, T: 32, Avg. loss: 0.000000\n",
            "Total training time: 0.00 seconds.\n",
            "-- Epoch 5\n",
            "Norm: 0.20, NNZs: 1, Bias: 0.000000, T: 40, Avg. loss: 0.000000\n",
            "Total training time: 0.00 seconds.\n",
            "-- Epoch 6\n",
            "Norm: 0.20, NNZs: 1, Bias: 0.000000, T: 48, Avg. loss: 0.000000\n",
            "Total training time: 0.00 seconds.\n",
            "-- Epoch 7\n",
            "Norm: 0.20, NNZs: 1, Bias: 0.000000, T: 56, Avg. loss: 0.000000\n",
            "Total training time: 0.00 seconds.\n",
            "Convergence after 7 epochs took 0.00 seconds\n",
            "[[0.  0.2]] [0.] 1.0\n",
            "-- Epoch 1\n",
            "Norm: 4.97, NNZs: 2, Bias: 0.000000, T: 8, Avg. loss: 56.300000\n",
            "Total training time: 0.00 seconds.\n",
            "-- Epoch 2\n",
            "Norm: 9.99, NNZs: 2, Bias: 0.000000, T: 16, Avg. loss: 123.425000\n",
            "Total training time: 0.00 seconds.\n",
            "-- Epoch 3\n",
            "Norm: 2.12, NNZs: 2, Bias: 0.000000, T: 24, Avg. loss: 99.612500\n",
            "Total training time: 0.00 seconds.\n",
            "-- Epoch 4\n",
            "Norm: 6.99, NNZs: 2, Bias: 0.000000, T: 32, Avg. loss: 44.075000\n",
            "Total training time: 0.00 seconds.\n",
            "-- Epoch 5\n",
            "Norm: 11.29, NNZs: 2, Bias: 0.000000, T: 40, Avg. loss: 121.137500\n",
            "Total training time: 0.00 seconds.\n",
            "-- Epoch 6\n",
            "Norm: 4.24, NNZs: 2, Bias: 0.000000, T: 48, Avg. loss: 108.500000\n",
            "Total training time: 0.00 seconds.\n",
            "-- Epoch 7\n",
            "Norm: 9.56, NNZs: 2, Bias: 0.000000, T: 56, Avg. loss: 67.512500\n",
            "Total training time: 0.00 seconds.\n",
            "-- Epoch 8\n",
            "Norm: 2.02, NNZs: 2, Bias: 0.000000, T: 64, Avg. loss: 94.587500\n",
            "Total training time: 0.00 seconds.\n",
            "-- Epoch 9\n",
            "Norm: 6.98, NNZs: 2, Bias: 0.000000, T: 72, Avg. loss: 43.900000\n",
            "Total training time: 0.00 seconds.\n",
            "-- Epoch 10\n",
            "Norm: 10.89, NNZs: 2, Bias: 0.000000, T: 80, Avg. loss: 126.712500\n",
            "Total training time: 0.00 seconds.\n",
            "-- Epoch 11\n",
            "Norm: 4.12, NNZs: 2, Bias: 0.000000, T: 88, Avg. loss: 103.475000\n",
            "Total training time: 0.00 seconds.\n",
            "-- Epoch 12\n",
            "Norm: 9.12, NNZs: 2, Bias: 0.100000, T: 96, Avg. loss: 72.375000\n",
            "Total training time: 0.00 seconds.\n",
            "-- Epoch 13\n",
            "Norm: 1.25, NNZs: 2, Bias: 0.100000, T: 104, Avg. loss: 91.062500\n",
            "Total training time: 0.00 seconds.\n",
            "-- Epoch 14\n",
            "Norm: 6.23, NNZs: 2, Bias: 0.100000, T: 112, Avg. loss: 48.512500\n",
            "Total training time: 0.00 seconds.\n",
            "Convergence after 14 epochs took 0.00 seconds\n",
            "[[ 3.1 -5.4]] [0.1] 0.5\n"
          ]
        }
      ],
      "source": [
        "# Train and print results with both datasets\n",
        "coef1, inter1, score1 = perceptron('data1.arff')\n",
        "print(coef1, inter1, score1)\n",
        "coef2, inter2, score2 = perceptron('data2.arff')\n",
        "print(coef2, inter2, score2)"
      ]
    },
    {
      "cell_type": "markdown",
      "metadata": {
        "id": "890A39KX9zLC"
      },
      "source": [
        "*Discussion*\n",
        "\n",
        "Results:\n",
        "\n",
        "-Dataset 1:\n",
        "\n",
        "--Final Weights = [[0.0 0.2]]\n",
        "\n",
        "--Bias/Intercept = [0]\n",
        "\n",
        "--Accuracy = [1.0]\n",
        "\n",
        "-Dataset 2:\n",
        "\n",
        "--Final Weights = [[3.1 -5.4]]\n",
        "\n",
        "--Bias/Intercept = [0.1]\n",
        "\n",
        "--Accuracy = [0.5]\n",
        "\n",
        "Discussion:\n",
        "\n",
        "In this task I classified on linearly separable and non-linearly separable data. I set up a linearly separable dataset, set up a non-linearly separable dataset, and ran the perceptron on both of them. I did this because it showcased how the linear perceptron is only good for linearly separable data. The non-linearly separable accuracy is terrible. This is because linear perceptrons are not made to classify non-linearly separable data. Note that the linearly separable accuracy is great. I was not surprised to observe anything in this task. This is because the point it was trying to make is obvious."
      ]
    },
    {
      "cell_type": "markdown",
      "metadata": {
        "id": "v19fpixqTe-7"
      },
      "source": [
        "### 2.3 (10%) Graph the datasets and their corresponding decision line\n",
        "\n",
        " - Graph each dataset\n",
        " - Use your trained perceptrons above to determine each dataset's decision line\n",
        "    - We discssed how to find the slope and intercept in class and the equation is in the Percptron slides\n",
        " - For all graphs always label the axes!\n",
        " - Following are examples of what graphs could look like\n",
        "\n",
        "![Linearly Separable Data](https://raw.githubusercontent.com/rmorain/CS472-1/master/images/perceptron/linearly_separable.png)\n",
        "\n",
        "![Not Linearly Separable](https://raw.githubusercontent.com/rmorain/CS472-1/master/images/perceptron/not_linearly_separable.png)"
      ]
    },
    {
      "cell_type": "code",
      "execution_count": null,
      "metadata": {
        "colab": {
          "base_uri": "https://localhost:8080/",
          "height": 472
        },
        "id": "8l64tZUqCEwy",
        "outputId": "2c8271f2-a777-4553-8057-fee82434296b"
      },
      "outputs": [
        {
          "output_type": "display_data",
          "data": {
            "text/plain": [
              "<Figure size 640x480 with 1 Axes>"
            ],
            "image/png": "[encoded data removed]"
          },
          "metadata": {}
        }
      ],
      "source": [
        "# Sample Graph code, You can use any graphing approach you want including this one.\n",
        "# We encourage you to use matplotlib.\n",
        "import matplotlib.pyplot as plt\n",
        "\n",
        "# The data in this example is made up.  You will use your real data.\n",
        "data = np.array([[-.9,-.9],[-.6,.6],[-.3,.3],[-.1,.1],[.1,.456],[.3,-.324],[.6,.778],[.9,-.76]])\n",
        "labels = np.array([0,0,0,0,1,1,1,1])\n",
        "\n",
        "# Create a scatter plot of data\n",
        "plt.xlim(-1,1)\n",
        "plt.ylim(-1,1)\n",
        "scatter = plt.scatter(data[:,0], data[:,1], c = labels, s=200, cmap='seismic')\n",
        "legend = plt.legend(*scatter.legend_elements(num=1), title=\"Class\", loc='upper right') # Legend\n",
        "\n",
        "# Plot the learned separator.  We just made up the slope and intercept for this example. You need to calculate\n",
        "# the correct slope and intercept using your learned weights and bias.\n",
        "xlist = np.linspace(-1.0, 1.0, 100) # create 100 evenly spaced points between -1 and 1 for the x axis\n",
        "ylist = np.linspace(-1.0, 1.0, 100) # create 100 evenly spaced points between -1 and 1 for the y axis\n",
        "slope = -2  # made up\n",
        "intercept = 0.1 # made up\n",
        "eq = slope*xlist + intercept\n",
        "plt.plot(xlist,  eq, '-k', )\n",
        "plt.title('Linearly Separable Data Example')\n",
        "plt.xlabel('x')\n",
        "plt.ylabel('y')\n",
        "plt.grid() # add grid lines\n",
        "plt.show() # show the plot"
      ]
    },
    {
      "cell_type": "code",
      "execution_count": null,
      "metadata": {
        "id": "ZCPFUAGTS2sX",
        "colab": {
          "base_uri": "https://localhost:8080/",
          "height": 843
        },
        "outputId": "42201ab3-4c11-402d-9b3f-1ff1e27c23a0"
      },
      "outputs": [
        {
          "output_type": "display_data",
          "data": {
            "text/plain": [
              "<Figure size 640x480 with 1 Axes>"
            ],
            "image/png": "[encoded data removed]"
          },
          "metadata": {}
        },
        {
          "output_type": "display_data",
          "data": {
            "text/plain": [
              "<Figure size 640x480 with 1 Axes>"
            ],
            "image/png": "[encoded data removed]"
          },
          "metadata": {}
        }
      ],
      "source": [
        "# Graph datasets and decision lines for both cases.\n",
        "def my_function(w1, w2, theta, x):\n",
        "  return (-w1/w2)*x + theta/w2\n",
        "\n",
        "x = np.linspace(0, 4, 100)\n",
        "y = my_function(coef1[0][0], coef1[0][1], inter1[0], x)\n",
        "show_dataset('data1.arff', x, y)\n",
        "\n",
        "x = np.linspace(-75, 100, 100)\n",
        "y = my_function(coef2[0][0], coef2[0][1], inter2[0], x)\n",
        "show_dataset('data2.arff', x, y)"
      ]
    },
    {
      "cell_type": "markdown",
      "metadata": {
        "id": "M7dyHR0c92zd"
      },
      "source": [
        "*Discussion*\n",
        "\n",
        "Results:\n",
        "\n",
        "-The graphs and separation lines for datasets 1 and 2 are shown above.\n",
        "\n",
        "Discussion:\n",
        "\n",
        "In this task I graphed the datasets and their corresponding decision lines. I plotted the data points on graphs, calculated the decision lines, and plotted said lines alongside the data points. I did this because it shows the decision lines in an easily-understandable way. The first decision line cleanly splits the two classes, but the second does not. This is because the first dataset is linearly separable, whereas the second dataset isn't. Note that the second line attempts to divide the classes but fails at doing so. I was surprised to observe that the second line didnt have a steep downwards slope around the x=0 mark. I am not sure why it didn't divide here and thereby increase the accuracy to 0.75, but my hypothesis is that the slope learning rate was too slow to let it become something like -50x."
      ]
    },
    {
      "cell_type": "markdown",
      "metadata": {
        "id": "_N5RXV8AzdRF"
      },
      "source": [
        "### 2.4 (5%) Discuss why perceptrons in general will not get perfect accuracy on non-linearly separable data"
      ]
    },
    {
      "cell_type": "markdown",
      "metadata": {
        "id": "0hSjHuLdzdRF"
      },
      "source": [
        "*Discussion*\n",
        "\n",
        "Discussion:\n",
        "\n",
        "Perceptrons in general will not get perfect accuracy on non-linearly separable data because it is impossible to get all points from class A on one side of a straight line without one or more points from class B being on that same side of the line. \"Non-linearly separable data\" literally means that classes A and B can't be separated using a straight (a.k.a. linear) line."
      ]
    },
    {
      "cell_type": "markdown",
      "metadata": {
        "id": "0ySvhd1lUGSe"
      },
      "source": [
        "## 3. Use the perceptron to learn this version of the [voting data set](https://raw.githubusercontent.com/cs472ta/CS472/master/datasets/voting-dataset.arff)\n",
        "\n",
        "This particular task is an edited version of the standard voting set, where we have replaced all the “don’t know” values with the most common value for the particular attribute. Look at the [tutorial](https://github.com/cs472ta/CS472/blob/master/Tutorial.ipynb) from the Labs Content page to see examples of prepping the voting data set for sklearn.\n",
        "\n",
        "### 3.1 (10%) Average final training and test set accuracy over multiple trials\n",
        "\n",
        "- Learn the voting data five times with different random 70/30 Training/Test splits each time\n",
        "- Use a learning rate of 1.  The other hyperparameters are up to you.\n",
        "- Report the 5 trials and the average training and test accuracy and number of epochs to converge across the 5 trials in a table\n",
        "    - Below is an example of what a 2 trial table might look like\n",
        "\n",
        "| Trial | Training Accuracy | Test accuracy | Number of epochs |\n",
        "| --- | --- | --- | --- |\n",
        "| 1 | .950 | .550 | 4 |\n",
        "| 2 | .850 | .450 | 6 |\n",
        "| Average | .900 | .500 | 5 |\n",
        "\n",
        "*- As a rough sanity check, typical Perceptron test accuracies for the voting data set are 90%-98%.*\n"
      ]
    },
    {
      "cell_type": "code",
      "execution_count": null,
      "metadata": {
        "id": "Romyl4G8Trki",
        "colab": {
          "base_uri": "https://localhost:8080/"
        },
        "outputId": "a23039e4-41bd-4c2b-95e5-3e00731bb512"
      },
      "outputs": [
        {
          "output_type": "stream",
          "name": "stdout",
          "text": [
            "trial | split | train accuracy | test accuracy | epochs\n",
            "  1   |  0.1  |     0.966      |     0.936     |   9\n",
            "  2   |  0.2  |     0.959      |     0.946     |   13\n",
            "  3   |  0.3  |     0.969      |     0.942     |   9\n",
            "  4   |  0.4  |     0.964      |     0.968     |   12\n",
            "  5   |  0.5  |     0.965      |     0.944     |   12\n",
            " avg  |  n/a  |     0.965      |     0.947     |   11.0\n"
          ]
        }
      ],
      "source": [
        "# Run the perceptron 5 times on the voting data set with different splits and record the results.\n",
        "# Hint: look up scikit-learn train_test_split\n",
        "# Create the table using the tool of your choice\n",
        "from sklearn.preprocessing import LabelEncoder\n",
        "from sklearn.model_selection import train_test_split\n",
        "from sklearn.metrics import accuracy_score\n",
        "\n",
        "def getVotingXY (file_name):\n",
        "  Data_Set = arff.loadarff(file_name)\n",
        "  Data_Set_df = pd.DataFrame(Data_Set[0])\n",
        "  Data_Set_en = Data_Set_df.apply(LabelEncoder().fit_transform)\n",
        "  Data_Set_np = np.array(Data_Set_en)\n",
        "  X = Data_Set_np[:, :-1]\n",
        "  y = Data_Set_np[:, -1]\n",
        "  return X, y\n",
        "\n",
        "def table_dataset(file_name, test_size):\n",
        "  X, y = getVotingXY(file_name)\n",
        "  X_train, X_test, y_train, y_test = train_test_split(X, y, test_size=test_size, random_state=42)\n",
        "\n",
        "  clf = Perceptron(shuffle=False, verbose=0, eta0=1)\n",
        "  clf.fit(X_train, y_train)\n",
        "  y_pred = clf.predict(X_test)\n",
        "  train_accuracy = clf.score(X_train, y_train)\n",
        "  test_accuracy = accuracy_score(y_test, y_pred)\n",
        "\n",
        "  return train_accuracy, test_accuracy, clf.n_iter_\n",
        "\n",
        "print('trial | split | train accuracy | test accuracy | epochs')\n",
        "tot_train_avg = 0\n",
        "tot_test_avg = 0\n",
        "tot_epochs = 0\n",
        "for row in range(1,6):\n",
        "    test_size = round(0.1*row, 1)\n",
        "    row_data = table_dataset('voting-dataset.arff', test_size)\n",
        "    tot_train_avg += round(row_data[0],3)\n",
        "    tot_test_avg += round(row_data[1],3)\n",
        "    tot_epochs += row_data[2]\n",
        "    print(f'  {row}   |  {test_size}  |     {round(row_data[0],3)}      |     {round(row_data[1],3)}     |   {row_data[2]}')\n",
        "print(f' avg  |  n/a  |     {round(tot_train_avg/5,3)}      |     {round(tot_test_avg/5,3)}     |   {round(tot_epochs/5,1)}')"
      ]
    },
    {
      "cell_type": "markdown",
      "metadata": {
        "id": "cm4rbWkzVeoR"
      },
      "source": [
        "### 3.2 (10%) Interpreting the Model\n",
        "- Learn with the perceptron once on the full voting data set\n",
        "- Look at the learned weights and bias and do your best to explain what the model has learned and how the individual input features affect the result.\n",
        "- Which specific features are most critical for the voting task, and which are least critical?"
      ]
    },
    {
      "cell_type": "code",
      "execution_count": null,
      "metadata": {
        "id": "d-ZYu5IMFOrH",
        "colab": {
          "base_uri": "https://localhost:8080/"
        },
        "outputId": "429fbb90-5618-4de3-e248-6b7bc88a4251"
      },
      "outputs": [
        {
          "output_type": "stream",
          "name": "stdout",
          "text": [
            "(array([[ 0.00000000e+00, -2.00000000e-01, -6.00000000e-01,\n",
            "         1.70000000e+00,  3.00000000e-01, -1.00000000e-01,\n",
            "         3.00000000e-01,  4.00000000e-01, -7.00000000e-01,\n",
            "         2.00000000e-01, -1.00000000e+00,  1.00000000e-01,\n",
            "        -2.00000000e-01,  2.77555756e-17, -3.00000000e-01,\n",
            "         5.00000000e-01]]), array([-1.]), 0.96529284164859)\n"
          ]
        }
      ],
      "source": [
        "#Learn once on the full voting data set.  If you Look at our tutorial at the beginning\n",
        "\n",
        "def vote_perceptron (file_name, iter=None, random=None):\n",
        "  if iter==None:\n",
        "    clf = Perceptron(shuffle=False, verbose=0, eta0=.1, random_state=random)\n",
        "  else:\n",
        "    clf = Perceptron(shuffle=False, verbose=0, eta0=.1, max_iter=iter, random_state=random)\n",
        "  X, y = getVotingXY(file_name)\n",
        "  clf.fit(X, y)\n",
        "  return clf.coef_, clf.intercept_, clf.score(X, y)\n",
        "\n",
        "print(vote_perceptron('voting-dataset.arff'))"
      ]
    },
    {
      "cell_type": "markdown",
      "metadata": {
        "id": "tosTXclRFOrH"
      },
      "source": [
        "Discuss how the different features effect prediction\n",
        "\n",
        "Results:\n",
        "\n",
        "-Final Weights = [[0.0, -0.2, -0.6, 1.7, 0.3, -0.1, 0.3, 0.4, -0.7, 0.2, -1.0,  0.1, -0.2, 2.776e-17, -0.3, 0.5]]\n",
        "\n",
        "-Bias/Intercept = [-1]\n",
        "\n",
        "-Accuracy = [0.965]\n",
        "\n",
        "Discussion:\n",
        "\n",
        "-What the model has learned: Physician fee freeze, mx missile and synfuels corporation cutback are the largest deciding factors for a person's party. Handicapped infants, religious groups in schools, education spending and crime are the smallest deciding factors for a person's party.\n",
        "\n",
        "-How the features affect the result: Being pro- physician fee freeze (and pro- other positive-weighted items) pulls your predicted party towards republican. Being pro- mx missile and synfuels corporation cutback (and pro- other negative-weighted items) pulls your predicted party towards democrat.\n",
        "\n",
        "-Most critical features: 4 (physician-fee-freeze), 9 (mx-missile), and 11 (synfuels-corporation-cutback).\n",
        "\n",
        "-Least critical features: 1 (handicapped-infants), 6 (religious-groups-in-schools), 12 (education-spending), 14 (crime)."
      ]
    },
    {
      "cell_type": "markdown",
      "metadata": {
        "id": "NyUmJ4yWVsQ7"
      },
      "source": [
        "### 3.3 (15%) Misclassification rate vs epochs\n",
        "\n",
        "Learn with the perceptron once on the full voting data set and graph the misclassification rate (number_misclassified  /  number_of_total_data_points) at each epoch until convergence (0th – final epoch).  Hints:\n",
        "- For the 0th epoch (i.e. initial weights), assume the initial misclassification rate is 66% and let that be the first point on your graph. Since there are 3 output classes, random guessing would only get it right about 1/3 of the time. Missclassifcation rate is 1 - accuracy.\n",
        "- Doing clf.fit with max_iter = 1, and warm_start=True will let you loop through epochs one at a time, allowing you to look at accuracy, etc. after each epoch.  But how do you know how many epochs to run until convergence?  One way is to just to first run it until convergence with random_state = c to see how many epochs it took (n_iter_).  Then run it again one epoch at a time n_iter_ times using the same random_state constant c (so that you get the exact same conditions).\n",
        "- Below is a rough example of what this type of graph might look like (though this graph is for avg rate across multiple trials)\n",
        "\n",
        "![Average Misclassification Rate](https://raw.githubusercontent.com/rmorain/CS472-1/master/images/perceptron/avg_misclassification_rate_vs_epochs.png)"
      ]
    },
    {
      "cell_type": "code",
      "execution_count": null,
      "metadata": {
        "id": "2_ZRPWWVVeFM",
        "colab": {
          "base_uri": "https://localhost:8080/",
          "height": 784
        },
        "outputId": "2653e6dc-98a9-439f-c2e3-69182ef515be"
      },
      "outputs": [
        {
          "output_type": "stream",
          "name": "stderr",
          "text": [
            "/usr/local/lib/python3.10/dist-packages/sklearn/linear_model/_stochastic_gradient.py:702: ConvergenceWarning: Maximum number of iteration reached before convergence. Consider increasing max_iter to improve the fit.\n",
            "  warnings.warn(\n",
            "/usr/local/lib/python3.10/dist-packages/sklearn/linear_model/_stochastic_gradient.py:702: ConvergenceWarning: Maximum number of iteration reached before convergence. Consider increasing max_iter to improve the fit.\n",
            "  warnings.warn(\n",
            "/usr/local/lib/python3.10/dist-packages/sklearn/linear_model/_stochastic_gradient.py:702: ConvergenceWarning: Maximum number of iteration reached before convergence. Consider increasing max_iter to improve the fit.\n",
            "  warnings.warn(\n",
            "/usr/local/lib/python3.10/dist-packages/sklearn/linear_model/_stochastic_gradient.py:702: ConvergenceWarning: Maximum number of iteration reached before convergence. Consider increasing max_iter to improve the fit.\n",
            "  warnings.warn(\n",
            "/usr/local/lib/python3.10/dist-packages/sklearn/linear_model/_stochastic_gradient.py:702: ConvergenceWarning: Maximum number of iteration reached before convergence. Consider increasing max_iter to improve the fit.\n",
            "  warnings.warn(\n",
            "/usr/local/lib/python3.10/dist-packages/sklearn/linear_model/_stochastic_gradient.py:702: ConvergenceWarning: Maximum number of iteration reached before convergence. Consider increasing max_iter to improve the fit.\n",
            "  warnings.warn(\n",
            "/usr/local/lib/python3.10/dist-packages/sklearn/linear_model/_stochastic_gradient.py:702: ConvergenceWarning: Maximum number of iteration reached before convergence. Consider increasing max_iter to improve the fit.\n",
            "  warnings.warn(\n",
            "/usr/local/lib/python3.10/dist-packages/sklearn/linear_model/_stochastic_gradient.py:702: ConvergenceWarning: Maximum number of iteration reached before convergence. Consider increasing max_iter to improve the fit.\n",
            "  warnings.warn(\n"
          ]
        },
        {
          "output_type": "display_data",
          "data": {
            "text/plain": [
              "<Figure size 640x480 with 1 Axes>"
            ],
            "image/png": "[encoded data removed]"
          },
          "metadata": {}
        }
      ],
      "source": [
        "# Learn once on the full voting data set, while gathering info after every epoch\n",
        "# Then Graph it here.  Here is some sample graph code, but you can do it your own way, including using a bar graph, etc.\n",
        "\n",
        "def plot_misclassification(misclassification_rate):\n",
        "    \"\"\"\n",
        "        Plots the misclassification rate\n",
        "    Args:\n",
        "        misclassification_rate (array-like): A 1D array or list of missclassifcation rate at every epoch\n",
        "    \"\"\"\n",
        "    plt.plot(np.arange(len(misclassification_rate)), misclassification_rate)\n",
        "    plt.title(\"Misclassification Rate vs. Epoch\")\n",
        "    plt.xlabel(\"Epoch\")\n",
        "    plt.ylabel(\"Misclassification Rate\")\n",
        "    plt.show()\n",
        "\n",
        "X, y = getVotingXY('voting-dataset.arff')\n",
        "\n",
        "clf1 = Perceptron(shuffle=False, verbose=0, eta0=.1, random_state=1)\n",
        "clf1.fit(X,y)\n",
        "\n",
        "misclassification_rate = []\n",
        "misclassification_rate.append(0.66)\n",
        "clf2 = Perceptron(shuffle=False, verbose=0, eta0=.1, max_iter=1, warm_start=True, random_state=1)\n",
        "for i in range(clf1.n_iter_):\n",
        "  clf2.fit(X,y)\n",
        "  misclassification_rate.append(1-clf2.score(X,y))\n",
        "\n",
        "plot_misclassification(misclassification_rate)"
      ]
    },
    {
      "cell_type": "markdown",
      "metadata": {
        "id": "PgqUrgh--GeU"
      },
      "source": [
        "*Show table and discuss*\n",
        "\n",
        "In this task I learned with the perceptron once on the full voting data set and graphed the misclassification rate. I assumed the initial misclassification rate is 66% and let that be the first point on the graph, ran the perceptron until convergence with random_state=1 to see how many epochs it took (n_iter_) and did clf.fit with max_iter=1 and warm_start=True to loop through epochs one at a time. I did this because it allowed me to gather the misclassification rate for each epoch and graph them. The misclassification rate drops significantly after the first epoch. This is because there is enough data to discover the pattern within one epoch. Note that the misclassification rate levels out after the first iteration. I was surprised to observe that it didn't change much after the first iteration. I am not sure why it only marginally increased, but my hypothesis is that there was enough data in the database to basically completely lock down the pattern in only one epoch."
      ]
    },
    {
      "cell_type": "markdown",
      "metadata": {
        "id": "pmKMe4UIFOrH"
      },
      "source": [
        "### 3.4 (15%) Hyperparameters\n",
        "Read over all the Hyperparameters and their defaults in the scikit [perceptron documentation](https://scikit-learn.org/stable/modules/generated/sklearn.linear_model.Perceptron.html). With the voting data set, experiment briefly with EACH of the following 6 hyperparameters and discuss your findings.\n",
        "- shuffle\n",
        "- eta0 - learning rate\n",
        "- verbose\n",
        "- fit_intercept - whether to use a bias weight or not\n",
        "- random state\n",
        "- warm start"
      ]
    },
    {
      "cell_type": "code",
      "execution_count": null,
      "metadata": {
        "id": "0HF3yM0HFOrI",
        "colab": {
          "base_uri": "https://localhost:8080/"
        },
        "outputId": "54c8a515-7f38-4382-d7ad-4ff76f61dac3"
      },
      "outputs": [
        {
          "output_type": "stream",
          "name": "stdout",
          "text": [
            "Default:\n",
            "[[ 0.00000000e+00 -2.00000000e-01 -6.00000000e-01  1.70000000e+00\n",
            "   3.00000000e-01 -1.00000000e-01  3.00000000e-01  4.00000000e-01\n",
            "  -7.00000000e-01  2.00000000e-01 -1.00000000e+00  1.00000000e-01\n",
            "  -2.00000000e-01  2.77555756e-17 -3.00000000e-01  5.00000000e-01]] [-1.] 0.96529284164859\n",
            "Shuffle:\n",
            "[[-1.00000000e-01 -2.00000000e-01 -8.00000000e-01  1.60000000e+00\n",
            "   2.00000000e-01 -3.00000000e-01  7.00000000e-01  6.00000000e-01\n",
            "  -7.00000000e-01  4.00000000e-01 -9.00000000e-01  1.00000000e-01\n",
            "  -2.77555756e-17  2.77555756e-17 -5.00000000e-01  5.00000000e-01]] [-0.9] 0.9609544468546638\n",
            "Learning rate:\n",
            "[[ 1.  -1.5 -3.5  9.5  1.5 -1.   0.5  2.5 -4.5  1.  -4.5  0.5  0.   0.\n",
            "  -1.5  3. ]] [-4.5] 0.9674620390455532\n",
            "Verbose:\n",
            "-- Epoch 1\n",
            "Norm: 1.26, NNZs: 13, Bias: -0.200000, T: 461, Avg. loss: 0.024078\n",
            "Total training time: 0.00 seconds.\n",
            "-- Epoch 2\n",
            "Norm: 1.60, NNZs: 13, Bias: -0.400000, T: 922, Avg. loss: 0.018004\n",
            "Total training time: 0.00 seconds.\n",
            "-- Epoch 3\n",
            "Norm: 1.75, NNZs: 16, Bias: -0.600000, T: 1383, Avg. loss: 0.016920\n",
            "Total training time: 0.00 seconds.\n",
            "-- Epoch 4\n",
            "Norm: 1.96, NNZs: 15, Bias: -0.700000, T: 1844, Avg. loss: 0.020390\n",
            "Total training time: 0.00 seconds.\n",
            "-- Epoch 5\n",
            "Norm: 2.02, NNZs: 15, Bias: -0.800000, T: 2305, Avg. loss: 0.024729\n",
            "Total training time: 0.00 seconds.\n",
            "-- Epoch 6\n",
            "Norm: 2.10, NNZs: 14, Bias: -0.900000, T: 2766, Avg. loss: 0.020174\n",
            "Total training time: 0.01 seconds.\n",
            "-- Epoch 7\n",
            "Norm: 2.25, NNZs: 15, Bias: -0.900000, T: 3227, Avg. loss: 0.018438\n",
            "Total training time: 0.01 seconds.\n",
            "-- Epoch 8\n",
            "Norm: 2.36, NNZs: 15, Bias: -1.000000, T: 3688, Avg. loss: 0.022993\n",
            "Total training time: 0.01 seconds.\n",
            "Convergence after 8 epochs took 0.01 seconds\n",
            "[[ 0.00000000e+00 -2.00000000e-01 -6.00000000e-01  1.70000000e+00\n",
            "   3.00000000e-01 -1.00000000e-01  3.00000000e-01  4.00000000e-01\n",
            "  -7.00000000e-01  2.00000000e-01 -1.00000000e+00  1.00000000e-01\n",
            "  -2.00000000e-01  2.77555756e-17 -3.00000000e-01  5.00000000e-01]] [-1.] 0.96529284164859\n",
            "Bias:\n",
            "[[-0.1 -0.2 -0.7  1.4  0.2 -0.2  0.1  0.3 -0.6  0.1 -1.   0.1 -0.2 -0.1\n",
            "  -0.3  0.3]] [0.] 0.9674620390455532\n",
            "Random state:\n",
            "[[ 0.00000000e+00 -2.00000000e-01 -6.00000000e-01  1.70000000e+00\n",
            "   3.00000000e-01 -1.00000000e-01  3.00000000e-01  4.00000000e-01\n",
            "  -7.00000000e-01  2.00000000e-01 -1.00000000e+00  1.00000000e-01\n",
            "  -2.00000000e-01  2.77555756e-17 -3.00000000e-01  5.00000000e-01]] [-1.] 0.96529284164859\n",
            "Warm start:\n",
            "[[ 0.00000000e+00 -2.00000000e-01 -6.00000000e-01  1.70000000e+00\n",
            "   3.00000000e-01 -1.00000000e-01  3.00000000e-01  4.00000000e-01\n",
            "  -7.00000000e-01  2.00000000e-01 -1.00000000e+00  1.00000000e-01\n",
            "  -2.00000000e-01  2.77555756e-17 -3.00000000e-01  5.00000000e-01]] [-1.] 0.96529284164859\n"
          ]
        }
      ],
      "source": [
        "# Run the model with different hyperparameters\n",
        "X, y = getVotingXY('voting-dataset.arff')\n",
        "\n",
        "print('Default:')\n",
        "clf1 = Perceptron(shuffle=False, verbose=0, eta0=.1)\n",
        "clf1.fit(X,y)\n",
        "print(clf1.coef_, clf1.intercept_, clf1.score(X, y))\n",
        "\n",
        "print('Shuffle:')\n",
        "clf2 = Perceptron(shuffle=True, verbose=0, eta0=.1)\n",
        "clf2.fit(X,y)\n",
        "print(clf2.coef_, clf2.intercept_, clf2.score(X, y))\n",
        "\n",
        "print('Learning rate:')\n",
        "clf3 = Perceptron(shuffle=False, verbose=0, eta0=.5)\n",
        "clf3.fit(X,y)\n",
        "print(clf3.coef_, clf3.intercept_, clf3.score(X, y))\n",
        "\n",
        "print('Verbose:')\n",
        "clf4 = Perceptron(shuffle=False, verbose=1, eta0=.1)\n",
        "clf4.fit(X,y)\n",
        "print(clf4.coef_, clf4.intercept_, clf4.score(X, y))\n",
        "\n",
        "print('Bias:')\n",
        "clf5 = Perceptron(shuffle=False, verbose=0, eta0=.1, fit_intercept=False)\n",
        "clf5.fit(X,y)\n",
        "print(clf5.coef_, clf5.intercept_, clf5.score(X, y))\n",
        "\n",
        "print('Random state:')\n",
        "clf6 = Perceptron(shuffle=False, verbose=0, eta0=.1, random_state=1)\n",
        "clf6.fit(X,y)\n",
        "print(clf6.coef_, clf6.intercept_, clf6.score(X, y))\n",
        "\n",
        "print('Warm start:')\n",
        "clf7 = Perceptron(shuffle=False, verbose=0, eta0=.1, warm_start=True)\n",
        "clf7.fit(X,y)\n",
        "print(clf7.coef_, clf7.intercept_, clf7.score(X, y))"
      ]
    },
    {
      "cell_type": "markdown",
      "metadata": {
        "id": "m52a8jyaFOrI"
      },
      "source": [
        "Discussion\n",
        "\n",
        "In this task I experimented briefly with each of the hyperparameters. I copied the code for each parameter, changed said hyperparameter, and printed the output for each change. I did this because you told me to. Increasing the learning rate improves accuracy. This is because the perceptron learns faster and either overfits the data or jumps over some local optima. Note that turning verbose on outputs stats for each epoch. I was surprised to observe that turning bias off improves the accuracy. I am not sure why this happens, but my hypothesis is that it overfits the data."
      ]
    },
    {
      "cell_type": "markdown",
      "metadata": {
        "id": "mxssT08TzdRH"
      },
      "source": [
        "## 4 (15%) Use the perceptron to learn one other data set of your choice.  \n",
        "- The UC Irvine Data Repository is one great source, but you may get your data set from wherever you like, though it should be a real world task.\n",
        "- Report your results"
      ]
    },
    {
      "cell_type": "code",
      "execution_count": null,
      "metadata": {
        "id": "hqPZLMf1zdRH",
        "colab": {
          "base_uri": "https://localhost:8080/"
        },
        "outputId": "97e29f2e-3904-4b3b-8ac6-369586c897f8"
      },
      "outputs": [
        {
          "output_type": "stream",
          "name": "stdout",
          "text": [
            "[[-0.9  4.7 -1.7 -1. ]\n",
            " [ 8.  -5.4 -6.9 -7.6]\n",
            " [-5.6 -2.  10.6  8. ]] [ 0.4  0.6 -1.9] 0.6533333333333333\n"
          ]
        }
      ],
      "source": [
        "# Load and Train on your dataset and report results\n",
        "Data_Set = arff.loadarff('iris.arff')\n",
        "Data_Set_df = pd.DataFrame(Data_Set[0])\n",
        "Data_Set_en = Data_Set_df.apply(LabelEncoder().fit_transform)\n",
        "Data_Set_np = np.array(Data_Set_en)\n",
        "X = Data_Set_np[:, :-1]\n",
        "y = Data_Set_np[:, -1]\n",
        "\n",
        "clf = Perceptron(shuffle=False, verbose=0, eta0=.1)\n",
        "clf.fit(X,y)\n",
        "print(clf.coef_, clf.intercept_, clf.score(X, y))"
      ]
    },
    {
      "cell_type": "markdown",
      "metadata": {
        "id": "BqSFAXwlk3Ms"
      },
      "source": [
        "*Discuss how the perceptron did on the data set and why you think it performed as such.*\n",
        "\n",
        "Results:\n",
        "\n",
        "-Final Weights =\n",
        "[[-0.9  4.7 -1.7 -1. ]\n",
        " [ 8.  -5.4 -6.9 -7.6]\n",
        " [-5.6 -2.  10.6  8. ]]\n",
        "\n",
        "-Bias/Intercept = [ 0.4  0.6 -1.9]\n",
        "\n",
        "-Accuracy = [.653]\n",
        "\n",
        "Discussion:\n",
        "\n",
        "In this task I used the perceptron to learn one other data set of my choice. I found the Iris dataset on the UV Irvine Data Repository, turned it from a .data file into a .arff file, and learned the perceptron on its data. I did this because I wanted to see how the perceptron performed on the Iris dataset. The perceptron used three different lines to separate the classes. This is because the data has three classes of setosa, versicolor and virginica. Note that for each of these lines there are different weights and biases. I was surprised to observe that the accuracy was rather low, even when running to convergence. I am not sure why the accuracy is so low, but my hypothesis is that it is a natural result of trying to separate three classes instead of two."
      ]
    }
  ],
  "metadata": {
    "colab": {
      "collapsed_sections": [
        "cTlK-kijk8Mg"
      ],
      "provenance": []
    },
    "kernelspec": {
      "display_name": "Python 2.7.16 64-bit",
      "language": "python",
      "name": "python3"
    },
    "language_info": {
      "codemirror_mode": {
        "name": "ipython",
        "version": 3
      },
      "file_extension": ".py",
      "mimetype": "text/x-python",
      "name": "python",
      "nbconvert_exporter": "python",
      "pygments_lexer": "ipython3",
      "version": "3.11.4"
    },
    "vscode": {
      "interpreter": {
        "hash": "767d51c1340bd893661ea55ea3124f6de3c7a262a8b4abca0554b478b1e2ff90"
      }
    }
  },
  "nbformat": 4,
  "nbformat_minor": 0
}