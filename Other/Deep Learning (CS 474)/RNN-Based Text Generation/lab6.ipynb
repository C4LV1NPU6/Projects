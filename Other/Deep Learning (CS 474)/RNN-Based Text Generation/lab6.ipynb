{
  "cells": [
    {
      "cell_type": "markdown",
      "metadata": {
        "id": "OwSQgShG0PUz"
      },
      "source": [
        "<a\n",
        "href=\"https://colab.research.google.com/github/wingated/cs474_labs_f2019/blob/master/DL_Lab6.ipynb\"\n",
        "  target=\"_parent\">\n",
        "  <img\n",
        "    src=\"https://colab.research.google.com/assets/colab-badge.svg\"\n",
        "    alt=\"Open In Colab\"/>\n",
        "</a>"
      ]
    },
    {
      "cell_type": "markdown",
      "metadata": {
        "id": "cksgAH12XRjV"
      },
      "source": [
        "# Lab 6: Sequence-to-sequence models\n",
        "\n",
        "### Description:\n",
        "For this lab, you will code up the [char-rnn model of Karpathy](http://karpathy.github.io/2015/05/21/rnn-effectiveness/). This is a recurrent neural network that is trained probabilistically on sequences of characters, and that can then be used to sample new sequences that are like the original.\n",
        "\n",
        "This lab will help you develop several new skills, as well as understand some best practices needed for building large models. In addition, we'll be able to create networks that generate neat text!\n",
        "\n",
        "### Deliverable:\n",
        "- Fill in the code for the RNN (using PyTorch's built-in GRU).\n",
        "- Fill in the training loop\n",
        "- Fill in the evaluation loop. In this loop, rather than using a validation set, you will sample text from the RNN.\n",
        "- Implement your own GRU cell.\n",
        "- Train your RNN on a new domain of text (Star Wars, political speeches, etc. - have fun!)\n",
        "\n",
        "### Grading Standards:\n",
        "- 20% Implementation the RNN\n",
        "- 20% Implementation training loop\n",
        "- 20% Implementation of evaluation loop\n",
        "- 20% Implementation of your own GRU cell\n",
        "- 20% Training of your RNN on a domain of your choice\n",
        "\n",
        "### Tips:\n",
        "- Read through all the helper functions, run them, and make sure you understand what they are doing\n",
        "- At each stage, ask yourself: What should the dimensions of this tensor be? Should its data type be float or int? (int is called `long` in PyTorch)\n",
        "- Don't apply a softmax inside the RNN if you are using an nn.CrossEntropyLoss (this module already applies a softmax to its input).\n",
        "\n",
        "### Example Output:\n",
        "An example of my final samples are shown below (more detail in the\n",
        "final section of this writeup), after 150 passes through the data.\n",
        "Please generate about 15 samples for each dataset.\n",
        "\n",
        "<code>\n",
        "And ifte thin forgision forward thene over up to a fear not your\n",
        "And freitions, which is great God. Behold these are the loss sub\n",
        "And ache with the Lord hath bloes, which was done to the holy Gr\n",
        "And appeicis arm vinimonahites strong in name, to doth piseling\n",
        "And miniquithers these words, he commanded order not; neither sa\n",
        "And min for many would happine even to the earth, to said unto m\n",
        "And mie first be traditions? Behold, you, because it was a sound\n",
        "And from tike ended the Lamanites had administered, and I say bi\n",
        "</code>\n"
      ]
    },
    {
      "cell_type": "markdown",
      "metadata": {
        "id": "c2i_QpSsWG4c"
      },
      "source": [
        "---\n",
        "\n",
        "## Part 0: Readings, data loading, and high level training\n",
        "\n",
        "---\n",
        "\n",
        "There is a tutorial here that will help build out scaffolding code, and get an understanding of using sequences in pytorch.\n",
        "\n",
        "* Read the following\n",
        "\n",
        "> * [Pytorch sequence-to-sequence tutorial](https://pytorch.org/tutorials/intermediate/seq2seq_translation_tutorial.html) (Take note that you will not be implementing the encoder part of this tutorial.)\n",
        "* [Understanding LSTM Networks](http://colah.github.io/posts/2015-08-Understanding-LSTMs/)\n",
        "\n",
        "\n",
        "\n",
        "\n"
      ]
    },
    {
      "cell_type": "code",
      "execution_count": 1,
      "metadata": {
        "id": "l7bdZWxvJrsx",
        "colab": {
          "base_uri": "https://localhost:8080/"
        },
        "outputId": "667309b4-9a02-4a2a-a4cc-6bc91e5580d5"
      },
      "outputs": [
        {
          "output_type": "stream",
          "name": "stdout",
          "text": [
            "--2023-10-13 20:57:29--  https://piazza.com/redirect/s3?bucket=uploads&prefix=attach%2Fjlifkda6h0x5bk%2Fhzosotq4zil49m%2Fjn13x09arfeb%2Ftext_files.tar.gz\n",
            "Resolving piazza.com (piazza.com)... 54.83.207.146, 3.228.96.161, 3.222.220.252, ...\n",
            "Connecting to piazza.com (piazza.com)|54.83.207.146|:443... connected.\n",
            "HTTP request sent, awaiting response... 302 Found\n",
            "Location: https://cdn-uploads.piazza.com/attach/jlifkda6h0x5bk/hzosotq4zil49m/jn13x09arfeb/text_files.tar.gz [following]\n",
            "--2023-10-13 20:57:29--  https://cdn-uploads.piazza.com/attach/jlifkda6h0x5bk/hzosotq4zil49m/jn13x09arfeb/text_files.tar.gz\n",
            "Resolving cdn-uploads.piazza.com (cdn-uploads.piazza.com)... 18.239.225.73, 18.239.225.125, 18.239.225.104, ...\n",
            "Connecting to cdn-uploads.piazza.com (cdn-uploads.piazza.com)|18.239.225.73|:443... connected.\n",
            "HTTP request sent, awaiting response... 200 OK\n",
            "Length: 1533290 (1.5M) [application/x-gzip]\n",
            "Saving to: ‘./text_files.tar.gz’\n",
            "\n",
            "./text_files.tar.gz 100%[===================>]   1.46M  --.-KB/s    in 0.1s    \n",
            "\n",
            "2023-10-13 20:57:29 (11.3 MB/s) - ‘./text_files.tar.gz’ saved [1533290/1533290]\n",
            "\n",
            "Requirement already satisfied: unidecode in /usr/local/lib/python3.10/dist-packages (1.3.7)\n",
            "Requirement already satisfied: torch in /usr/local/lib/python3.10/dist-packages (2.0.1+cu118)\n",
            "Requirement already satisfied: filelock in /usr/local/lib/python3.10/dist-packages (from torch) (3.12.4)\n",
            "Requirement already satisfied: typing-extensions in /usr/local/lib/python3.10/dist-packages (from torch) (4.5.0)\n",
            "Requirement already satisfied: sympy in /usr/local/lib/python3.10/dist-packages (from torch) (1.12)\n",
            "Requirement already satisfied: networkx in /usr/local/lib/python3.10/dist-packages (from torch) (3.1)\n",
            "Requirement already satisfied: jinja2 in /usr/local/lib/python3.10/dist-packages (from torch) (3.1.2)\n",
            "Requirement already satisfied: triton==2.0.0 in /usr/local/lib/python3.10/dist-packages (from torch) (2.0.0)\n",
            "Requirement already satisfied: cmake in /usr/local/lib/python3.10/dist-packages (from triton==2.0.0->torch) (3.27.6)\n",
            "Requirement already satisfied: lit in /usr/local/lib/python3.10/dist-packages (from triton==2.0.0->torch) (17.0.2)\n",
            "Requirement already satisfied: MarkupSafe>=2.0 in /usr/local/lib/python3.10/dist-packages (from jinja2->torch) (2.1.3)\n",
            "Requirement already satisfied: mpmath>=0.19 in /usr/local/lib/python3.10/dist-packages (from sympy->torch) (1.3.0)\n",
            "file_len = 2579888\n"
          ]
        }
      ],
      "source": [
        "! wget -O ./text_files.tar.gz 'https://piazza.com/redirect/s3?bucket=uploads&prefix=attach%2Fjlifkda6h0x5bk%2Fhzosotq4zil49m%2Fjn13x09arfeb%2Ftext_files.tar.gz'\n",
        "! tar -xzf text_files.tar.gz\n",
        "! pip install unidecode\n",
        "! pip install torch\n",
        "\n",
        "import unidecode\n",
        "import string\n",
        "import random\n",
        "import re\n",
        "\n",
        "import pdb\n",
        "\n",
        "all_characters = string.printable\n",
        "n_characters = len(all_characters)\n",
        "file = unidecode.unidecode(open('./text_files/lotr.txt').read())\n",
        "file_len = len(file)\n",
        "print('file_len =', file_len)"
      ]
    },
    {
      "cell_type": "code",
      "execution_count": 2,
      "metadata": {
        "id": "TxBeKeNjJ0NQ"
      },
      "outputs": [],
      "source": [
        "def random_chunk(file, file_len, chunk_len):\n",
        "  start_index = random.randint(0, file_len - chunk_len)\n",
        "  end_index = start_index + chunk_len + 1\n",
        "  return file[start_index:end_index]"
      ]
    },
    {
      "cell_type": "code",
      "execution_count": 3,
      "metadata": {
        "id": "On0_WitWJ99e",
        "colab": {
          "base_uri": "https://localhost:8080/"
        },
        "outputId": "f8e3707c-ad8a-400b-b3ff-50a635eb2695"
      },
      "outputs": [
        {
          "output_type": "stream",
          "name": "stdout",
          "text": [
            "tensor([10, 11, 12, 39, 40, 41])\n"
          ]
        }
      ],
      "source": [
        "import torch\n",
        "# Turn string into list of longs\n",
        "def char_tensor(string):\n",
        "  tensor = torch.zeros(len(string)).long()\n",
        "  for c in range(len(string)):\n",
        "      tensor[c] = all_characters.index(string[c])\n",
        "  return tensor\n",
        "\n",
        "print(char_tensor('abcDEF'))"
      ]
    },
    {
      "cell_type": "markdown",
      "metadata": {
        "id": "CYJPTLcaYmfI"
      },
      "source": [
        "---\n",
        "\n",
        "## Part 4: Creating your own GRU cell\n",
        "\n",
        "**(Come back to this later - its defined here so that the GRU will be defined before it is used)**\n",
        "\n",
        "---\n",
        "\n",
        "The cell that you used in Part 1 was a pre-defined Pytorch layer. Now, write your own GRU class using the same parameters as the built-in Pytorch class does.\n",
        "\n",
        "Please try not to look at the GRU cell definition. The answer is right there in the code, and in theory, you could just cut-and-paste it. This bit is on your honor!\n",
        "\n",
        "**TODO:**\n",
        "\n",
        "**DONE:**\n",
        "* Create a custom GRU cell\n",
        "\n"
      ]
    },
    {
      "cell_type": "code",
      "execution_count": 4,
      "metadata": {
        "id": "aavAv50ZKQ-F"
      },
      "outputs": [],
      "source": [
        "import torch\n",
        "import torch.nn as nn\n",
        "import torch.nn.functional as F\n",
        "\n",
        "\n",
        "class GRU(nn.Module):\n",
        "  def __init__(self, input_size, hidden_size, num_layers):\n",
        "    super(GRU, self).__init__()\n",
        "    self.input_size = input_size\n",
        "    self.hidden_size = hidden_size\n",
        "    self.num_layers = num_layers\n",
        "\n",
        "    self.W_ir = nn.Linear(input_size, hidden_size)\n",
        "    self.W_hr = nn.Linear(hidden_size, hidden_size)\n",
        "    self.W_iz = nn.Linear(input_size, hidden_size)\n",
        "    self.W_hz = nn.Linear(hidden_size, hidden_size)\n",
        "    self.W_in = nn.Linear(input_size, hidden_size)\n",
        "    self.W_hn = nn.Linear(hidden_size, hidden_size)\n",
        "\n",
        "  def forward(self, inputs, hidden):\n",
        "    # Each layer does the following:\n",
        "    # r_t = sigmoid(W_ir*x_t + b_ir + W_hr*h_(t-1) + b_hr)\n",
        "    # z_t = sigmoid(W_iz*x_t + b_iz + W_hz*h_(t-1) + b_hz)\n",
        "    # n_t = tanh(W_in*x_t + b_in + r_t**(W_hn*h_(t-1) + b_hn))\n",
        "    # h_(t) = (1 - z_t)**n_t + z_t**h_(t-1)\n",
        "    # Where ** is hadamard product (not matrix multiplication, but elementwise multiplication)\n",
        "\n",
        "    x_t = inputs\n",
        "    h_t_1 = hidden\n",
        "\n",
        "    r_t = torch.sigmoid(self.W_ir(x_t) + self.W_hr(h_t_1))\n",
        "    z_t = torch.sigmoid(self.W_iz(x_t) + self.W_hz(h_t_1))\n",
        "    n_t = torch.tanh(self.W_in(x_t) + r_t*self.W_hn(h_t_1))\n",
        "    h_t = (1 - z_t)*n_t + z_t*h_t_1\n",
        "\n",
        "    outputs = h_t\n",
        "    hiddens = h_t\n",
        "\n",
        "    return outputs, hiddens\n",
        "\n"
      ]
    },
    {
      "cell_type": "markdown",
      "metadata": {
        "id": "qtXdX-B_WiAY"
      },
      "source": [
        "---\n",
        "\n",
        "##  Part 1: Building a sequence to sequence model\n",
        "\n",
        "---\n",
        "\n",
        "Great! We have the data in a useable form. We can switch out which text file we are reading from, and trying to simulate.\n",
        "\n",
        "We now want to build out an RNN model, in this section, we will use all built in Pytorch pieces when building our RNN class.\n",
        "\n",
        "\n",
        "**TODO:**\n",
        "\n",
        "**DONE:**\n",
        "* Create an RNN class that extends from nn.Module.\n",
        "\n"
      ]
    },
    {
      "cell_type": "code",
      "execution_count": 5,
      "metadata": {
        "id": "d6tNdEnzWj5F"
      },
      "outputs": [],
      "source": [
        "class RNN(nn.Module):\n",
        "  def __init__(self, input_size, hidden_size, output_size, n_layers=1):\n",
        "    super(RNN, self).__init__()\n",
        "    self.input_size = input_size\n",
        "    self.hidden_size = hidden_size\n",
        "    self.output_size = output_size\n",
        "    self.n_layers = n_layers\n",
        "\n",
        "    # more stuff here...\n",
        "    self.encoder = nn.Embedding(input_size, hidden_size)\n",
        "    self.gru1 = GRU(hidden_size, hidden_size, n_layers)\n",
        "    self.gru2 = GRU(hidden_size, hidden_size, n_layers)\n",
        "    self.gru3 = GRU(hidden_size, hidden_size, n_layers)\n",
        "    self.decoder = nn.Linear(hidden_size, output_size)\n",
        "\n",
        "  def forward(self, input_char, hidden):\n",
        "    # by reviewing the documentation, construct a forward function that properly uses the output of the GRU\n",
        "\n",
        "    input_char = self.encoder(input_char.view(1, -1))\n",
        "    output1, hidden1 = self.gru1(input_char.view(1, 1, -1), hidden[0])\n",
        "    output2, hidden2 = self.gru2(output1, hidden[1])\n",
        "    output3, hidden3 = self.gru3(output2, hidden[2])\n",
        "    output = self.decoder(output3.view(1, -1))\n",
        "    hidden = torch.cat([hidden1, hidden2, hidden3], dim=0)\n",
        "    return output, hidden\n",
        "\n",
        "  def init_hidden(self):\n",
        "    return torch.zeros(self.n_layers, 1, self.hidden_size)"
      ]
    },
    {
      "cell_type": "code",
      "execution_count": 6,
      "metadata": {
        "id": "hrhXghEPKD-5"
      },
      "outputs": [],
      "source": [
        "def random_training_set(file, file_len, chunk_len):\n",
        "  chunk = random_chunk(file, file_len, chunk_len)\n",
        "  inp = char_tensor(chunk[:-1])\n",
        "  target = char_tensor(chunk[1:])\n",
        "  return inp, target"
      ]
    },
    {
      "cell_type": "markdown",
      "metadata": {
        "id": "ZpiGObbBX0Mr"
      },
      "source": [
        "---\n",
        "\n",
        "## Part 2: Sample text and Training information\n",
        "\n",
        "---\n",
        "\n",
        "We now want to be able to train our network, and sample text after training.\n",
        "\n",
        "This function outlines how training a sequence style network goes.\n",
        "\n",
        "**TODO:**\n",
        "\n",
        "**DONE:**\n",
        "* Fill in the pieces.\n",
        "\n",
        "\n"
      ]
    },
    {
      "cell_type": "code",
      "execution_count": 7,
      "metadata": {
        "id": "2ALC3Pf8Kbsi"
      },
      "outputs": [],
      "source": [
        "# NOTE: decoder_optimizer, decoder, and criterion will be defined below as global variables\n",
        "def train(inp, target, decoder, decoder_optimizer):\n",
        "  # initialize hidden layers, set up gradient and loss\n",
        "\n",
        "  decoder_optimizer.zero_grad()\n",
        "  hidden = decoder.init_hidden()\n",
        "  loss = 0\n",
        "\n",
        "  for c in range(inp.size(0)):\n",
        "    output, hidden = decoder(inp[c], hidden)\n",
        "    loss += criterion(output, target[c].view(-1))\n",
        "\n",
        "  loss.backward()\n",
        "  decoder_optimizer.step()\n",
        "\n",
        "  return loss.item() / inp.size(0)"
      ]
    },
    {
      "cell_type": "markdown",
      "metadata": {
        "id": "EN06NUu3YRlz"
      },
      "source": [
        "---\n",
        "\n",
        "## Part 3: Sample text and Training information\n",
        "\n",
        "---\n",
        "\n",
        "You can at this time, if you choose, also write out your train loop boilerplate that samples random sequences and trains your RNN. This will be helpful to have working before writing your own GRU class.\n",
        "\n",
        "If you are finished training, or during training, and you want to sample from the network you may consider using the following function. If your RNN model is instantiated as `decoder`then this will probabilistically sample a sequence of length `predict_len`\n",
        "\n",
        "**TODO:**\n",
        "\n",
        "**DONE:**\n",
        "* Fill out the evaluate function to generate text frome a primed string\n",
        "\n"
      ]
    },
    {
      "cell_type": "code",
      "execution_count": 8,
      "metadata": {
        "id": "B-bp-OZ1KjNh"
      },
      "outputs": [],
      "source": [
        "def sample_outputs(output, temperature):\n",
        "    \"\"\"Takes in a vector of unnormalized probability weights and samples a character from the distribution\"\"\"\n",
        "    return torch.multinomial(torch.exp(output / temperature), 1)\n",
        "\n",
        "def evaluate(decoder, prime_str='A', predict_len=100, temperature=0.8):\n",
        "  # initialize hidden state, initialize other useful variables\n",
        "\n",
        "  hidden = decoder.init_hidden()\n",
        "  prime_input = char_tensor(prime_str)\n",
        "  predicted = prime_str\n",
        "\n",
        "  for p in range(len(prime_str) - 1):\n",
        "    _, hidden = decoder(prime_input[p], hidden)\n",
        "  inp = prime_input[-1]\n",
        "\n",
        "  for p in range(predict_len):\n",
        "    output, hidden = decoder(inp, hidden)\n",
        "\n",
        "    output_dist = output.data.view(-1).div(temperature).exp()\n",
        "    top_i = torch.multinomial(output_dist, 1)[0]\n",
        "\n",
        "    predicted_char = all_characters[top_i]\n",
        "    predicted += predicted_char\n",
        "    inp = char_tensor(predicted_char)\n",
        "\n",
        "  return predicted\n"
      ]
    },
    {
      "cell_type": "markdown",
      "metadata": {
        "id": "Du4AGA8PcFEW"
      },
      "source": [
        "---\n",
        "\n",
        "## Part 4: (Create a GRU cell, requirements above)\n",
        "\n",
        "---\n"
      ]
    },
    {
      "cell_type": "markdown",
      "metadata": {
        "id": "GFS2bpHSZEU6"
      },
      "source": [
        "\n",
        "---\n",
        "\n",
        "## Part 5: Run it and generate some text!\n",
        "\n",
        "---\n",
        "\n",
        "\n",
        "**TODO:**\n",
        "\n",
        "**DONE:**\n",
        "* Create some cool output\n",
        "\n",
        "\n",
        "\n",
        "\n",
        "Assuming everything has gone well, you should be able to run the main function in the scaffold code, using either your custom GRU cell or the built in layer, and see output something like this. I trained on the “lotr.txt” dataset, using chunk_length=200, hidden_size=100 for 2000 epochs. These are the results, along with the prime string:\n",
        "\n",
        "---\n",
        "\n",
        " G:\n",
        "\n",
        " Gandalf was decrond.\n",
        "'All have lord you. Forward the road at least walk this is stuff, and\n",
        "went to the long grey housel-winding and kindled side was a sleep pleasuring, I do long\n",
        "row hrough. In  \n",
        "\n",
        " lo:\n",
        "\n",
        " lost death it.\n",
        "'The last of the gatherings and take you,' said Aragorn, shining out of the Gate.\n",
        "'Yes, as you there were remembaused to seen their pass, when? What\n",
        "said here, such seven an the sear\n",
        "\n",
        " lo:\n",
        "\n",
        " low, and frod to keepn\n",
        "Came of their most. But here priced doubtless to an Sam up is\n",
        "masters; he left hor as they are looked. And he could now the long to stout in the right fro horseless of\n",
        "the like\n",
        "\n",
        " I:\n",
        "\n",
        " I had been the\n",
        "in his eyes with the perushed to lest, if then only the ring and the legended\n",
        "of the less of the long they which as the\n",
        "enders of Orcovered and smood, and the p\n",
        "\n",
        " I:\n",
        "\n",
        " I they were not the lord of the hoomes.\n",
        "Home already well from the Elves. And he sat strength, and we\n",
        "housed out of the good of the days to the mountains from his perith.\n",
        "\n",
        "'Yess! Where though as if  \n",
        "\n",
        " Th:\n",
        "\n",
        " There yarden\n",
        "you would guard the hoor might. Far and then may was\n",
        "croties, too began to see the drumbred many line\n",
        "and was then hoard walk and they heart, and the chair of the\n",
        "Ents of way, might was\n",
        "\n",
        " G:\n",
        "\n",
        " Gandalf\n",
        "been lat of less the round of the stump; both and seemed to the trees and perished they\n",
        "lay are speered the less; and the wind the steep and have to she\n",
        "precious. There was in the oonly went\n",
        "\n",
        " wh:\n",
        "\n",
        " which went out of the door.\n",
        "Hull the King and of the The days of his brodo\n",
        "stumbler of the windard was a thing there, then it been shining langing\n",
        "to him poor land. They hands; though they seemed ou\n",
        "\n",
        " ra:\n",
        "\n",
        " rather,' have all the least deather\n",
        "down of the truven beginning to the house of sunk.\n",
        "'Nark shorts of the Eyes of the Gate your great nothing as Eret.\n",
        "'I wander trust horn, and there were not, it  \n",
        "\n",
        " I:\n",
        "\n",
        " I can have no mind\n",
        "together! Where don't may had one may little blung\n",
        "terrible to tales. And turn and Gandalf shall be not to as only the Cattring\n",
        "not stopped great the out them forms. On they she lo\n",
        "\n",
        "---\n"
      ]
    },
    {
      "cell_type": "code",
      "execution_count": 9,
      "metadata": {
        "id": "-nXFeCmdKodw"
      },
      "outputs": [],
      "source": [
        "import time\n",
        "n_epochs = 2000\n",
        "print_every = 200\n",
        "plot_every = 10\n",
        "hidden_size = 200\n",
        "n_layers = 3\n",
        "lr = 0.001\n",
        "\n",
        "decoder = RNN(n_characters, hidden_size, n_characters, n_layers)\n",
        "decoder_optimizer = torch.optim.Adam(decoder.parameters(), lr=lr)\n",
        "criterion = nn.CrossEntropyLoss()\n",
        "\n",
        "start = time.time()\n",
        "all_losses = []\n",
        "loss_avg = 0"
      ]
    },
    {
      "cell_type": "code",
      "execution_count": 10,
      "metadata": {
        "id": "xKfozqw-6eqb",
        "colab": {
          "base_uri": "https://localhost:8080/"
        },
        "outputId": "bd7f7e2f-6ef0-41ec-d606-a955b5573b6b"
      },
      "outputs": [
        {
          "output_type": "stream",
          "name": "stdout",
          "text": [
            "[145.96999192237854 (200 10%) 2.5403]\n",
            "Whe sacokan'traghrat thain, noln ogow cesed \n",
            "ussant hant eafd sandes, the yeurod \n",
            "of hratralt lith, Wi \n",
            "\n",
            "[286.4713053703308 (400 20%) 2.0941]\n",
            "Whe, had bey of the mian fordon. Thead in Sajy the anland of the zeilking the lordas. \n",
            "\n",
            "And rill hing  \n",
            "\n",
            "[428.1036605834961 (600 30%) 1.7597]\n",
            "Whe faes it saaded are had and not great can the daurilen, the no dowred and where on \n",
            "gansagh, and th \n",
            "\n",
            "[566.169410943985 (800 40%) 1.6900]\n",
            "Why the shazed, the was fear no lards the math saw have nown of yougSended and ergettoo lept. And the  \n",
            "\n",
            "[706.0369701385498 (1000 50%) 1.8370]\n",
            "Where came begrient their spaging in the windered; 'he know foor to falled he dlive and gliel, and see \n",
            "\n",
            "[839.5608501434326 (1200 60%) 1.5364]\n",
            "Whing, and the there the First upon flect \n",
            "have that we clanger north, Mrnand spys curl. The foor see  \n",
            "\n",
            "[976.3331689834595 (1400 70%) 1.5845]\n",
            "Wher deep even is that swords as beget come.' \n",
            "\n",
            "\n",
            "\n",
            "\n",
            "How of this beling his sking and we have to sparlin \n",
            "\n",
            "[1110.1907093524933 (1600 80%) 1.5078]\n",
            "Which \n",
            "shall, he said. 'I come for cras spelt.' I was \n",
            "that he ears down the said a you larning that i \n",
            "\n",
            "[1244.9895334243774 (1800 90%) 1.5367]\n",
            "Whel. And the lives in \n",
            "the \n",
            "rocked the back thing thing talked sign it of Aragorn, or over gater from \n",
            "\n",
            "[1378.3445253372192 (2000 100%) 1.6047]\n",
            "Whess haven hopear undered \n",
            "at I swell in the were, and the Road of the great to knows the heal, find  \n",
            "\n"
          ]
        }
      ],
      "source": [
        "for epoch in range(1, n_epochs + 1):\n",
        "  loss_ = train(*random_training_set(file, file_len, 200), decoder, decoder_optimizer)\n",
        "  loss_avg += loss_\n",
        "\n",
        "  if epoch % print_every == 0:\n",
        "      print('[%s (%d %d%%) %.4f]' % (time.time() - start, epoch, epoch / n_epochs * 100, loss_))\n",
        "      print(evaluate(decoder, 'Wh', 100), '\\n')\n",
        "\n",
        "  if epoch % plot_every == 0:\n",
        "      all_losses.append(loss_avg / plot_every)\n",
        "      loss_avg = 0"
      ]
    },
    {
      "cell_type": "code",
      "execution_count": 13,
      "metadata": {
        "id": "Ee0so6aKJ5L8",
        "colab": {
          "base_uri": "https://localhost:8080/"
        },
        "outputId": "23cfb258-9a34-4e2f-912c-261e556827d9"
      },
      "outputs": [
        {
          "output_type": "stream",
          "name": "stdout",
          "text": [
            " I \n",
            " I corn. Will reaves and face there we fained they swond \n",
            "been far east caves once. 'Go speep he are \n",
            "you Baketing by stone looked they seemed of we \n",
            "should to stoes and heavil they came I had greeped in \n",
            "\n",
            " Th\n",
            " They's shadow had been the foof his prash. \n",
            "\n",
            "'They have they will sift him, as I wall freet of may, not that Gimle. 'Where in the black before him, doubt.' \n",
            "\n",
            "'Let the glowing once as a crass that Ume. ' \n",
            "\n",
            " he\n",
            " hear and sut wholled, simber mares of their hid a \n",
            "narrow to staces the wince, and it sacken as if the Sun stream was no could \n",
            "in mes, his crowing green were before white be a refuent the Nund. \n",
            "\n",
            "'I hi \n",
            "\n",
            " he\n",
            " he stringh their into stare found like \n",
            "in the but the stood and they is we shadualing that he said. 'I middle of help and fought houses we hill the glame for even a swarves. he \n",
            "said and stroming but t \n",
            "\n",
            " I \n",
            " I internof the place up the \n",
            "plash to chancts. I \n",
            "well, and disho his side deeping them and sut in the \n",
            "gloomes to the scorned and a strider to to the point the regred that deeping undered \n",
            "his looked i \n",
            "\n",
            " wh\n",
            " whist this beablesss, we purned as stone to cleed came in his mone them. He \n",
            "read of the shout near days all rose before their passed savering \n",
            "the hobe and the morned disen shadow. \n",
            "\n",
            "'Goire that I may  \n",
            "\n",
            " he\n",
            " he was before mine whree moet \n",
            "the back, and he out should need to becice and ways a speet of \n",
            "in the shadow his two the tord, must think as if if a \n",
            "shelm up in the great fair, and who Deep light discr \n",
            "\n",
            " Th\n",
            " Them was spoke.' \n",
            "\n",
            "He came than it me strange of the shadow of the small the ringed the stord, but the trees. \n",
            "\n",
            "I shall be Gollum Sam mott be have been his head his hand, Merry house to his hat chanch t \n",
            "\n",
            " Th\n",
            " That is, \n",
            "that he head in of the hard. \n",
            "\n",
            "'When they hand, been speeming to the hinged easter mind not us us, and a deffering and fall or a chumfet, the mean \n",
            "had cheard to between to the last in the \n",
            "ho \n",
            "\n",
            " ca\n",
            " came to the redil and last not years. It seen and sudden \n",
            "the wible like of the last name from the dreaking places fret subles \n",
            "sounds, if I cauch saven in they with might a \n",
            "should Pippin. For you host \n",
            "\n"
          ]
        }
      ],
      "source": [
        "for i in range(10):\n",
        "  start_strings = [\" Th\", \" wh\", \" he\", \" I \", \" ca\", \" G\", \" lo\", \" ra\"]\n",
        "  start = random.randint(0,len(start_strings)-1)\n",
        "  print(start_strings[start])\n",
        "  # all_characters.index(string[c])\n",
        "  print(evaluate(decoder, start_strings[start], 200), '\\n')"
      ]
    },
    {
      "cell_type": "markdown",
      "metadata": {
        "id": "YJhgDc2IauPE"
      },
      "source": [
        "---\n",
        "\n",
        "## Part 6: Generate output on a different dataset\n",
        "\n",
        "---\n",
        "\n",
        "**TODO:**\n",
        "\n",
        "**DONE:**\n",
        "\n",
        "* Choose a textual dataset. Here are some [text datasets](https://www.kaggle.com/datasets?tags=14104-text+data%2C13205-text+mining) from Kaggle\n",
        "\n",
        "* Generate some decent looking results\n",
        "\n"
      ]
    },
    {
      "cell_type": "code",
      "source": [
        "import pandas as pd\n",
        "\n",
        "my_file = pd.read_csv('./text_files/avatar.csv', encoding='latin1')\n",
        "my_file = my_file.loc[:, 'character_words']\n",
        "\n",
        "my_file_text = str()\n",
        "for i in range(len(my_file)):\n",
        "  datum = my_file[i]\n",
        "\n",
        "  if datum != 'NA' and type(datum) is not float:\n",
        "    for c in datum:\n",
        "      if c in all_characters:\n",
        "        my_file_text += c\n",
        "\n",
        "    my_file_text += '\\n'\n",
        "\n",
        "my_file_len = len(my_file_text)"
      ],
      "metadata": {
        "id": "EvJEts5DofvW"
      },
      "execution_count": 14,
      "outputs": []
    },
    {
      "cell_type": "code",
      "source": [
        "my_decoder = RNN(n_characters, hidden_size, n_characters, n_layers)\n",
        "my_decoder_optimizer = torch.optim.Adam(my_decoder.parameters(), lr=lr)\n",
        "criterion = nn.CrossEntropyLoss()\n",
        "\n",
        "start = time.time()\n",
        "my_all_losses = []\n",
        "my_loss_avg = 0\n",
        "\n",
        "for epoch in range(1, n_epochs + 1):\n",
        "  loss_ = train(*random_training_set(my_file_text, my_file_len, 200), my_decoder, my_decoder_optimizer)\n",
        "  my_loss_avg += loss_\n",
        "\n",
        "  if epoch % print_every == 0:\n",
        "      print('[%s (%d %d%%) %.4f]' % (time.time() - start, epoch, epoch / n_epochs * 100, loss_))\n",
        "      print(evaluate(my_decoder, 'Wh', 100), '\\n')\n",
        "\n",
        "  if epoch % plot_every == 0:\n",
        "      my_all_losses.append(my_loss_avg / plot_every)\n",
        "      my_loss_avg = 0"
      ],
      "metadata": {
        "colab": {
          "base_uri": "https://localhost:8080/"
        },
        "id": "sVzFg7AQsiQs",
        "outputId": "f9d3378e-a953-4446-b727-7650b4f639e4"
      },
      "execution_count": 15,
      "outputs": [
        {
          "output_type": "stream",
          "name": "stdout",
          "text": [
            "[140.4013946056366 (200 10%) 2.1889]\n",
            "Whe sea lal joll so of Som weathe and you pant of <eart fean't mat hat to thoncest gat if you you your \n",
            "\n",
            "[284.7523338794708 (400 20%) 1.9753]\n",
            "Whis Kister iled who dat this sens mame. stow for conted unsery will a did to besed is in is wething f \n",
            "\n",
            "[430.28567838668823 (600 30%) 1.8721]\n",
            "What's out!\n",
            "That's flow you don't ening piss she you like my your know this in is so dest in the ened  \n",
            "\n",
            "[576.2095651626587 (800 40%) 1.5571]\n",
            "Whrenst!\n",
            "I'm now think and I can guZse with in as a chandey.\n",
            "We're mone in of there.  Aang, you're and \n",
            "\n",
            "[720.9189915657043 (1000 50%) 1.9484]\n",
            "Where. The sand! I'm we sto thim. Don't would go?\n",
            "What do ope the are not some for the wirebender alli \n",
            "\n",
            "[861.8719162940979 (1200 60%) 1.8360]\n",
            "What?\n",
            "Uh!  Not to get of your will fi all I want you should see Zuko. Where's and not is cretter?\n",
            "What \n",
            "\n",
            "[1004.4797706604004 (1400 70%) 1.8296]\n",
            "Where washore.\n",
            "I knew be nothing on you they got in you were firebender! Well, we mean, I want a sing  \n",
            "\n",
            "[1144.216127872467 (1600 80%) 1.3453]\n",
            "Where I round hose ay descare!\n",
            "The pelse at in the way. Ig's going the one. Now. You have some starked \n",
            "\n",
            "[1281.6185939311981 (1800 90%) 1.7404]\n",
            "When than's is going that? What's it's about that this strence the queen of the only the World, you're \n",
            "\n",
            "[1421.8167898654938 (2000 100%) 1.4057]\n",
            "What you're sure Aang wears the being when your gide.\n",
            "Lesse? Well, and you do, I is change you real al \n",
            "\n"
          ]
        }
      ]
    }
  ],
  "metadata": {
    "colab": {
      "provenance": []
    },
    "kernelspec": {
      "display_name": "Python 3",
      "language": "python",
      "name": "python3"
    },
    "language_info": {
      "codemirror_mode": {
        "name": "ipython",
        "version": 3
      },
      "file_extension": ".py",
      "mimetype": "text/x-python",
      "name": "python",
      "nbconvert_exporter": "python",
      "pygments_lexer": "ipython3",
      "version": "3.7.1"
    },
    "pycharm": {
      "stem_cell": {
        "cell_type": "raw",
        "metadata": {
          "collapsed": false
        },
        "source": []
      }
    }
  },
  "nbformat": 4,
  "nbformat_minor": 0
}