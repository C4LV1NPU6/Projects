{
  "cells": [
    {
      "cell_type": "markdown",
      "metadata": {
        "id": "w-jFCArcTC-B"
      },
      "source": [
        "<a\n",
        "href=\"https://colab.research.google.com/github/wingated/cs474_labs_f2019/blob/master/DL_Lab9.ipynb\"\n",
        "  target=\"_parent\">\n",
        "  <img\n",
        "    src=\"https://colab.research.google.com/assets/colab-badge.svg\"\n",
        "    alt=\"Open In Colab\"/>\n",
        "</a>"
      ]
    },
    {
      "cell_type": "markdown",
      "metadata": {
        "id": "sl7hEuB3J4k3"
      },
      "source": [
        "# Lab 10: Deep Reinforcement Learning\n",
        "\n",
        "## Objective\n",
        "\n",
        "- Build DQN and PPO Deep RL algorithms\n",
        "- Learn the difference between Q Learning and Policy Gradient techniques\n",
        "\n",
        "## Deliverable\n",
        "\n",
        "For this lab you will submit an ipython notebook via learning suite. This lab gives you a lot of code, and you should only need to modify two of the cells of this notebook. Feel free to download and modify this notebook or create your own. The below code is given for your convinience. You can modify any of the given code if you wish.\n",
        "\n",
        "## Tips\n",
        "\n",
        "Deep reinforcement learning is difficult. We provide hyperparameters, visualizations, and code for gathering experience, but require you to code up algorithms for training your networks.\n",
        "\n",
        "- Your networks should be able to demonstrate learning on cartpole within a minute of wall time.\n",
        "\n",
        "- Understand what your the starter code is doing. This will help you with the *TODO* sections. The main code block is similar for the two algorithms with some small yet important differences.\n",
        "\n",
        "- We provide hyperparameters for you to start with. Feel free to experiment with different values, but these worked for us.\n",
        "\n",
        "- **Print dtypes and shapes** throughout your code to make sure your tensors look the way you expect.\n",
        "\n",
        "- The DQN algorithm is significantly more unstable than PPO. Even with a correct implementation it may fail to learn every 1/10 times.\n",
        "\n",
        "- Unfortunately visualizing your agent acting in the environment is non-trivial in Colab. You can visualize your agent by running this code locally and uncommenting the `env.render()` line.\n",
        "\n",
        "## Grading\n",
        "\n",
        "- 40% Part 1: DQN *TODO* methods\n",
        "- 40% Part 2: PPO *TODO* methods\n",
        "- 20% Cartpole learning curves\n",
        "\n",
        "\n",
        "### Cartpole\n",
        "\n",
        "Cartpole is a simple environment to get your agent up and running. It has a continuous state space of 4 dimensions and a discrete action space of 2. The agent is given a reward of 1 for each timestep it remains standing. Your agent should be able to reach close to 200 cumulative reward for an episode after a minute or two of training. The below graphs show example results for dqn (left) and ppo (right).\n",
        "\n",
        "![alt text](https://drive.google.com/uc?export=view&id=1Bpz1jOPMF1zJMW6XBJJ44sJ-RmO_q6_U)\n",
        "![alt text](https://drive.google.com/uc?export=view&id=1M1yygXhLKDL8qfRXn7fh_K-zq7-pQRhY)\n",
        "\n",
        "### TODO\n",
        "\n",
        "- Train DQN and PPO on cartpole\n",
        "- Display learning curves with average episodic reward per epoch"
      ]
    },
    {
      "cell_type": "markdown",
      "metadata": {
        "id": "gVWokqnVab6O"
      },
      "source": [
        "# Starter Code"
      ]
    },
    {
      "cell_type": "markdown",
      "metadata": {
        "id": "WhaPOG6xt0yn"
      },
      "source": [
        "## Init"
      ]
    },
    {
      "cell_type": "code",
      "execution_count": null,
      "metadata": {
        "id": "EyykNyRM1Tf3",
        "colab": {
          "base_uri": "https://localhost:8080/"
        },
        "outputId": "39afc544-a214-4b5c-87a5-68a297e8cb88"
      },
      "outputs": [
        {
          "output_type": "stream",
          "name": "stdout",
          "text": [
            "Collecting gymnasium\n",
            "  Downloading gymnasium-0.29.1-py3-none-any.whl (953 kB)\n",
            "\u001b[2K     \u001b[90m━━━━━━━━━━━━━━━━━━━━━━━━━━━━━━━━━━━━━━━━\u001b[0m \u001b[32m953.9/953.9 kB\u001b[0m \u001b[31m17.3 MB/s\u001b[0m eta \u001b[36m0:00:00\u001b[0m\n",
            "\u001b[?25hRequirement already satisfied: numpy>=1.21.0 in /usr/local/lib/python3.10/dist-packages (from gymnasium) (1.23.5)\n",
            "Requirement already satisfied: cloudpickle>=1.2.0 in /usr/local/lib/python3.10/dist-packages (from gymnasium) (2.2.1)\n",
            "Requirement already satisfied: typing-extensions>=4.3.0 in /usr/local/lib/python3.10/dist-packages (from gymnasium) (4.5.0)\n",
            "Collecting farama-notifications>=0.0.1 (from gymnasium)\n",
            "  Downloading Farama_Notifications-0.0.4-py3-none-any.whl (2.5 kB)\n",
            "Installing collected packages: farama-notifications, gymnasium\n",
            "Successfully installed farama-notifications-0.0.4 gymnasium-0.29.1\n",
            "Requirement already satisfied: torch in /usr/local/lib/python3.10/dist-packages (2.1.0+cu118)\n",
            "Requirement already satisfied: filelock in /usr/local/lib/python3.10/dist-packages (from torch) (3.13.1)\n",
            "Requirement already satisfied: typing-extensions in /usr/local/lib/python3.10/dist-packages (from torch) (4.5.0)\n",
            "Requirement already satisfied: sympy in /usr/local/lib/python3.10/dist-packages (from torch) (1.12)\n",
            "Requirement already satisfied: networkx in /usr/local/lib/python3.10/dist-packages (from torch) (3.2.1)\n",
            "Requirement already satisfied: jinja2 in /usr/local/lib/python3.10/dist-packages (from torch) (3.1.2)\n",
            "Requirement already satisfied: fsspec in /usr/local/lib/python3.10/dist-packages (from torch) (2023.6.0)\n",
            "Requirement already satisfied: triton==2.1.0 in /usr/local/lib/python3.10/dist-packages (from torch) (2.1.0)\n",
            "Requirement already satisfied: MarkupSafe>=2.0 in /usr/local/lib/python3.10/dist-packages (from jinja2->torch) (2.1.3)\n",
            "Requirement already satisfied: mpmath>=0.19 in /usr/local/lib/python3.10/dist-packages (from sympy->torch) (1.3.0)\n",
            "Requirement already satisfied: pygame in /usr/local/lib/python3.10/dist-packages (2.5.2)\n",
            "Requirement already satisfied: moviepy==1.0.3 in /usr/local/lib/python3.10/dist-packages (1.0.3)\n",
            "Requirement already satisfied: decorator<5.0,>=4.0.2 in /usr/local/lib/python3.10/dist-packages (from moviepy==1.0.3) (4.4.2)\n",
            "Requirement already satisfied: tqdm<5.0,>=4.11.2 in /usr/local/lib/python3.10/dist-packages (from moviepy==1.0.3) (4.66.1)\n",
            "Requirement already satisfied: requests<3.0,>=2.8.1 in /usr/local/lib/python3.10/dist-packages (from moviepy==1.0.3) (2.31.0)\n",
            "Requirement already satisfied: proglog<=1.0.0 in /usr/local/lib/python3.10/dist-packages (from moviepy==1.0.3) (0.1.10)\n",
            "Requirement already satisfied: numpy>=1.17.3 in /usr/local/lib/python3.10/dist-packages (from moviepy==1.0.3) (1.23.5)\n",
            "Requirement already satisfied: imageio<3.0,>=2.5 in /usr/local/lib/python3.10/dist-packages (from moviepy==1.0.3) (2.31.6)\n",
            "Requirement already satisfied: imageio-ffmpeg>=0.2.0 in /usr/local/lib/python3.10/dist-packages (from moviepy==1.0.3) (0.4.9)\n",
            "Requirement already satisfied: pillow<10.1.0,>=8.3.2 in /usr/local/lib/python3.10/dist-packages (from imageio<3.0,>=2.5->moviepy==1.0.3) (9.4.0)\n",
            "Requirement already satisfied: setuptools in /usr/local/lib/python3.10/dist-packages (from imageio-ffmpeg>=0.2.0->moviepy==1.0.3) (67.7.2)\n",
            "Requirement already satisfied: charset-normalizer<4,>=2 in /usr/local/lib/python3.10/dist-packages (from requests<3.0,>=2.8.1->moviepy==1.0.3) (3.3.2)\n",
            "Requirement already satisfied: idna<4,>=2.5 in /usr/local/lib/python3.10/dist-packages (from requests<3.0,>=2.8.1->moviepy==1.0.3) (3.4)\n",
            "Requirement already satisfied: urllib3<3,>=1.21.1 in /usr/local/lib/python3.10/dist-packages (from requests<3.0,>=2.8.1->moviepy==1.0.3) (2.0.7)\n",
            "Requirement already satisfied: certifi>=2017.4.17 in /usr/local/lib/python3.10/dist-packages (from requests<3.0,>=2.8.1->moviepy==1.0.3) (2023.7.22)\n",
            "Requirement already satisfied: imageio_ffmpeg in /usr/local/lib/python3.10/dist-packages (0.4.9)\n",
            "Requirement already satisfied: setuptools in /usr/local/lib/python3.10/dist-packages (from imageio_ffmpeg) (67.7.2)\n",
            "Collecting pyvirtualdisplay\n",
            "  Downloading PyVirtualDisplay-3.0-py3-none-any.whl (15 kB)\n",
            "Installing collected packages: pyvirtualdisplay\n",
            "Successfully installed pyvirtualdisplay-3.0\n",
            "Reading package lists... Done\n",
            "Building dependency tree... Done\n",
            "Reading state information... Done\n",
            "ffmpeg is already the newest version (7:4.4.2-0ubuntu0.22.04.1).\n",
            "The following additional packages will be installed:\n",
            "  freeglut3 libfontenc1 libglu1-mesa libxfont2 libxkbfile1 x11-xkb-utils xfonts-base\n",
            "  xfonts-encodings xfonts-utils xserver-common\n",
            "Suggested packages:\n",
            "  libgle3 python3-numpy\n",
            "The following NEW packages will be installed:\n",
            "  freeglut3 libfontenc1 libglu1-mesa libxfont2 libxkbfile1 python3-opengl x11-xkb-utils xfonts-base\n",
            "  xfonts-encodings xfonts-utils xserver-common xvfb\n",
            "0 upgraded, 12 newly installed, 0 to remove and 15 not upgraded.\n",
            "Need to get 8,638 kB of archives.\n",
            "After this operation, 20.0 MB of additional disk space will be used.\n",
            "Get:1 http://archive.ubuntu.com/ubuntu jammy/universe amd64 freeglut3 amd64 2.8.1-6 [74.0 kB]\n",
            "Get:2 http://archive.ubuntu.com/ubuntu jammy/main amd64 libfontenc1 amd64 1:1.1.4-1build3 [14.7 kB]\n",
            "Get:3 http://archive.ubuntu.com/ubuntu jammy/main amd64 libxfont2 amd64 1:2.0.5-1build1 [94.5 kB]\n",
            "Get:4 http://archive.ubuntu.com/ubuntu jammy/main amd64 libxkbfile1 amd64 1:1.1.0-1build3 [71.8 kB]\n",
            "Get:5 http://archive.ubuntu.com/ubuntu jammy/main amd64 libglu1-mesa amd64 9.0.2-1 [145 kB]\n",
            "Get:6 http://archive.ubuntu.com/ubuntu jammy/universe amd64 python3-opengl all 3.1.5+dfsg-1 [605 kB]\n",
            "Get:7 http://archive.ubuntu.com/ubuntu jammy/main amd64 x11-xkb-utils amd64 7.7+5build4 [172 kB]\n",
            "Get:8 http://archive.ubuntu.com/ubuntu jammy/main amd64 xfonts-encodings all 1:1.0.5-0ubuntu2 [578 kB]\n",
            "Get:9 http://archive.ubuntu.com/ubuntu jammy/main amd64 xfonts-utils amd64 1:7.7+6build2 [94.6 kB]\n",
            "Get:10 http://archive.ubuntu.com/ubuntu jammy/main amd64 xfonts-base all 1:1.0.5 [5,896 kB]\n",
            "Get:11 http://archive.ubuntu.com/ubuntu jammy-updates/main amd64 xserver-common all 2:21.1.4-2ubuntu1.7~22.04.2 [28.1 kB]\n",
            "Get:12 http://archive.ubuntu.com/ubuntu jammy-updates/universe amd64 xvfb amd64 2:21.1.4-2ubuntu1.7~22.04.2 [864 kB]\n",
            "Fetched 8,638 kB in 4s (2,454 kB/s)\n",
            "Selecting previously unselected package freeglut3:amd64.\n",
            "(Reading database ... 120882 files and directories currently installed.)\n",
            "Preparing to unpack .../00-freeglut3_2.8.1-6_amd64.deb ...\n",
            "Unpacking freeglut3:amd64 (2.8.1-6) ...\n",
            "Selecting previously unselected package libfontenc1:amd64.\n",
            "Preparing to unpack .../01-libfontenc1_1%3a1.1.4-1build3_amd64.deb ...\n",
            "Unpacking libfontenc1:amd64 (1:1.1.4-1build3) ...\n",
            "Selecting previously unselected package libxfont2:amd64.\n",
            "Preparing to unpack .../02-libxfont2_1%3a2.0.5-1build1_amd64.deb ...\n",
            "Unpacking libxfont2:amd64 (1:2.0.5-1build1) ...\n",
            "Selecting previously unselected package libxkbfile1:amd64.\n",
            "Preparing to unpack .../03-libxkbfile1_1%3a1.1.0-1build3_amd64.deb ...\n",
            "Unpacking libxkbfile1:amd64 (1:1.1.0-1build3) ...\n",
            "Selecting previously unselected package libglu1-mesa:amd64.\n",
            "Preparing to unpack .../04-libglu1-mesa_9.0.2-1_amd64.deb ...\n",
            "Unpacking libglu1-mesa:amd64 (9.0.2-1) ...\n",
            "Selecting previously unselected package python3-opengl.\n",
            "Preparing to unpack .../05-python3-opengl_3.1.5+dfsg-1_all.deb ...\n",
            "Unpacking python3-opengl (3.1.5+dfsg-1) ...\n",
            "Selecting previously unselected package x11-xkb-utils.\n",
            "Preparing to unpack .../06-x11-xkb-utils_7.7+5build4_amd64.deb ...\n",
            "Unpacking x11-xkb-utils (7.7+5build4) ...\n",
            "Selecting previously unselected package xfonts-encodings.\n",
            "Preparing to unpack .../07-xfonts-encodings_1%3a1.0.5-0ubuntu2_all.deb ...\n",
            "Unpacking xfonts-encodings (1:1.0.5-0ubuntu2) ...\n",
            "Selecting previously unselected package xfonts-utils.\n",
            "Preparing to unpack .../08-xfonts-utils_1%3a7.7+6build2_amd64.deb ...\n",
            "Unpacking xfonts-utils (1:7.7+6build2) ...\n",
            "Selecting previously unselected package xfonts-base.\n",
            "Preparing to unpack .../09-xfonts-base_1%3a1.0.5_all.deb ...\n",
            "Unpacking xfonts-base (1:1.0.5) ...\n",
            "Selecting previously unselected package xserver-common.\n",
            "Preparing to unpack .../10-xserver-common_2%3a21.1.4-2ubuntu1.7~22.04.2_all.deb ...\n",
            "Unpacking xserver-common (2:21.1.4-2ubuntu1.7~22.04.2) ...\n",
            "Selecting previously unselected package xvfb.\n",
            "Preparing to unpack .../11-xvfb_2%3a21.1.4-2ubuntu1.7~22.04.2_amd64.deb ...\n",
            "Unpacking xvfb (2:21.1.4-2ubuntu1.7~22.04.2) ...\n",
            "Setting up freeglut3:amd64 (2.8.1-6) ...\n",
            "Setting up libfontenc1:amd64 (1:1.1.4-1build3) ...\n",
            "Setting up xfonts-encodings (1:1.0.5-0ubuntu2) ...\n",
            "Setting up libglu1-mesa:amd64 (9.0.2-1) ...\n",
            "Setting up libxkbfile1:amd64 (1:1.1.0-1build3) ...\n",
            "Setting up libxfont2:amd64 (1:2.0.5-1build1) ...\n",
            "Setting up x11-xkb-utils (7.7+5build4) ...\n",
            "Setting up python3-opengl (3.1.5+dfsg-1) ...\n",
            "Setting up xfonts-utils (1:7.7+6build2) ...\n",
            "Setting up xfonts-base (1:1.0.5) ...\n",
            "Setting up xserver-common (2:21.1.4-2ubuntu1.7~22.04.2) ...\n",
            "Setting up xvfb (2:21.1.4-2ubuntu1.7~22.04.2) ...\n",
            "Processing triggers for man-db (2.10.2-1) ...\n",
            "Processing triggers for fontconfig (2.13.1-4.2ubuntu5) ...\n",
            "Processing triggers for libc-bin (2.35-0ubuntu3.4) ...\n",
            "/sbin/ldconfig.real: /usr/local/lib/libtbbbind.so.3 is not a symbolic link\n",
            "\n",
            "/sbin/ldconfig.real: /usr/local/lib/libtbbmalloc.so.2 is not a symbolic link\n",
            "\n",
            "/sbin/ldconfig.real: /usr/local/lib/libtbbbind_2_0.so.3 is not a symbolic link\n",
            "\n",
            "/sbin/ldconfig.real: /usr/local/lib/libtbb.so.12 is not a symbolic link\n",
            "\n",
            "/sbin/ldconfig.real: /usr/local/lib/libtbbbind_2_5.so.3 is not a symbolic link\n",
            "\n",
            "/sbin/ldconfig.real: /usr/local/lib/libtbbmalloc_proxy.so.2 is not a symbolic link\n",
            "\n"
          ]
        }
      ],
      "source": [
        "! pip3 install gymnasium\n",
        "! pip3 install torch\n",
        "! pip install pygame\n",
        "! pip install moviepy==1.0.3\n",
        "! pip install imageio_ffmpeg\n",
        "####################\n",
        "! pip install pyvirtualdisplay\n",
        "! apt-get install -y xvfb python3-opengl ffmpeg\n",
        "####################"
      ]
    },
    {
      "cell_type": "code",
      "execution_count": null,
      "metadata": {
        "id": "Rim8iocC1Vva"
      },
      "outputs": [],
      "source": [
        "import gymnasium as gym\n",
        "import torch\n",
        "import torch.nn as nn\n",
        "import torch.nn.functional as F\n",
        "from itertools import chain\n",
        "import matplotlib.pyplot as plt\n",
        "from tqdm import tqdm\n",
        "import random\n",
        "from torch.utils.data import Dataset, DataLoader\n",
        "import numpy as np\n",
        "\n",
        "####################\n",
        "from gymnasium import logger as gymlogger\n",
        "from gymnasium.wrappers import RecordVideo\n",
        "gymlogger.set_level(40) #error only\n",
        "\n",
        "import glob\n",
        "import io\n",
        "import base64\n",
        "from IPython.display import HTML\n",
        "from IPython import display as ipythondisplay\n",
        "####################"
      ]
    },
    {
      "cell_type": "code",
      "execution_count": null,
      "metadata": {
        "id": "l1f8lZp19Lwj",
        "colab": {
          "base_uri": "https://localhost:8080/"
        },
        "outputId": "35ef99b3-9ef5-4ebf-f43a-2f1c98fd0efb"
      },
      "outputs": [
        {
          "output_type": "execute_result",
          "data": {
            "text/plain": [
              "<pyvirtualdisplay.display.Display at 0x7df31a1708e0>"
            ]
          },
          "metadata": {},
          "execution_count": 3
        }
      ],
      "source": [
        "######################\n",
        "from pyvirtualdisplay import Display\n",
        "display = Display(visible=0, size=(1400,900))\n",
        "display.start()\n",
        "######################"
      ]
    },
    {
      "cell_type": "code",
      "execution_count": null,
      "metadata": {
        "id": "_TI_5c0l9Ojv"
      },
      "outputs": [],
      "source": [
        "######################\n",
        "def show_video():\n",
        "  mp4list = glob.glob('video/*.mp4')\n",
        "  if len(mp4list) > 0:\n",
        "    mp4 = mp4list[0]\n",
        "    video = io.open(mp4, 'r+b').read()\n",
        "    encoded = base64.b64encode(video)\n",
        "    ipythondisplay.display(HTML(data='''<video alt=\"test\" autoplay\n",
        "                loop controls style=\"height: 400px;\">\n",
        "                <source src=\"data:video/mp4;base64,{0}\" type=\"video/mp4\" />\n",
        "             </video>'''.format(encoded.decode('ascii'))))\n",
        "  else:\n",
        "    print(\"Could not find video\")\n",
        "\n",
        "def wrap_env(env):\n",
        "  env = RecordVideo(env, './video')\n",
        "  return env\n",
        "######################"
      ]
    },
    {
      "cell_type": "markdown",
      "metadata": {
        "id": "mV282uYJ2aSw"
      },
      "source": [
        "## DQN"
      ]
    },
    {
      "cell_type": "markdown",
      "metadata": {
        "id": "Qi_aDdTg2btp"
      },
      "source": [
        "## Part 1\n",
        "\n",
        "\n",
        "Deep Q-Network (https://www.cs.toronto.edu/~vmnih/docs/dqn.pdf) is a Q-learning algorithm that learns values for state-action pairs.\n",
        "\n",
        "Actions are sampled according to an $\\epsilon-greedy$ policy to help with exploration of the state space. Every time an action is sampled, the agent chooses a random action with $\\epsilon$ probability. Otherwise, the agent selects the action with the highest Q-value for a state. $\\epsilon$ decays over time according to $\\epsilon \\gets \\epsilon * epsilon\\_decay$.\n",
        "\n",
        "Tuples of state, action, reward, next_state, and terminal $(s,a,r,s',d)$ are collected during training. Every $learn\\_frequency$ steps $sample\\_size$ tuples are sampled and made into 5 tensors tensors of states, actions, rewarads, next_states, and terminals.\n",
        "\n",
        "The loss for a batch of size N is given below.\n",
        "\n",
        "$Loss=\\frac{1}{N}\\sum \\bigg(Q(s,a) - (r + \\gamma \\underset{a'\\sim A}{max} \\hat{Q}(s',a')(1-d))\\bigg)^2 $\n",
        "\n",
        "Loss is calculated and used to update the Q-Network. The target network $\\hat{Q}$ begins as a copy of the Q network but is not updated by the optimizer. Every $target\\_update$ steps, the target network is updated with the parameters of the Q-Network. This process is a type of bootstrapping.\n",
        "\n",
        "### TODO\n",
        "\n",
        "- Implement get action method with e-greedy policy\n",
        "- Implement sample batch method\n",
        "- Implement DQN learning algorithm\n",
        "\n"
      ]
    },
    {
      "cell_type": "code",
      "execution_count": null,
      "metadata": {
        "id": "_mBUvXkT2dHy"
      },
      "outputs": [],
      "source": [
        "def get_action_dqn(network, state, epsilon, epsilon_decay):\n",
        "  \"\"\"Select action according to e-greedy policy and decay epsilon\n",
        "\n",
        "    Args:\n",
        "        network (QNetwork): Q-Network\n",
        "        state (np-array): current state, size (state_size)\n",
        "        epsilon (float): probability of choosing a random action\n",
        "        epsilon_decay (float): amount by which to decay epsilon\n",
        "\n",
        "    Returns:\n",
        "        action (int): chosen action [0, action_size)\n",
        "        epsilon (float): decayed epsilon\n",
        "  \"\"\"\n",
        "\n",
        "  if np.random.rand() < epsilon:\n",
        "    action = np.random.randint(2)\n",
        "  else:\n",
        "    state_t = torch.cuda.FloatTensor(state)\n",
        "    action = torch.argmax(network(state_t)).item()\n",
        "\n",
        "  epsilon *= epsilon_decay\n",
        "\n",
        "  return action, epsilon\n",
        "\n",
        "\n",
        "def prepare_batch(memory, batch_size):\n",
        "  \"\"\"Randomly sample batch from memory\n",
        "     Prepare cuda tensors\n",
        "\n",
        "    Args:\n",
        "        memory (list): state, action, next_state, reward, done tuples\n",
        "        batch_size (int): amount of memory to sample into a batch\n",
        "\n",
        "    Returns:\n",
        "        state (tensor): float cuda tensor of size (batch_size x state_size)\n",
        "        action (tensor): long tensor of size (batch_size)\n",
        "        next_state (tensor): float cuda tensor of size (batch_size x state_size)\n",
        "        reward (tensor): float cuda tensor of size (batch_size)\n",
        "        done (tensor): float cuda tensor of size (batch_size)\n",
        "  \"\"\"\n",
        "\n",
        "  sample = random.sample(memory, batch_size)\n",
        "\n",
        "  s, a, n, r, d = [], [], [], [], []\n",
        "  for i in range(batch_size):\n",
        "    s.append( sample[i][0] )\n",
        "    a.append( sample[i][1] )\n",
        "    n.append( sample[i][2] )\n",
        "    r.append( sample[i][3] )\n",
        "    d.append( sample[i][4] )\n",
        "\n",
        "  states = torch.cuda.FloatTensor(s)\n",
        "  actions = torch.cuda.LongTensor(a)\n",
        "  next_states = torch.cuda.FloatTensor(n)\n",
        "  rewards = torch.cuda.FloatTensor(r)\n",
        "  dones = torch.cuda.FloatTensor(d)\n",
        "\n",
        "  return states, actions, next_states, rewards, dones\n",
        "\n",
        "\n",
        "def learn_dqn(batch, optim, q_network, target_network, gamma, global_step, target_update):\n",
        "  \"\"\"Update Q-Network according to DQN Loss function\n",
        "     Update Target Network every target_update global steps\n",
        "\n",
        "    Args:\n",
        "        batch (tuple): tuple of state, action, next_state, reward, and done tensors\n",
        "        optim (Adam): Q-Network optimizer\n",
        "        q_network (QNetwork): Q-Network\n",
        "        target_network (QNetwork): Target Q-Network\n",
        "        gamma (float): discount factor\n",
        "        global_step (int): total steps taken in environment\n",
        "        target_update (int): frequency of target network update\n",
        "  \"\"\"\n",
        "\n",
        "  optim.zero_grad()\n",
        "\n",
        "  state, action, next_state, reward, done = batch\n",
        "  a = action[:,None]\n",
        "\n",
        "  q_val = q_network(state).gather(1, a).squeeze()\n",
        "  reward_dis = reward + gamma * torch.max(target_network(next_state), dim=1)[0]\n",
        "  terminal = 1 - done\n",
        "  loss = torch.mean( (q_val - reward_dis*terminal)**2 )\n",
        "\n",
        "  loss.backward( )\n",
        "  optim.step()\n",
        "\n",
        "  if global_step % target_update == 0:\n",
        "    target_network.load_state_dict( q_network.state_dict() )\n"
      ]
    },
    {
      "cell_type": "markdown",
      "metadata": {
        "id": "vGQgiY0WvImB"
      },
      "source": [
        "### Modules"
      ]
    },
    {
      "cell_type": "code",
      "execution_count": null,
      "metadata": {
        "id": "1vMhl-oevIBo"
      },
      "outputs": [],
      "source": [
        "# Q-Value Network\n",
        "class QNetwork(nn.Module):\n",
        "  def __init__(self, state_size, action_size):\n",
        "    super().__init__()\n",
        "    hidden_size = 8\n",
        "\n",
        "    self.net = nn.Sequential(nn.Linear(state_size, hidden_size),\n",
        "                             nn.ReLU(),\n",
        "                             nn.Linear(hidden_size, hidden_size),\n",
        "                             nn.ReLU(),\n",
        "                             nn.Linear(hidden_size, hidden_size),\n",
        "                             nn.ReLU(),\n",
        "                             nn.Linear(hidden_size, action_size))\n",
        "\n",
        "  def forward(self, x):\n",
        "    \"\"\"Estimate q-values given state\n",
        "\n",
        "      Args:\n",
        "          state (tensor): current state, size (batch x state_size)\n",
        "\n",
        "      Returns:\n",
        "          q-values (tensor): estimated q-values, size (batch x action_size)\n",
        "    \"\"\"\n",
        "    return self.net(x)"
      ]
    },
    {
      "cell_type": "markdown",
      "metadata": {
        "id": "yCafVI552dgg"
      },
      "source": [
        "### Main"
      ]
    },
    {
      "cell_type": "code",
      "execution_count": null,
      "metadata": {
        "id": "8Sy_r9Wr2eg8",
        "colab": {
          "base_uri": "https://localhost:8080/",
          "height": 830
        },
        "outputId": "2a6482e6-f3ee-43b0-f1e4-60209f2abe23"
      },
      "outputs": [
        {
          "output_type": "stream",
          "name": "stderr",
          "text": [
            "Episodes: 0 Reward: 19.0:   0%|          | 1/500 [00:00<00:00, 869.83it/s]<ipython-input-5-5f25402ced60>:18: UserWarning: The torch.cuda.*DtypeTensor constructors are no longer recommended. It's best to use methods such as torch.tensor(data, dtype=*, device='cuda') to create tensors. (Triggered internally at ../torch/csrc/tensor/python_tensor.cpp:83.)\n",
            "  state_t = torch.cuda.FloatTensor(state)\n",
            "Episodes: 49 Reward: 12.0:  10%|█         | 50/500 [00:00<00:04, 96.85it/s]<ipython-input-5-5f25402ced60>:52: UserWarning: Creating a tensor from a list of numpy.ndarrays is extremely slow. Please consider converting the list to a single numpy.ndarray with numpy.array() before converting to a tensor. (Triggered internally at ../torch/csrc/utils/tensor_new.cpp:261.)\n",
            "  states = torch.cuda.FloatTensor(s)\n",
            "Episodes: 498 Reward: 168.0: 100%|█████████▉| 499/500 [01:18<00:00,  2.78it/s]"
          ]
        },
        {
          "output_type": "stream",
          "name": "stdout",
          "text": [
            "Moviepy - Building video /content/video/rl-video-episode-0.mp4.\n",
            "Moviepy - Writing video /content/video/rl-video-episode-0.mp4\n",
            "\n"
          ]
        },
        {
          "output_type": "stream",
          "name": "stderr",
          "text": [
            "\n",
            "t:   0%|          | 0/172 [00:00<?, ?it/s, now=None]\u001b[A\n",
            "t:   2%|▏         | 3/172 [00:00<00:05, 28.87it/s, now=None]\u001b[A\n",
            "t:  19%|█▉        | 33/172 [00:00<00:00, 184.06it/s, now=None]\u001b[A\n",
            "t:  30%|███       | 52/172 [00:00<00:00, 167.19it/s, now=None]\u001b[A\n",
            "t:  40%|████      | 69/172 [00:00<00:00, 158.00it/s, now=None]\u001b[A\n",
            "t:  50%|█████     | 86/172 [00:00<00:00, 159.28it/s, now=None]\u001b[A\n",
            "t:  60%|█████▉    | 103/172 [00:00<00:00, 160.02it/s, now=None]\u001b[A\n",
            "t:  70%|███████   | 121/172 [00:00<00:00, 165.63it/s, now=None]\u001b[A\n",
            "t:  80%|████████  | 138/172 [00:00<00:00, 164.75it/s, now=None]\u001b[A\n",
            "t:  90%|█████████ | 155/172 [00:00<00:00, 163.04it/s, now=None]\u001b[A\n",
            "t: 100%|██████████| 172/172 [00:01<00:00, 156.70it/s, now=None]\u001b[A\n",
            "                                                                              "
          ]
        },
        {
          "output_type": "stream",
          "name": "stdout",
          "text": [
            "Moviepy - Done !\n",
            "Moviepy - video ready /content/video/rl-video-episode-0.mp4\n"
          ]
        },
        {
          "output_type": "stream",
          "name": "stderr",
          "text": [
            "\r"
          ]
        },
        {
          "output_type": "display_data",
          "data": {
            "text/plain": [
              "<IPython.core.display.HTML object>"
            ],
            "text/html": [
              "<video alt=\"test\" autoplay\n",
              "                loop controls style=\"height: 400px;\">\n",
              "                <source src=\"data:video/mp4;base64,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\" type=\"video/mp4\" />\n",
              "             </video>"
            ]
          },
          "metadata": {}
        }
      ],
      "source": [
        "def dqn_main():\n",
        "  # Hyper parameters\n",
        "  lr = 1e-3\n",
        "  epochs = 500\n",
        "  start_training = 1000\n",
        "  gamma = 0.99\n",
        "  batch_size = 32\n",
        "  epsilon = 1\n",
        "  epsilon_decay = .9999\n",
        "  target_update = 1000\n",
        "  learn_frequency = 2\n",
        "\n",
        "  # Init environment\n",
        "  state_size = 4\n",
        "  action_size = 2\n",
        "  env = gym.make('CartPole-v1', render_mode=\"rgb_array\")\n",
        "\n",
        "  # Init networks\n",
        "  q_network = QNetwork(state_size, action_size).cuda()\n",
        "  target_network = QNetwork(state_size, action_size).cuda()\n",
        "  target_network.load_state_dict(q_network.state_dict())\n",
        "\n",
        "  # Init optimizer\n",
        "  optim = torch.optim.Adam(q_network.parameters(), lr=lr)\n",
        "\n",
        "  # Init replay buffer\n",
        "  memory = []\n",
        "\n",
        "  # Begin main loop\n",
        "  results_dqn = []\n",
        "  global_step = 0\n",
        "  loop = tqdm(total=epochs, position=0, leave=False)\n",
        "  for epoch in range(epochs):\n",
        "    ######################\n",
        "    last_epoch = (epoch+1 == epochs)\n",
        "    # Record the last epoch, not the previous epochs\n",
        "    if last_epoch:\n",
        "      env = wrap_env(env)\n",
        "    ######################\n",
        "\n",
        "    # Reset environment\n",
        "    state, _ = env.reset()\n",
        "    done = False\n",
        "    cum_reward = 0  # Track cumulative reward per episode\n",
        "\n",
        "    # Begin episode\n",
        "    while not done and cum_reward < 200:  # End after 200 steps\n",
        "      # Select e-greedy action\n",
        "      action, epsilon = get_action_dqn(q_network, state, epsilon, epsilon_decay)\n",
        "\n",
        "      # Take step\n",
        "      next_state, reward, terminated, truncated, _ = env.step(action)\n",
        "      done = terminated or truncated\n",
        "      # env.render()\n",
        "\n",
        "      # Store step in replay buffer\n",
        "      memory.append((state, action, next_state, reward, done))\n",
        "\n",
        "      cum_reward += reward\n",
        "      global_step += 1  # Increment total steps\n",
        "      state = next_state  # Set current state\n",
        "\n",
        "      # If time to train\n",
        "      if global_step > start_training and global_step % learn_frequency == 0:\n",
        "\n",
        "        # Sample batch\n",
        "        batch = prepare_batch(memory, batch_size)\n",
        "\n",
        "        # Train\n",
        "        learn_dqn(batch, optim, q_network, target_network, gamma, global_step, target_update)\n",
        "    ######################\n",
        "    env.close()\n",
        "    ######################\n",
        "    # Print results at end of episode\n",
        "    results_dqn.append(cum_reward)\n",
        "    loop.update(1)\n",
        "    loop.set_description('Episodes: {} Reward: {}'.format(epoch, cum_reward))\n",
        "\n",
        "  return results_dqn\n",
        "\n",
        "results_dqn = dqn_main()\n",
        "######################\n",
        "show_video()\n",
        "######################"
      ]
    },
    {
      "cell_type": "code",
      "execution_count": null,
      "metadata": {
        "id": "ZWYwytCDC3aw",
        "colab": {
          "base_uri": "https://localhost:8080/",
          "height": 430
        },
        "outputId": "c8ccf0d9-8a13-457b-857a-240e9de12aa0"
      },
      "outputs": [
        {
          "output_type": "display_data",
          "data": {
            "text/plain": [
              "<Figure size 640x480 with 1 Axes>"
            ],
            "image/png": "[encoded data removed]"
          },
          "metadata": {}
        }
      ],
      "source": [
        "plt.plot(results_dqn)\n",
        "plt.show()"
      ]
    },
    {
      "cell_type": "markdown",
      "metadata": {
        "id": "qN9yy5EWVNz0"
      },
      "source": [
        "## PPO"
      ]
    },
    {
      "cell_type": "markdown",
      "metadata": {
        "id": "XvRUJUew0yN_"
      },
      "source": [
        "## Part 2\n",
        "\n",
        "Proximal Policy Optimization (https://arxiv.org/pdf/1707.06347.pdf) is a type of policy gradient method. Instead of calculating Q-values, we train a network $\\pi$ to optimize the probability of taking good actions directly, using states as inputs and actions as outputs. PPO also uses a value network $V$ that estimates state values in order to estimate the advantage $\\hat{A}$.\n",
        "\n",
        "Tuples of state, action distribution, action taken, and return $(s,\\pi(s), a,\\hat{R})$ are gathered for several rollouts. After training on this experience, these tuples are discarded and new experience is gathered.\n",
        "\n",
        "Loss for the value network and the policy network are calculated according to the following formula:\n",
        "\n",
        "$Loss=ValueLoss+PolicyLoss$\n",
        "\n",
        "$ValueLoss=\\frac{1}{N}\\sum \\bigg(\\hat{R} - V(s) \\bigg)^2 $\n",
        "\n",
        "$PolicyLoss=-\\frac{1}{N}\\sum \\min\\bigg( \\frac{\\pi'(a|s)}{\\pi(a|s)} \\hat{A}, clip(\\frac{\\pi'(a|s)}{\\pi(a|s)},1-\\epsilon,1+\\epsilon) \\hat{A} \\bigg) $\n",
        "\n",
        "$\\hat{R}_t = \\sum_{i=t}^H \\gamma^{i-1}r_i$\n",
        "\n",
        "$\\hat{A}_t=\\hat{R}_t-V(s_t)$\n",
        "\n",
        "Here, $\\pi'(a|s)$ is the probability of taking an action given a state under the current policy and $\\pi(a|s)$ is the probability of taking an action given a state under the policy used to gather data. In the loss function, $a$ is the action your agent actually took and is sampled from memory.\n",
        "\n",
        "Additionally, the $clip$ function clips the value of the first argument according to the lower and upper bounds in the second and third arguments resectively.\n",
        "\n",
        "Another important note: Your the calculation of your advantage $\\hat{A}$ should not permit gradient flow from your policy loss calculation. In other words, make sure to call `.detach()` on your advantage.\n",
        "\n",
        "### TODO\n",
        "\n",
        "- Implement calculate return method\n",
        "- Implement get action method\n",
        "- Implement PPO learning algorithm"
      ]
    },
    {
      "cell_type": "code",
      "execution_count": null,
      "metadata": {
        "id": "zsm1pILHVcEp"
      },
      "outputs": [],
      "source": [
        "def calculate_return(memory, rollout, gamma):\n",
        "  \"\"\"Return memory with calculated return in experience tuple\n",
        "\n",
        "    Args:\n",
        "        memory (list): (state, action, action_dist, return) tuples\n",
        "        rollout (list): (state, action, action_dist, reward) tuples from last rollout\n",
        "        gamma (float): discount factor\n",
        "\n",
        "    Returns:\n",
        "        list: memory updated with (state, action, action_dist, return) tuples from rollout\n",
        "  \"\"\"\n",
        "\n",
        "  ret = 0\n",
        "  for state, action, action_dist, reward in reversed(rollout):\n",
        "    ret = reward + ret*gamma\n",
        "    memory.append((state, action, action_dist, ret))\n",
        "  return memory\n",
        "\n",
        "\n",
        "def get_action_ppo(network, state):\n",
        "  \"\"\"Sample action from the distribution obtained from the policy network\n",
        "\n",
        "    Args:\n",
        "        network (PolicyNetwork): Policy Network\n",
        "        state (np-array): current state, size (state_size)\n",
        "\n",
        "    Returns:\n",
        "        int: action sampled from output distribution of policy network\n",
        "        array: output distribution of policy network\n",
        "  \"\"\"\n",
        "\n",
        "  state_t = torch.cuda.FloatTensor(state).unsqueeze(0)\n",
        "  action_dist = network(state_t)\n",
        "  action = torch.multinomial(action_dist, 1).item()\n",
        "  return action, action_dist.detach()\n",
        "\n",
        "\n",
        "def learn_ppo(optim, policy, value, memory_dataloader, epsilon, policy_epochs):\n",
        "  \"\"\"Implement PPO policy and value network updates. Iterate over your entire\n",
        "     memory the number of times indicated by policy_epochs.\n",
        "\n",
        "    Args:\n",
        "        optim (Adam): value and policy optimizer\n",
        "        policy (PolicyNetwork): Policy Network\n",
        "        value (ValueNetwork): Value Network\n",
        "        memory_dataloader (DataLoader): dataloader with (state, action, action_dist, return) tensors\n",
        "        epsilon (float): trust region\n",
        "        policy_epochs (int): number of times to iterate over all memory\n",
        "  \"\"\"\n",
        "\n",
        "  mse = nn.MSELoss()\n",
        "  for i in range(policy_epochs):\n",
        "    for s, a, a_d, r in memory_dataloader:\n",
        "      optim.zero_grad()\n",
        "\n",
        "      state = s.type_as(torch.cuda.FloatTensor())\n",
        "      action = a.type_as(torch.cuda.LongTensor())\n",
        "      action_dist = a_d.type_as(torch.cuda.FloatTensor()).squeeze()\n",
        "      ret = r.type_as(torch.cuda.FloatTensor())\n",
        "      a = action[:,None]\n",
        "\n",
        "      value_state = value(state).squeeze()\n",
        "      value_loss = mse(ret, value_state)\n",
        "\n",
        "      advantage = (ret - value_state).detach()\n",
        "      curr_prob = policy(state).gather(1, a).squeeze()\n",
        "      past_prob = action_dist.gather(1, a).squeeze()\n",
        "      ratio = curr_prob/past_prob\n",
        "      clipped_ratio = torch.clamp(ratio, 1-epsilon, 1+epsilon)\n",
        "      policy_loss = -torch.mean(torch.min(ratio*advantage, clipped_ratio*advantage))\n",
        "\n",
        "      loss = value_loss + policy_loss\n",
        "\n",
        "      loss.backward()\n",
        "      optim.step()"
      ]
    },
    {
      "cell_type": "markdown",
      "metadata": {
        "id": "R6RXma_-vSGX"
      },
      "source": [
        "### Modules"
      ]
    },
    {
      "cell_type": "code",
      "execution_count": null,
      "metadata": {
        "id": "L8URnP8xvTTG"
      },
      "outputs": [],
      "source": [
        "# Dataset that wraps memory for a dataloader\n",
        "class RLDataset(Dataset):\n",
        "  def __init__(self, data):\n",
        "    super().__init__()\n",
        "    self.data = []\n",
        "    for d in data:\n",
        "      self.data.append(d)\n",
        "\n",
        "  def __getitem__(self, index):\n",
        "    return self.data[index]\n",
        "\n",
        "  def __len__(self):\n",
        "    return len(self.data)\n",
        "\n",
        "\n",
        "# Policy Network\n",
        "class PolicyNetwork(nn.Module):\n",
        "  def __init__(self, state_size, action_size):\n",
        "    super().__init__()\n",
        "    hidden_size = 8\n",
        "\n",
        "    self.net = nn.Sequential(nn.Linear(state_size, hidden_size),\n",
        "                             nn.ReLU(),\n",
        "                             nn.Linear(hidden_size, hidden_size),\n",
        "                             nn.ReLU(),\n",
        "                             nn.Linear(hidden_size, hidden_size),\n",
        "                             nn.ReLU(),\n",
        "                             nn.Linear(hidden_size, action_size),\n",
        "                             nn.Softmax(dim=1))\n",
        "\n",
        "  def forward(self, x):\n",
        "    \"\"\"Get policy from state\n",
        "\n",
        "      Args:\n",
        "          state (tensor): current state, size (batch x state_size)\n",
        "\n",
        "      Returns:\n",
        "          action_dist (tensor): probability distribution over actions (batch x action_size)\n",
        "    \"\"\"\n",
        "    return self.net(x)\n",
        "\n",
        "\n",
        "# Value Network\n",
        "class ValueNetwork(nn.Module):\n",
        "  def __init__(self, state_size):\n",
        "    super().__init__()\n",
        "    hidden_size = 8\n",
        "\n",
        "    self.net = nn.Sequential(nn.Linear(state_size, hidden_size),\n",
        "                             nn.ReLU(),\n",
        "                             nn.Linear(hidden_size, hidden_size),\n",
        "                             nn.ReLU(),\n",
        "                             nn.Linear(hidden_size, hidden_size),\n",
        "                             nn.ReLU(),\n",
        "                             nn.Linear(hidden_size, 1))\n",
        "\n",
        "  def forward(self, x):\n",
        "    \"\"\"Estimate value given state\n",
        "\n",
        "      Args:\n",
        "          state (tensor): current state, size (batch x state_size)\n",
        "\n",
        "      Returns:\n",
        "          value (tensor): estimated value, size (batch)\n",
        "    \"\"\"\n",
        "    return self.net(x)"
      ]
    },
    {
      "cell_type": "markdown",
      "metadata": {
        "id": "_aBD_R_e01Qb"
      },
      "source": [
        "### Main"
      ]
    },
    {
      "cell_type": "code",
      "execution_count": null,
      "metadata": {
        "id": "qX_Bv4M4MyY2",
        "colab": {
          "base_uri": "https://localhost:8080/",
          "height": 1000
        },
        "outputId": "d5c15001-cbb6-4c5c-b181-a92a3bde6793"
      },
      "outputs": [
        {
          "output_type": "stream",
          "name": "stderr",
          "text": [
            "  0%|          | 0/20 [03:23<?, ?it/s]"
          ]
        },
        {
          "output_type": "stream",
          "name": "stdout",
          "text": [
            "Moviepy - Building video /content/video/rl-video-episode-0.mp4.\n",
            "Moviepy - Writing video /content/video/rl-video-episode-0.mp4\n",
            "\n"
          ]
        },
        {
          "output_type": "stream",
          "name": "stderr",
          "text": [
            "\n",
            "t:   0%|          | 0/202 [00:00<?, ?it/s, now=None]\u001b[A\n",
            "t:  22%|██▏       | 44/202 [00:00<00:00, 439.77it/s, now=None]\u001b[A\n",
            "t:  44%|████▎     | 88/202 [00:00<00:00, 297.87it/s, now=None]\u001b[A\n",
            "t:  60%|█████▉    | 121/202 [00:00<00:00, 275.79it/s, now=None]\u001b[A\n",
            "t:  74%|███████▍  | 150/202 [00:00<00:00, 273.84it/s, now=None]\u001b[A\n",
            "t:  89%|████████▊ | 179/202 [00:00<00:00, 261.26it/s, now=None]\u001b[A\n",
            "  0%|          | 0/20 [03:24<?, ?it/s]"
          ]
        },
        {
          "output_type": "stream",
          "name": "stdout",
          "text": [
            "Moviepy - Done !\n",
            "Moviepy - video ready /content/video/rl-video-episode-0.mp4\n"
          ]
        },
        {
          "output_type": "stream",
          "name": "stderr",
          "text": [
            "  0%|          | 0/20 [03:24<?, ?it/s]"
          ]
        },
        {
          "output_type": "stream",
          "name": "stdout",
          "text": [
            "Moviepy - Building video /content/video/rl-video-episode-0.mp4.\n",
            "Moviepy - Writing video /content/video/rl-video-episode-0.mp4\n",
            "\n"
          ]
        },
        {
          "output_type": "stream",
          "name": "stderr",
          "text": [
            "\n",
            "t:   0%|          | 0/171 [00:00<?, ?it/s, now=None]\u001b[A\n",
            "t:  24%|██▍       | 41/171 [00:00<00:00, 409.38it/s, now=None]\u001b[A\n",
            "t:  48%|████▊     | 82/171 [00:00<00:00, 277.67it/s, now=None]\u001b[A\n",
            "t:  66%|██████▌   | 113/171 [00:00<00:00, 243.87it/s, now=None]\u001b[A\n",
            "t:  81%|████████▏ | 139/171 [00:00<00:00, 221.64it/s, now=None]\u001b[A\n",
            "t:  95%|█████████▍| 162/171 [00:00<00:00, 207.31it/s, now=None]\u001b[A\n",
            "  0%|          | 0/20 [03:25<?, ?it/s]"
          ]
        },
        {
          "output_type": "stream",
          "name": "stdout",
          "text": [
            "Moviepy - Done !\n",
            "Moviepy - video ready /content/video/rl-video-episode-0.mp4\n"
          ]
        },
        {
          "output_type": "stream",
          "name": "stderr",
          "text": [
            "  0%|          | 0/20 [03:26<?, ?it/s]"
          ]
        },
        {
          "output_type": "stream",
          "name": "stdout",
          "text": [
            "Moviepy - Building video /content/video/rl-video-episode-1.mp4.\n",
            "Moviepy - Writing video /content/video/rl-video-episode-1.mp4\n",
            "\n"
          ]
        },
        {
          "output_type": "stream",
          "name": "stderr",
          "text": [
            "\n",
            "t:   0%|          | 0/202 [00:00<?, ?it/s, now=None]\u001b[A\n",
            "t:  13%|█▎        | 26/202 [00:00<00:00, 251.25it/s, now=None]\u001b[A\n",
            "t:  26%|██▌       | 52/202 [00:00<00:00, 207.90it/s, now=None]\u001b[A\n",
            "t:  37%|███▋      | 74/202 [00:00<00:00, 184.45it/s, now=None]\u001b[A\n",
            "t:  46%|████▌     | 93/202 [00:00<00:00, 180.63it/s, now=None]\u001b[A\n",
            "t:  56%|█████▋    | 114/202 [00:00<00:00, 189.16it/s, now=None]\u001b[A\n",
            "t:  66%|██████▋   | 134/202 [00:00<00:00, 188.83it/s, now=None]\u001b[A\n",
            "t:  76%|███████▌  | 154/202 [00:00<00:00, 180.04it/s, now=None]\u001b[A\n",
            "t:  86%|████████▌ | 173/202 [00:00<00:00, 173.88it/s, now=None]\u001b[A\n",
            "t:  95%|█████████▍| 191/202 [00:01<00:00, 175.41it/s, now=None]\u001b[A\n",
            "  0%|          | 0/20 [03:28<?, ?it/s]"
          ]
        },
        {
          "output_type": "stream",
          "name": "stdout",
          "text": [
            "Moviepy - Done !\n",
            "Moviepy - video ready /content/video/rl-video-episode-1.mp4\n"
          ]
        },
        {
          "output_type": "stream",
          "name": "stderr",
          "text": [
            "  0%|          | 0/20 [03:29<?, ?it/s]"
          ]
        },
        {
          "output_type": "stream",
          "name": "stdout",
          "text": [
            "Moviepy - Building video /content/video/rl-video-episode-1.mp4.\n",
            "Moviepy - Writing video /content/video/rl-video-episode-1.mp4\n",
            "\n"
          ]
        },
        {
          "output_type": "stream",
          "name": "stderr",
          "text": [
            "\n",
            "t:   0%|          | 0/164 [00:00<?, ?it/s, now=None]\u001b[A\n",
            "t:  16%|█▌        | 26/164 [00:00<00:00, 259.97it/s, now=None]\u001b[A\n",
            "t:  32%|███▏      | 52/164 [00:00<00:00, 224.05it/s, now=None]\u001b[A\n",
            "t:  46%|████▌     | 75/164 [00:00<00:00, 196.02it/s, now=None]\u001b[A\n",
            "t:  59%|█████▊    | 96/164 [00:00<00:00, 178.27it/s, now=None]\u001b[A\n",
            "t:  70%|███████   | 115/164 [00:00<00:00, 174.15it/s, now=None]\u001b[A\n",
            "t:  81%|████████  | 133/164 [00:00<00:00, 170.31it/s, now=None]\u001b[A\n",
            "t:  92%|█████████▏| 151/164 [00:00<00:00, 170.00it/s, now=None]\u001b[A\n",
            "  0%|          | 0/20 [03:30<?, ?it/s]"
          ]
        },
        {
          "output_type": "stream",
          "name": "stdout",
          "text": [
            "Moviepy - Done !\n",
            "Moviepy - video ready /content/video/rl-video-episode-1.mp4\n"
          ]
        },
        {
          "output_type": "stream",
          "name": "stderr",
          "text": [
            "  0%|          | 0/20 [03:31<?, ?it/s]"
          ]
        },
        {
          "output_type": "stream",
          "name": "stdout",
          "text": [
            "Moviepy - Building video /content/video/rl-video-episode-8.mp4.\n",
            "Moviepy - Writing video /content/video/rl-video-episode-8.mp4\n",
            "\n"
          ]
        },
        {
          "output_type": "stream",
          "name": "stderr",
          "text": [
            "\n",
            "t:   0%|          | 0/1 [00:00<?, ?it/s, now=None]\u001b[A\n",
            "  0%|          | 0/20 [03:31<?, ?it/s]"
          ]
        },
        {
          "output_type": "stream",
          "name": "stdout",
          "text": [
            "Moviepy - Done !\n",
            "Moviepy - video ready /content/video/rl-video-episode-8.mp4\n"
          ]
        },
        {
          "output_type": "stream",
          "name": "stderr",
          "text": [
            "  0%|          | 0/20 [03:31<?, ?it/s]"
          ]
        },
        {
          "output_type": "stream",
          "name": "stdout",
          "text": [
            "Moviepy - Building video /content/video/rl-video-episode-8.mp4.\n",
            "Moviepy - Writing video /content/video/rl-video-episode-8.mp4\n",
            "\n"
          ]
        },
        {
          "output_type": "stream",
          "name": "stderr",
          "text": [
            "\n",
            "t:   0%|          | 0/164 [00:00<?, ?it/s, now=None]\u001b[A\n",
            "t:  24%|██▍       | 39/164 [00:00<00:00, 389.73it/s, now=None]\u001b[A\n",
            "t:  48%|████▊     | 78/164 [00:00<00:00, 300.26it/s, now=None]\u001b[A\n",
            "t:  67%|██████▋   | 110/164 [00:00<00:00, 277.65it/s, now=None]\u001b[A\n",
            "t:  85%|████████▍ | 139/164 [00:00<00:00, 271.75it/s, now=None]\u001b[A\n",
            "  0%|          | 0/20 [03:32<?, ?it/s]"
          ]
        },
        {
          "output_type": "stream",
          "name": "stdout",
          "text": [
            "Moviepy - Done !\n",
            "Moviepy - video ready /content/video/rl-video-episode-8.mp4\n"
          ]
        },
        {
          "output_type": "stream",
          "name": "stderr",
          "text": [
            "  0%|          | 0/20 [03:35<?, ?it/s]"
          ]
        },
        {
          "output_type": "stream",
          "name": "stdout",
          "text": [
            "Moviepy - Building video /content/video/rl-video-episode-27.mp4.\n",
            "Moviepy - Writing video /content/video/rl-video-episode-27.mp4\n",
            "\n"
          ]
        },
        {
          "output_type": "stream",
          "name": "stderr",
          "text": [
            "\n",
            "t:   0%|          | 0/1 [00:00<?, ?it/s, now=None]\u001b[A\n",
            "  0%|          | 0/20 [03:35<?, ?it/s]"
          ]
        },
        {
          "output_type": "stream",
          "name": "stdout",
          "text": [
            "Moviepy - Done !\n",
            "Moviepy - video ready /content/video/rl-video-episode-27.mp4\n"
          ]
        },
        {
          "output_type": "stream",
          "name": "stderr",
          "text": [
            "  0%|          | 0/20 [03:36<?, ?it/s]"
          ]
        },
        {
          "output_type": "stream",
          "name": "stdout",
          "text": [
            "Moviepy - Building video /content/video/rl-video-episode-27.mp4.\n",
            "Moviepy - Writing video /content/video/rl-video-episode-27.mp4\n",
            "\n"
          ]
        },
        {
          "output_type": "stream",
          "name": "stderr",
          "text": [
            "\n",
            "t:   0%|          | 0/176 [00:00<?, ?it/s, now=None]\u001b[A\n",
            "t:  23%|██▎       | 41/176 [00:00<00:00, 407.79it/s, now=None]\u001b[A\n",
            "t:  47%|████▋     | 82/176 [00:00<00:00, 288.70it/s, now=None]\u001b[A\n",
            "t:  64%|██████▍   | 113/176 [00:00<00:00, 270.04it/s, now=None]\u001b[A\n",
            "t:  80%|████████  | 141/176 [00:00<00:00, 259.48it/s, now=None]\u001b[A\n",
            "t:  95%|█████████▌| 168/176 [00:00<00:00, 256.72it/s, now=None]\u001b[A\n",
            "  0%|          | 0/20 [03:37<?, ?it/s]"
          ]
        },
        {
          "output_type": "stream",
          "name": "stdout",
          "text": [
            "Moviepy - Done !\n",
            "Moviepy - video ready /content/video/rl-video-episode-27.mp4\n"
          ]
        },
        {
          "output_type": "stream",
          "name": "stderr",
          "text": [
            "  0%|          | 0/20 [03:43<?, ?it/s]"
          ]
        },
        {
          "output_type": "stream",
          "name": "stdout",
          "text": [
            "Moviepy - Building video /content/video/rl-video-episode-64.mp4.\n",
            "Moviepy - Writing video /content/video/rl-video-episode-64.mp4\n",
            "\n"
          ]
        },
        {
          "output_type": "stream",
          "name": "stderr",
          "text": [
            "\n",
            "t:   0%|          | 0/1 [00:00<?, ?it/s, now=None]\u001b[A\n",
            "  0%|          | 0/20 [03:43<?, ?it/s]"
          ]
        },
        {
          "output_type": "stream",
          "name": "stdout",
          "text": [
            "Moviepy - Done !\n",
            "Moviepy - video ready /content/video/rl-video-episode-64.mp4\n"
          ]
        },
        {
          "output_type": "stream",
          "name": "stderr",
          "text": [
            "  0%|          | 0/20 [03:44<?, ?it/s]"
          ]
        },
        {
          "output_type": "stream",
          "name": "stdout",
          "text": [
            "Moviepy - Building video /content/video/rl-video-episode-64.mp4.\n",
            "Moviepy - Writing video /content/video/rl-video-episode-64.mp4\n",
            "\n"
          ]
        },
        {
          "output_type": "stream",
          "name": "stderr",
          "text": [
            "\n",
            "t:   0%|          | 0/202 [00:00<?, ?it/s, now=None]\u001b[A\n",
            "t:  22%|██▏       | 45/202 [00:00<00:00, 446.05it/s, now=None]\u001b[A\n",
            "t:  45%|████▍     | 90/202 [00:00<00:00, 301.24it/s, now=None]\u001b[A\n",
            "t:  61%|██████    | 123/202 [00:00<00:00, 279.67it/s, now=None]\u001b[A\n",
            "t:  76%|███████▌  | 153/202 [00:00<00:00, 279.83it/s, now=None]\u001b[A\n",
            "t:  90%|█████████ | 182/202 [00:00<00:00, 269.71it/s, now=None]\u001b[A\n",
            "  0%|          | 0/20 [03:45<?, ?it/s]"
          ]
        },
        {
          "output_type": "stream",
          "name": "stdout",
          "text": [
            "Moviepy - Done !\n",
            "Moviepy - video ready /content/video/rl-video-episode-64.mp4\n"
          ]
        },
        {
          "output_type": "stream",
          "name": "stderr",
          "text": [
            "  0%|          | 0/20 [03:46<?, ?it/s]"
          ]
        },
        {
          "output_type": "stream",
          "name": "stdout",
          "text": [
            "Moviepy - Building video /content/video/rl-video-episode-64.mp4.\n",
            "Moviepy - Writing video /content/video/rl-video-episode-64.mp4\n",
            "\n"
          ]
        },
        {
          "output_type": "stream",
          "name": "stderr",
          "text": [
            "\n",
            "t:   0%|          | 0/170 [00:00<?, ?it/s, now=None]\u001b[A\n",
            "t:  25%|██▌       | 43/170 [00:00<00:00, 421.46it/s, now=None]\u001b[A\n",
            "t:  51%|█████     | 86/170 [00:00<00:00, 293.44it/s, now=None]\u001b[A\n",
            "t:  69%|██████▉   | 118/170 [00:00<00:00, 269.88it/s, now=None]\u001b[A\n",
            "t:  86%|████████▋ | 147/170 [00:00<00:00, 274.40it/s, now=None]\u001b[A\n",
            "  0%|          | 0/20 [03:46<?, ?it/s]"
          ]
        },
        {
          "output_type": "stream",
          "name": "stdout",
          "text": [
            "Moviepy - Done !\n",
            "Moviepy - video ready /content/video/rl-video-episode-64.mp4\n"
          ]
        },
        {
          "output_type": "stream",
          "name": "stderr",
          "text": []
        },
        {
          "output_type": "display_data",
          "data": {
            "text/plain": [
              "<IPython.core.display.HTML object>"
            ],
            "text/html": [
              "<video alt=\"test\" autoplay\n",
              "                loop controls style=\"height: 400px;\">\n",
              "                <source src=\"data:video/mp4;base64,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\" type=\"video/mp4\" />\n",
              "             </video>"
            ]
          },
          "metadata": {}
        }
      ],
      "source": [
        "def ppo_main():\n",
        "  # Hyper parameters\n",
        "  lr = 1e-3\n",
        "  epochs = 20\n",
        "  env_samples = 100\n",
        "  gamma = 0.9\n",
        "  batch_size = 256\n",
        "  epsilon = 0.2\n",
        "  policy_epochs = 5\n",
        "\n",
        "  # Init environment\n",
        "  state_size = 4\n",
        "  action_size = 2\n",
        "  env = gym.make('CartPole-v1', render_mode=\"rgb_array\")\n",
        "\n",
        "  # Init networks\n",
        "  policy_network = PolicyNetwork(state_size, action_size).cuda()\n",
        "  value_network = ValueNetwork(state_size).cuda()\n",
        "\n",
        "  # Init optimizer\n",
        "  optim = torch.optim.Adam(chain(policy_network.parameters(), value_network.parameters()), lr=lr)\n",
        "\n",
        "  # Start main loop\n",
        "  results_ppo = []\n",
        "  loop = tqdm(total=epochs, position=0, leave=False)\n",
        "  for epoch in range(epochs):\n",
        "    ######################\n",
        "    last_epoch = (epoch+1 == epochs)\n",
        "    # Record only last epoch\n",
        "    if last_epoch:\n",
        "      env = wrap_env(env)\n",
        "    ######################\n",
        "\n",
        "    memory = []  # Reset memory every epoch\n",
        "    rewards = []  # Calculate average episodic reward per epoch\n",
        "\n",
        "    # Begin experience loop\n",
        "    for episode in range(env_samples):\n",
        "\n",
        "      # Reset environment\n",
        "      state, _ = env.reset()\n",
        "      done = False\n",
        "      rollout = []\n",
        "      cum_reward = 0  # Track cumulative reward\n",
        "\n",
        "      # Begin episode\n",
        "      while not done and cum_reward < 200:  # End after 200 steps\n",
        "        # Get action\n",
        "        action, action_dist = get_action_ppo(policy_network, state)\n",
        "\n",
        "        # Take step\n",
        "        next_state, reward, terminated, truncated, _ = env.step(action)\n",
        "        done = terminated or truncated\n",
        "        # env.render()\n",
        "\n",
        "        # Store step\n",
        "        rollout.append((state, action, action_dist, reward))\n",
        "\n",
        "        cum_reward += reward\n",
        "        state = next_state  # Set current state\n",
        "\n",
        "      # Calculate returns and add episode to memory\n",
        "      memory = calculate_return(memory, rollout, gamma)\n",
        "\n",
        "      rewards.append(cum_reward)\n",
        "      ######################\n",
        "      env.close()\n",
        "      ######################\n",
        "    # Train\n",
        "    dataset = RLDataset(memory)\n",
        "    loader = DataLoader(dataset, batch_size=batch_size, shuffle=True)\n",
        "    learn_ppo(optim, policy_network, value_network, loader, epsilon, policy_epochs)\n",
        "\n",
        "    # Print results\n",
        "    results_ppo.extend(rewards)  # Store rewards for this epoch\n",
        "    loop.update(1)\n",
        "    loop.set_description(\"Epochs: {} Reward: {}\".format(epoch, results_ppo[-1]))\n",
        "\n",
        "  return results_ppo\n",
        "\n",
        "results_ppo = ppo_main()\n",
        "######################\n",
        "show_video()\n",
        "######################"
      ]
    },
    {
      "cell_type": "code",
      "execution_count": null,
      "metadata": {
        "id": "pLXetCMpC1DE",
        "colab": {
          "base_uri": "https://localhost:8080/",
          "height": 430
        },
        "outputId": "f929d94b-62c4-406b-948b-f67be13b8182"
      },
      "outputs": [
        {
          "output_type": "display_data",
          "data": {
            "text/plain": [
              "<Figure size 640x480 with 1 Axes>"
            ],
            "image/png": "[encoded data removed]"
          },
          "metadata": {}
        }
      ],
      "source": [
        "plt.plot(results_ppo)\n",
        "plt.show()"
      ]
    }
  ],
  "metadata": {
    "accelerator": "GPU",
    "colab": {
      "provenance": []
    },
    "kernelspec": {
      "display_name": "Python 3",
      "language": "python",
      "name": "python3"
    },
    "language_info": {
      "codemirror_mode": {
        "name": "ipython",
        "version": 3
      },
      "file_extension": ".py",
      "mimetype": "text/x-python",
      "name": "python",
      "nbconvert_exporter": "python",
      "pygments_lexer": "ipython3",
      "version": "3.9.15"
    }
  },
  "nbformat": 4,
  "nbformat_minor": 0
}