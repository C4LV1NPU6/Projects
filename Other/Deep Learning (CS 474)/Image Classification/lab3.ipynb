{
  "cells": [
    {
      "cell_type": "markdown",
      "metadata": {
        "id": "xr0oS_3rdYKr"
      },
      "source": [
        "<a href=\"https://colab.research.google.com/github/wingated/cs474_labs_f2019/blob/master/DL_Lab3.ipynb\" target=\"_parent\"><img src=\"https://colab.research.google.com/assets/colab-badge.svg\" alt=\"Open In Colab\"/></a>"
      ]
    },
    {
      "cell_type": "markdown",
      "metadata": {
        "id": "view-in-github"
      },
      "source": [
        "# Lab 3: Intro to CNNs and DNNs\n",
        "\n",
        "## Objectives\n",
        "\n",
        "* Build and train a deep conv net\n",
        "* Explore and implement various initialization techniques\n",
        "* Implement a parameterized module in Pytorch\n",
        "* Use a principled loss function\n",
        "\n",
        "## Video Tutorial\n",
        "[https://youtu.be/3TAuTcx-VCc](https://youtu.be/3TAuTcx-VCc)\n",
        "\n",
        "## Deliverable\n",
        "For this lab, you will submit an ipython notebook via learningsuite.\n",
        "This is where you build your first deep neural network!\n",
        "\n",
        "For this lab, we'll be combining several different concepts that we've covered during class,\n",
        "including new layer types, initialization strategies, and an understanding of convolutions.\n",
        "\n",
        "## Grading Standards:\n",
        "* 20% Part 0: Successfully followed lab video and typed in code\n",
        "* 20% Part 1: Re-implement Conv2D and CrossEntropy loss function\n",
        "* 20% Part 2: Implement different initialization strategies\n",
        "* 10% Part 3: Print parameters, plot train/test accuracy\n",
        "* 10% Reach 85% validation accuracy from parts 1-3\n",
        "* 10% Part 4: Convolution parameters quiz\n",
        "* 10% Tidy and legible figures, including labeled axes where appropriate\n",
        "___\n",
        "\n",
        "### Part 0\n",
        "Watch and follow video tutorial:\n",
        "\n",
        "[https://youtu.be/3TAuTcx-VCc](https://youtu.be/3TAuTcx-VCc)\n",
        "\n",
        "**TODO:**\n",
        "\n",
        "**DONE:**\n",
        "\n",
        "* Watch tutorial"
      ]
    },
    {
      "cell_type": "code",
      "execution_count": 1,
      "metadata": {
        "pycharm": {
          "name": "#%%\n"
        },
        "id": "1OhFX_lndYKx",
        "colab": {
          "base_uri": "https://localhost:8080/"
        },
        "outputId": "77e3885b-2213-430d-e182-04e70499e0a5"
      },
      "outputs": [
        {
          "output_type": "stream",
          "name": "stdout",
          "text": [
            "Requirement already satisfied: torch in /usr/local/lib/python3.10/dist-packages (2.0.1+cu118)\n",
            "Requirement already satisfied: filelock in /usr/local/lib/python3.10/dist-packages (from torch) (3.12.2)\n",
            "Requirement already satisfied: typing-extensions in /usr/local/lib/python3.10/dist-packages (from torch) (4.5.0)\n",
            "Requirement already satisfied: sympy in /usr/local/lib/python3.10/dist-packages (from torch) (1.12)\n",
            "Requirement already satisfied: networkx in /usr/local/lib/python3.10/dist-packages (from torch) (3.1)\n",
            "Requirement already satisfied: jinja2 in /usr/local/lib/python3.10/dist-packages (from torch) (3.1.2)\n",
            "Requirement already satisfied: triton==2.0.0 in /usr/local/lib/python3.10/dist-packages (from torch) (2.0.0)\n",
            "Requirement already satisfied: cmake in /usr/local/lib/python3.10/dist-packages (from triton==2.0.0->torch) (3.27.4.1)\n",
            "Requirement already satisfied: lit in /usr/local/lib/python3.10/dist-packages (from triton==2.0.0->torch) (16.0.6)\n",
            "Requirement already satisfied: MarkupSafe>=2.0 in /usr/local/lib/python3.10/dist-packages (from jinja2->torch) (2.1.3)\n",
            "Requirement already satisfied: mpmath>=0.19 in /usr/local/lib/python3.10/dist-packages (from sympy->torch) (1.3.0)\n",
            "Requirement already satisfied: torchvision in /usr/local/lib/python3.10/dist-packages (0.15.2+cu118)\n",
            "Requirement already satisfied: numpy in /usr/local/lib/python3.10/dist-packages (from torchvision) (1.23.5)\n",
            "Requirement already satisfied: requests in /usr/local/lib/python3.10/dist-packages (from torchvision) (2.31.0)\n",
            "Requirement already satisfied: torch==2.0.1 in /usr/local/lib/python3.10/dist-packages (from torchvision) (2.0.1+cu118)\n",
            "Requirement already satisfied: pillow!=8.3.*,>=5.3.0 in /usr/local/lib/python3.10/dist-packages (from torchvision) (9.4.0)\n",
            "Requirement already satisfied: filelock in /usr/local/lib/python3.10/dist-packages (from torch==2.0.1->torchvision) (3.12.2)\n",
            "Requirement already satisfied: typing-extensions in /usr/local/lib/python3.10/dist-packages (from torch==2.0.1->torchvision) (4.5.0)\n",
            "Requirement already satisfied: sympy in /usr/local/lib/python3.10/dist-packages (from torch==2.0.1->torchvision) (1.12)\n",
            "Requirement already satisfied: networkx in /usr/local/lib/python3.10/dist-packages (from torch==2.0.1->torchvision) (3.1)\n",
            "Requirement already satisfied: jinja2 in /usr/local/lib/python3.10/dist-packages (from torch==2.0.1->torchvision) (3.1.2)\n",
            "Requirement already satisfied: triton==2.0.0 in /usr/local/lib/python3.10/dist-packages (from torch==2.0.1->torchvision) (2.0.0)\n",
            "Requirement already satisfied: cmake in /usr/local/lib/python3.10/dist-packages (from triton==2.0.0->torch==2.0.1->torchvision) (3.27.4.1)\n",
            "Requirement already satisfied: lit in /usr/local/lib/python3.10/dist-packages (from triton==2.0.0->torch==2.0.1->torchvision) (16.0.6)\n",
            "Requirement already satisfied: charset-normalizer<4,>=2 in /usr/local/lib/python3.10/dist-packages (from requests->torchvision) (3.2.0)\n",
            "Requirement already satisfied: idna<4,>=2.5 in /usr/local/lib/python3.10/dist-packages (from requests->torchvision) (3.4)\n",
            "Requirement already satisfied: urllib3<3,>=1.21.1 in /usr/local/lib/python3.10/dist-packages (from requests->torchvision) (2.0.4)\n",
            "Requirement already satisfied: certifi>=2017.4.17 in /usr/local/lib/python3.10/dist-packages (from requests->torchvision) (2023.7.22)\n",
            "Requirement already satisfied: MarkupSafe>=2.0 in /usr/local/lib/python3.10/dist-packages (from jinja2->torch==2.0.1->torchvision) (2.1.3)\n",
            "Requirement already satisfied: mpmath>=0.19 in /usr/local/lib/python3.10/dist-packages (from sympy->torch==2.0.1->torchvision) (1.3.0)\n",
            "Requirement already satisfied: tqdm in /usr/local/lib/python3.10/dist-packages (4.66.1)\n"
          ]
        }
      ],
      "source": [
        "!pip3 install torch\n",
        "!pip3 install torchvision\n",
        "!pip3 install tqdm"
      ]
    },
    {
      "cell_type": "markdown",
      "metadata": {
        "id": "WABD-t9AdYKz"
      },
      "source": []
    },
    {
      "cell_type": "code",
      "execution_count": 2,
      "metadata": {
        "collapsed": true,
        "id": "wQOefmcZVgTl"
      },
      "outputs": [],
      "source": [
        "import torch\n",
        "import torch.nn as nn\n",
        "import torch.nn.functional as F\n",
        "import torch.optim as optim\n",
        "from torch.utils.data import Dataset, DataLoader\n",
        "import numpy as np\n",
        "import matplotlib.pyplot as plt\n",
        "from torchvision import transforms, utils, datasets\n",
        "from tqdm import tqdm\n",
        "from torch.nn.parameter import Parameter\n",
        "import pdb\n",
        "\n",
        "assert torch.cuda.is_available(), \"You need to request a GPU from Runtime > Change Runtime\""
      ]
    },
    {
      "cell_type": "code",
      "source": [
        "from torch.nn.parameter import Parameter\n",
        "import pdb"
      ],
      "metadata": {
        "id": "I96SwJmuu65t"
      },
      "execution_count": 3,
      "outputs": []
    },
    {
      "cell_type": "code",
      "execution_count": 4,
      "metadata": {
        "collapsed": true,
        "id": "Il_53HLSWPTY"
      },
      "outputs": [],
      "source": [
        "# Use the dataset class you created in lab2\n",
        "\n",
        "class FashionMNISTProcessedDataset(Dataset):\n",
        "  def __init__(self, root, train=True):\n",
        "    self.data = datasets.FashionMNIST(root, train=train, transform=transforms.ToTensor(), download=True)\n",
        "\n",
        "  def __getitem__(self, i):\n",
        "    x, y = self.data[i]\n",
        "    return x, y\n",
        "\n",
        "  def __len__(self):\n",
        "    return len(self.data)"
      ]
    },
    {
      "cell_type": "markdown",
      "metadata": {
        "id": "QY4owfQwm-Ni"
      },
      "source": [
        "___\n",
        "\n",
        "### Part 1\n",
        "Re-implement a Conv2D module with parameters and a CrossEntropy loss function.\n",
        "\n",
        "**TODO:**\n",
        "\n",
        "**DONE:**\n",
        "\n",
        "* Conv2D\n",
        "* CrossEntropyLoss\n",
        "\n",
        "___\n",
        "\n",
        "### Part 2\n",
        "Implement a few initialization strategies which can include Xe initialization\n",
        "(sometimes called Xavier), Orthogonal initialization, and uniform random.\n",
        "You can specify which strategy you want to use with a parameter.\n",
        "\n",
        "\n",
        "\n",
        "Helpful links include:\n",
        "*  [Orthogonal Initialization](https://hjweide.github.io/orthogonal-initialization-in-convolutional-layers) (or the original paper: http://arxiv.org/abs/1312.6120)\n",
        "*  http://andyljones.tumblr.com/post/110998971763/an-explanation-of-xavier-initialization\n",
        "\n",
        "**TODO:**\n",
        "\n",
        "**DONE:**\n",
        "* Parameterize custom Conv2D for different initilization strategies\n",
        "** Xe\n",
        "** Orthogonal\n",
        "** Uniform"
      ]
    },
    {
      "cell_type": "code",
      "execution_count": 5,
      "metadata": {
        "collapsed": true,
        "id": "RkieTbwlYWPS"
      },
      "outputs": [],
      "source": [
        "class CrossEntropyLoss(nn.Module):\n",
        "  def __init__(self, weight=None, size_average=None, ignore_index=-100, reduce=None, reduction='mean', label_smoothing=0.0):\n",
        "    self.__dict__.update(locals())\n",
        "    super(CrossEntropyLoss, self).__init__()\n",
        "\n",
        "  def forward(self, y_hat, y_truth):\n",
        "    a = torch.arange(y_hat.size()[0])\n",
        "    b = y_hat[a, y_truth]\n",
        "    return torch.mean(-b + torch.logsumexp(y_hat, 1))\n",
        "\n",
        "\n",
        "class Conv2d(nn.Module):\n",
        "  def __init__(self, in_channels, out_channels, kernel_size, init_strategy='xav', stride=1, padding=0, dilation=1, groups=1, bias=True):\n",
        "    self.__dict__.update(locals())\n",
        "    super(Conv2d, self).__init__()\n",
        "\n",
        "    self.weight = Parameter(torch.Tensor(out_channels, in_channels, *kernel_size))\n",
        "    self.bias = Parameter(torch.Tensor(out_channels))\n",
        "\n",
        "    self.bias.data.uniform_(0, 0)\n",
        "\n",
        "    if init_strategy == 'xav':\n",
        "      nn.init.xavier_uniform_(self.weight)\n",
        "    elif init_strategy == 'orth':\n",
        "      M = np.random.random((out_channels, in_channels*kernel_size[0]*kernel_size[1])).astype(np.float32)\n",
        "      U, _, Vt = np.linalg.svd(M, full_matrices=False)\n",
        "      if len(M) > len(M[0]):\n",
        "          mat = U\n",
        "      else:\n",
        "          mat = Vt\n",
        "      W = mat.reshape((self.out_channels, self.in_channels, *kernel_size))\n",
        "      self.weight.data = torch.from_numpy(W)\n",
        "    elif init_strategy == 'uni':\n",
        "      self.weight.data.uniform_(-1, 1)\n",
        "    else:\n",
        "      nn.init.xavier_uniform_(self.weight)\n",
        "\n",
        "  def forward(self, x):\n",
        "    return F.conv2d(x, self.weight, self.bias, self.stride, self.padding, self.dilation, self.groups)\n"
      ]
    },
    {
      "cell_type": "code",
      "execution_count": 6,
      "metadata": {
        "collapsed": true,
        "id": "d4C-_v9Hm7YE"
      },
      "outputs": [],
      "source": [
        "class ConvNetwork(nn.Module):\n",
        "  def __init__(self, dataset):\n",
        "    super(ConvNetwork, self).__init__()\n",
        "    x, y = dataset[0]\n",
        "    c, h, w = x.size()\n",
        "    output = 10\n",
        "\n",
        "    self.net = nn.Sequential(\n",
        "        Conv2d(in_channels=c,  out_channels=10, kernel_size=(3, 3), padding=(1, 1)),\n",
        "            nn.ReLU(),\n",
        "            Conv2d(in_channels=10, out_channels=30, kernel_size=(3, 3), padding=(0, 0)),\n",
        "            nn.ReLU(),\n",
        "            Conv2d(in_channels=30, out_channels=64, kernel_size=(3, 3), padding=(0, 0)),\n",
        "            nn.ReLU(),\n",
        "            Conv2d(in_channels=64, out_channels=300, kernel_size=(3, 3), padding=(1, 1)),\n",
        "            nn.ReLU(),\n",
        "            Conv2d(in_channels=300, out_channels=250, kernel_size=(3, 3), padding=(1, 1)),\n",
        "            nn.ReLU(),\n",
        "            Conv2d(in_channels=250, out_channels=100, kernel_size=(3, 3), padding=(1, 1)),\n",
        "            nn.ReLU(),\n",
        "            Conv2d(in_channels=100, out_channels=40, kernel_size=(3, 3), padding=(1, 1)),\n",
        "            nn.ReLU(),\n",
        "            Conv2d(40, output, (24, 24), padding=(0, 0)),\n",
        "    )\n",
        "\n",
        "  def forward(self, x):\n",
        "    return self.net(x).squeeze(2).squeeze(2)"
      ]
    },
    {
      "cell_type": "code",
      "execution_count": 7,
      "metadata": {
        "collapsed": true,
        "id": "jYqywck8Wdm9",
        "pycharm": {
          "is_executing": false
        }
      },
      "outputs": [],
      "source": [
        "# Initialize Datasets\n",
        "\n",
        "# Initialize DataLoaders\n",
        "\n",
        "# Initialize Model\n",
        "\n",
        "# Initialize Objective and Optimizer and other parameters\n",
        "\n",
        "train_dataset = FashionMNISTProcessedDataset('/tmp/fashionmnist', train=True)\n",
        "val_dataset = FashionMNISTProcessedDataset('/tmp/fashionmnist', train=False)\n",
        "model = ConvNetwork(train_dataset)\n",
        "model = model.cuda()\n",
        "objective = CrossEntropyLoss(model)\n",
        "optimizer = optim.Adam(model.parameters(), lr=1e-4)\n",
        "train_loader = DataLoader(train_dataset, batch_size=42, pin_memory=True)\n",
        "val_loader = DataLoader(val_dataset, batch_size=42, pin_memory=True)"
      ]
    },
    {
      "cell_type": "code",
      "execution_count": 8,
      "metadata": {
        "collapsed": true,
        "id": "mTg1jyIsYVZN",
        "pycharm": {
          "is_executing": false
        },
        "colab": {
          "base_uri": "https://localhost:8080/"
        },
        "outputId": "562d9cf7-f131-4f52-bd15-3bde339ccd10"
      },
      "outputs": [
        {
          "output_type": "stream",
          "name": "stderr",
          "text": []
        }
      ],
      "source": [
        "# Run your training and validation loop and collect stats\n",
        "\n",
        "losses = []\n",
        "train_accuracies = []\n",
        "val_accuracies = []\n",
        "validations = []\n",
        "\n",
        "for epoch in range(1):\n",
        "  loop = tqdm(total=len(train_loader), position=0, leave=False)\n",
        "\n",
        "  for batch, (x, y_truth) in enumerate(train_loader):\n",
        "    x, y_truth = x.cuda(non_blocking=True), y_truth.cuda(non_blocking=True)\n",
        "\n",
        "    optimizer.zero_grad()\n",
        "    y_hat = model(x)\n",
        "\n",
        "    loss = objective(y_hat, y_truth)\n",
        "    loss.backward()\n",
        "\n",
        "    optimizer.step()\n",
        "\n",
        "    train_accuracy = (y_hat.argmax(1) == y_truth).float().mean()\n",
        "\n",
        "    losses.append(loss.item())\n",
        "    train_accuracies.append(train_accuracy.item())\n",
        "\n",
        "    loop.set_description('epoch:{}, loss:{:.4f}, train accuracy:{:.3f}'.format(epoch, loss.item(), train_accuracy))\n",
        "    loop.update(1)\n",
        "\n",
        "    if batch % 100 == 0:\n",
        "      val = np.mean([objective(model(x.cuda()), y.cuda()).item() for x, y in val_loader])\n",
        "      validations.append((len(losses), val))\n",
        "\n",
        "      #val_score_mean = np.mean([(model(x_val.cuda()).argmax(1) == y_truth_val.cuda()).float().mean() for x_val, y_truth_val in val_loader])\n",
        "      val_scores = np.zeros(len(val_loader))\n",
        "      for i, (x_val, y_truth_val) in enumerate(val_loader):\n",
        "          x_val, y_truth_val = x_val.cuda(non_blocking=True), y_truth_val.cuda(non_blocking=True)\n",
        "          y_hat_val = model(x_val)\n",
        "          val_scores[i] = (y_hat_val.argmax(1) == y_truth_val).float().mean()\n",
        "          loop.update()\n",
        "      val_score_mean = np.mean(val_scores)\n",
        "      val_accuracies.append(val_score_mean)\n",
        "\n",
        "  loop.close()"
      ]
    },
    {
      "cell_type": "markdown",
      "metadata": {
        "id": "ronkEckHiDaU"
      },
      "source": [
        "\n",
        "___\n",
        "\n",
        "### Part 3\n",
        "Print the number of parameters in your network and plot accuracy of your training and validation\n",
        "set over time. You should experiment with some deep networks and see if you can get a network\n",
        "with close to 1,000,000 parameters.\n",
        "\n",
        "Once you've experimented with multiple network setups and the different initialization strategies, plot the best-performing experiment here. You should be able to exceed 85% accuracy on the validation set.\n",
        "\n",
        "**TODO:**\n",
        "\n",
        "**DONE:**\n",
        "* Experiment with Deep Networks\n",
        "* Plot accuracy of training and validation set over time\n",
        "* Print out number of parameters in the model\n",
        "* Plot experiment results with 85% or better validation accuracy\n"
      ]
    },
    {
      "cell_type": "code",
      "execution_count": 9,
      "metadata": {
        "collapsed": true,
        "id": "PaWCKjxvyRSf",
        "pycharm": {
          "is_executing": false
        },
        "colab": {
          "base_uri": "https://localhost:8080/",
          "height": 927
        },
        "outputId": "03d464be-496f-4261-c121-5609fcaaac7e"
      },
      "outputs": [
        {
          "output_type": "display_data",
          "data": {
            "text/plain": [
              "<Figure size 640x480 with 1 Axes>"
            ],
            "image/png": "[encoded data removed]"
          },
          "metadata": {}
        },
        {
          "output_type": "display_data",
          "data": {
            "text/plain": [
              "<Figure size 640x480 with 1 Axes>"
            ],
            "image/png": "[encoded data removed]"
          },
          "metadata": {}
        }
      ],
      "source": [
        "# Go back up and try a few different networks and initialization strategies\n",
        "# Plot loss if you want\n",
        "# Plot accuracy\n",
        "\n",
        "a, b = zip(*validations)\n",
        "plt.plot(losses, label='train')\n",
        "plt.plot(a, b, label='val')\n",
        "plt.title('Loss')\n",
        "plt.xlabel('iterations')\n",
        "plt.ylabel('loss')\n",
        "plt.legend()\n",
        "plt.show()\n",
        "\n",
        "plt.plot(train_accuracies, label='train accuracies')\n",
        "plt.plot(a, val_accuracies, label='val accuracies')\n",
        "plt.title('Accuracy')\n",
        "plt.xlabel('iterations')\n",
        "plt.ylabel('accuracy')\n",
        "plt.legend()\n",
        "plt.show()"
      ]
    },
    {
      "cell_type": "code",
      "execution_count": 10,
      "metadata": {
        "collapsed": true,
        "id": "oijCR-JnyS6V",
        "pycharm": {
          "is_executing": false
        },
        "colab": {
          "base_uri": "https://localhost:8080/"
        },
        "outputId": "ec98654c-0b30-44cc-a180-867001a2fad8"
      },
      "outputs": [
        {
          "output_type": "stream",
          "name": "stdout",
          "text": [
            "net.0.weight : 10x1x3x3 = 90\n",
            "net.0.bias : 10\n",
            "net.2.weight : 30x10x3x3 = 2700\n",
            "net.2.bias : 30\n",
            "net.4.weight : 64x30x3x3 = 17280\n",
            "net.4.bias : 64\n",
            "net.6.weight : 300x64x3x3 = 172800\n",
            "net.6.bias : 300\n",
            "net.8.weight : 250x300x3x3 = 675000\n",
            "net.8.bias : 250\n",
            "net.10.weight : 100x250x3x3 = 225000\n",
            "net.10.bias : 100\n",
            "net.12.weight : 40x100x3x3 = 36000\n",
            "net.12.bias : 40\n",
            "net.14.weight : 10x40x24x24 = 230400\n",
            "net.14.bias : 10\n",
            "Total parameters = 1360074\n"
          ]
        }
      ],
      "source": [
        "# Compute and print the number of parameters in the model\n",
        "def count_parameters(model):\n",
        "    total_param = 0\n",
        "    for name, param in model.named_parameters():\n",
        "        if param.requires_grad:\n",
        "            num_param = np.prod(param.size())\n",
        "            if param.dim() > 1:\n",
        "                print(name, ':', 'x'.join(str(x) for x in list(param.size())), '=', num_param)\n",
        "            else:\n",
        "                print(name, ':', num_param)\n",
        "            total_param += num_param\n",
        "    return total_param\n",
        "\n",
        "print('Total parameters =', count_parameters(model))"
      ]
    },
    {
      "cell_type": "markdown",
      "metadata": {
        "id": "7hXGRxUQh9gX"
      },
      "source": [
        "___\n",
        "\n",
        "### Part 4\n",
        "Learn about how convolution layers affect the shape of outputs, and answer the following quiz questions. Include these in a new markdown cell in your jupyter notebook.\n",
        "\n",
        "\n",
        "*Using a Kernel size of 3×3 what should the settings of your 2d convolution be that results in the following mappings (first answer given to you)*\n",
        "\n",
        "* (c=3, h=10, w=10) ⇒ (c=10, h=8, w=8) : (out_channels=10, kernel_size=(3, 3), padding=(0, 0))\n",
        "* (c=3, h=10, w=10) ⇒ (c=22, h=10, w=10) : **(22, (3, 3), (1, 1))**\n",
        "* (c=3, h=10, w=10) ⇒ (c=65, h=12, w=12) : **(65, (3, 3), (2, 2))**\n",
        "* (c=3, h=10, w=10) ⇒ (c=7, h=20, w=20) : **(7, (3, 3), (6, 6)**\n",
        "\n",
        "*Using a Kernel size of 5×5:*)\n",
        "\n",
        "* (c=3, h=10, w=10) ⇒ (c=10, h=8, w=8) : (out_channels=10, kernel_size=(5, 5), padding=(1, 1))\n",
        "* (c=3, h=10, w=10) ⇒ (c=100, h=10, w=10) : **(100, (5,5), (2,2))**\n",
        "* (c=3, h=10, w=10) ⇒ (c=23, h=12, w=12) : **(23, (5,5), (3,3))**\n",
        "* (c=3, h=10, w=10) ⇒ (c=5, h=24, w=24) : **(5, (5,5), (9,9))**\n",
        "\n",
        "*Using Kernel size of 5×3:*\n",
        "\n",
        "* (c=3, h=10, w=10) ⇒ (c=10, h=8, w=8) : **(10, (5,3), (1,0))**\n",
        "* (c=3, h=10, w=10) ⇒ (c=100, h=10, w=10) : **(100, (5,3), (2,1))**\n",
        "* (c=3, h=10, w=10) ⇒ (c=23, h=12, w=12) : **(23, (5,3), (3,2))**\n",
        "* (c=3, h=10, w=10) ⇒ (c=5, h=24, w=24) : **(5, (5,3), (9,8))**\n",
        "\n",
        "*Determine the kernel that requires the smallest padding size to make the following mappings possible:*\n",
        "\n",
        "* (c=3, h=10, w=10) ⇒ (c=10, h=9, w=7) : **( (2, 4) )**\n",
        "* (c=3, h=10, w=10) ⇒ (c=22, h=10, w=10) : **( (1, 1) )**\n",
        "\n",
        "**TODO:**\n",
        "\n",
        "**DONE:**\n",
        "\n",
        "* Answer all the questions above\n"
      ]
    },
    {
      "cell_type": "code",
      "execution_count": 11,
      "metadata": {
        "collapsed": true,
        "id": "XXfG3wClh8an",
        "pycharm": {
          "is_executing": false
        },
        "colab": {
          "base_uri": "https://localhost:8080/"
        },
        "outputId": "b56bb9a0-f42c-4a3e-f8a4-58986c0d5d59"
      },
      "outputs": [
        {
          "output_type": "stream",
          "name": "stdout",
          "text": [
            "torch.Size([1, 65, 12, 12])\n",
            "torch.Size([1, 5, 24, 24])\n",
            "torch.Size([1, 100, 10, 10])\n"
          ]
        }
      ],
      "source": [
        "# Write some test code for checking the answers for these problems (example shown in the video)\n",
        "c = nn.Conv2d(in_channels=3, out_channels=65, kernel_size=(3,3), padding=(2,2))\n",
        "print(c(torch.zeros(1, 3, 10, 10)).size())\n",
        "\n",
        "c = nn.Conv2d(in_channels=3, out_channels=5, kernel_size=(5,5), padding=(9,9))\n",
        "print(c(torch.zeros(1, 3, 10, 10)).size())\n",
        "\n",
        "c = nn.Conv2d(in_channels=3, out_channels=100, kernel_size=(5,3), padding=(2,1))\n",
        "print(c(torch.zeros(1, 3, 10, 10)).size())"
      ]
    }
  ],
  "metadata": {
    "accelerator": "GPU",
    "colab": {
      "provenance": [],
      "gpuType": "T4"
    },
    "kernelspec": {
      "display_name": "Python 3",
      "name": "python3"
    },
    "language_info": {
      "codemirror_mode": {
        "name": "ipython",
        "version": 3
      },
      "file_extension": ".py",
      "mimetype": "text/x-python",
      "name": "python",
      "nbconvert_exporter": "python",
      "pygments_lexer": "ipython3",
      "version": "3.7.1"
    },
    "pycharm": {
      "stem_cell": {
        "cell_type": "raw",
        "metadata": {
          "collapsed": false
        },
        "source": []
      }
    }
  },
  "nbformat": 4,
  "nbformat_minor": 0
}